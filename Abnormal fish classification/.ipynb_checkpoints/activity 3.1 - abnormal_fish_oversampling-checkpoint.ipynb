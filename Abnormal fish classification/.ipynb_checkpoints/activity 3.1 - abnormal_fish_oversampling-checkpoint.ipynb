{
 "cells": [
  {
   "cell_type": "markdown",
   "source": [
    "**Professor:** Enrique Garcia Ceja\n",
    "**email:** enrique.gc@tec.mx"
   ],
   "metadata": {
    "id": "_H3XH44Yfa39"
   }
  },
  {
   "cell_type": "markdown",
   "metadata": {
    "id": "ipvbO_qvKxns"
   },
   "source": [
    "# Demo: Compare abnormal fish behaviors (oversampling and weighted model).\n",
    "\n",
    "**Files: fishFeatures.csv**\n",
    "\n",
    "Refer to the *fish-behaviors.pptx* presentation for details about the dataset.\n"
   ]
  },
  {
   "cell_type": "code",
   "metadata": {
    "id": "kmXiTFnaKxnv",
    "executionInfo": {
     "status": "ok",
     "timestamp": 1731366794811,
     "user_tz": 360,
     "elapsed": 8228,
     "user": {
      "displayName": "Enrique García Ceja",
      "userId": "06135481028082737011"
     }
    },
    "ExecuteTime": {
     "end_time": "2024-11-17T06:57:23.263999Z",
     "start_time": "2024-11-17T06:57:23.262028Z"
    }
   },
   "source": [
    "import pandas as pd\n",
    "import numpy as np\n",
    "import tensorflow as tf\n",
    "from tensorflow import keras\n",
    "from sklearn.metrics import accuracy_score, recall_score"
   ],
   "outputs": [],
   "execution_count": 78
  },
  {
   "cell_type": "code",
   "metadata": {
    "id": "1opx44c_Kxnx",
    "executionInfo": {
     "status": "ok",
     "timestamp": 1731366795934,
     "user_tz": 360,
     "elapsed": 163,
     "user": {
      "displayName": "Enrique García Ceja",
      "userId": "06135481028082737011"
     }
    },
    "ExecuteTime": {
     "end_time": "2024-11-17T06:57:23.451736Z",
     "start_time": "2024-11-17T06:57:23.447400Z"
    }
   },
   "source": [
    "# Path to the dataset.\n",
    "filepath = \"fishFeatures-4.csv\"\n",
    "\n",
    "# Read the data\n",
    "dataset = pd.read_csv(filepath)"
   ],
   "outputs": [],
   "execution_count": 79
  },
  {
   "cell_type": "code",
   "metadata": {
    "colab": {
     "base_uri": "https://localhost:8080/",
     "height": 206
    },
    "id": "VfbrPqK0Kxnx",
    "executionInfo": {
     "status": "ok",
     "timestamp": 1731366798117,
     "user_tz": 360,
     "elapsed": 313,
     "user": {
      "displayName": "Enrique García Ceja",
      "userId": "06135481028082737011"
     }
    },
    "outputId": "5c1ac9ee-ece4-4bef-e708-d986ccaeb2f1",
    "ExecuteTime": {
     "end_time": "2024-11-17T06:57:23.473946Z",
     "start_time": "2024-11-17T06:57:23.468723Z"
    }
   },
   "source": [
    "dataset.head()"
   ],
   "outputs": [
    {
     "data": {
      "text/plain": [
       "    id   label  f.meanSpeed  f.sdSpeed  f.minSpeed  f.maxSpeed  f.meanAcc  \\\n",
       "0  id1  normal     2.623236   2.228456    0.500000    8.225342  -0.053660   \n",
       "1  id2  normal     5.984859   3.820270    1.414214   15.101738  -0.038705   \n",
       "2  id3  normal    16.608716  14.502042    0.707107   46.424670  -1.000196   \n",
       "3  id5  normal     4.808608   4.137387    0.500000   17.204651  -0.281815   \n",
       "4  id6  normal    17.785747   9.926729    3.354102   44.240818  -0.537534   \n",
       "\n",
       "     f.sdAcc   f.minAcc   f.maxAcc  \n",
       "0   1.839475  -5.532760   3.500000  \n",
       "1   2.660073  -7.273932   7.058594  \n",
       "2  12.890386 -24.320298  30.714624  \n",
       "3   5.228209 -12.204651  15.623512  \n",
       "4  11.272472 -22.178067  21.768613  "
      ],
      "text/html": [
       "<div>\n",
       "<style scoped>\n",
       "    .dataframe tbody tr th:only-of-type {\n",
       "        vertical-align: middle;\n",
       "    }\n",
       "\n",
       "    .dataframe tbody tr th {\n",
       "        vertical-align: top;\n",
       "    }\n",
       "\n",
       "    .dataframe thead th {\n",
       "        text-align: right;\n",
       "    }\n",
       "</style>\n",
       "<table border=\"1\" class=\"dataframe\">\n",
       "  <thead>\n",
       "    <tr style=\"text-align: right;\">\n",
       "      <th></th>\n",
       "      <th>id</th>\n",
       "      <th>label</th>\n",
       "      <th>f.meanSpeed</th>\n",
       "      <th>f.sdSpeed</th>\n",
       "      <th>f.minSpeed</th>\n",
       "      <th>f.maxSpeed</th>\n",
       "      <th>f.meanAcc</th>\n",
       "      <th>f.sdAcc</th>\n",
       "      <th>f.minAcc</th>\n",
       "      <th>f.maxAcc</th>\n",
       "    </tr>\n",
       "  </thead>\n",
       "  <tbody>\n",
       "    <tr>\n",
       "      <th>0</th>\n",
       "      <td>id1</td>\n",
       "      <td>normal</td>\n",
       "      <td>2.623236</td>\n",
       "      <td>2.228456</td>\n",
       "      <td>0.500000</td>\n",
       "      <td>8.225342</td>\n",
       "      <td>-0.053660</td>\n",
       "      <td>1.839475</td>\n",
       "      <td>-5.532760</td>\n",
       "      <td>3.500000</td>\n",
       "    </tr>\n",
       "    <tr>\n",
       "      <th>1</th>\n",
       "      <td>id2</td>\n",
       "      <td>normal</td>\n",
       "      <td>5.984859</td>\n",
       "      <td>3.820270</td>\n",
       "      <td>1.414214</td>\n",
       "      <td>15.101738</td>\n",
       "      <td>-0.038705</td>\n",
       "      <td>2.660073</td>\n",
       "      <td>-7.273932</td>\n",
       "      <td>7.058594</td>\n",
       "    </tr>\n",
       "    <tr>\n",
       "      <th>2</th>\n",
       "      <td>id3</td>\n",
       "      <td>normal</td>\n",
       "      <td>16.608716</td>\n",
       "      <td>14.502042</td>\n",
       "      <td>0.707107</td>\n",
       "      <td>46.424670</td>\n",
       "      <td>-1.000196</td>\n",
       "      <td>12.890386</td>\n",
       "      <td>-24.320298</td>\n",
       "      <td>30.714624</td>\n",
       "    </tr>\n",
       "    <tr>\n",
       "      <th>3</th>\n",
       "      <td>id5</td>\n",
       "      <td>normal</td>\n",
       "      <td>4.808608</td>\n",
       "      <td>4.137387</td>\n",
       "      <td>0.500000</td>\n",
       "      <td>17.204651</td>\n",
       "      <td>-0.281815</td>\n",
       "      <td>5.228209</td>\n",
       "      <td>-12.204651</td>\n",
       "      <td>15.623512</td>\n",
       "    </tr>\n",
       "    <tr>\n",
       "      <th>4</th>\n",
       "      <td>id6</td>\n",
       "      <td>normal</td>\n",
       "      <td>17.785747</td>\n",
       "      <td>9.926729</td>\n",
       "      <td>3.354102</td>\n",
       "      <td>44.240818</td>\n",
       "      <td>-0.537534</td>\n",
       "      <td>11.272472</td>\n",
       "      <td>-22.178067</td>\n",
       "      <td>21.768613</td>\n",
       "    </tr>\n",
       "  </tbody>\n",
       "</table>\n",
       "</div>"
      ]
     },
     "execution_count": 80,
     "metadata": {},
     "output_type": "execute_result"
    }
   ],
   "execution_count": 80
  },
  {
   "cell_type": "code",
   "source": [
    "# remove id column\n",
    "dataset = dataset.drop('id', axis=1)\n",
    "dataset.head()\n"
   ],
   "metadata": {
    "colab": {
     "base_uri": "https://localhost:8080/",
     "height": 206
    },
    "id": "klqTjKrhQ7Ul",
    "executionInfo": {
     "status": "ok",
     "timestamp": 1731366804048,
     "user_tz": 360,
     "elapsed": 151,
     "user": {
      "displayName": "Enrique García Ceja",
      "userId": "06135481028082737011"
     }
    },
    "outputId": "173becc8-49ef-4fb8-96a1-ebc5b51b1e0c",
    "ExecuteTime": {
     "end_time": "2024-11-17T06:57:23.486715Z",
     "start_time": "2024-11-17T06:57:23.481141Z"
    }
   },
   "outputs": [
    {
     "data": {
      "text/plain": [
       "    label  f.meanSpeed  f.sdSpeed  f.minSpeed  f.maxSpeed  f.meanAcc  \\\n",
       "0  normal     2.623236   2.228456    0.500000    8.225342  -0.053660   \n",
       "1  normal     5.984859   3.820270    1.414214   15.101738  -0.038705   \n",
       "2  normal    16.608716  14.502042    0.707107   46.424670  -1.000196   \n",
       "3  normal     4.808608   4.137387    0.500000   17.204651  -0.281815   \n",
       "4  normal    17.785747   9.926729    3.354102   44.240818  -0.537534   \n",
       "\n",
       "     f.sdAcc   f.minAcc   f.maxAcc  \n",
       "0   1.839475  -5.532760   3.500000  \n",
       "1   2.660073  -7.273932   7.058594  \n",
       "2  12.890386 -24.320298  30.714624  \n",
       "3   5.228209 -12.204651  15.623512  \n",
       "4  11.272472 -22.178067  21.768613  "
      ],
      "text/html": [
       "<div>\n",
       "<style scoped>\n",
       "    .dataframe tbody tr th:only-of-type {\n",
       "        vertical-align: middle;\n",
       "    }\n",
       "\n",
       "    .dataframe tbody tr th {\n",
       "        vertical-align: top;\n",
       "    }\n",
       "\n",
       "    .dataframe thead th {\n",
       "        text-align: right;\n",
       "    }\n",
       "</style>\n",
       "<table border=\"1\" class=\"dataframe\">\n",
       "  <thead>\n",
       "    <tr style=\"text-align: right;\">\n",
       "      <th></th>\n",
       "      <th>label</th>\n",
       "      <th>f.meanSpeed</th>\n",
       "      <th>f.sdSpeed</th>\n",
       "      <th>f.minSpeed</th>\n",
       "      <th>f.maxSpeed</th>\n",
       "      <th>f.meanAcc</th>\n",
       "      <th>f.sdAcc</th>\n",
       "      <th>f.minAcc</th>\n",
       "      <th>f.maxAcc</th>\n",
       "    </tr>\n",
       "  </thead>\n",
       "  <tbody>\n",
       "    <tr>\n",
       "      <th>0</th>\n",
       "      <td>normal</td>\n",
       "      <td>2.623236</td>\n",
       "      <td>2.228456</td>\n",
       "      <td>0.500000</td>\n",
       "      <td>8.225342</td>\n",
       "      <td>-0.053660</td>\n",
       "      <td>1.839475</td>\n",
       "      <td>-5.532760</td>\n",
       "      <td>3.500000</td>\n",
       "    </tr>\n",
       "    <tr>\n",
       "      <th>1</th>\n",
       "      <td>normal</td>\n",
       "      <td>5.984859</td>\n",
       "      <td>3.820270</td>\n",
       "      <td>1.414214</td>\n",
       "      <td>15.101738</td>\n",
       "      <td>-0.038705</td>\n",
       "      <td>2.660073</td>\n",
       "      <td>-7.273932</td>\n",
       "      <td>7.058594</td>\n",
       "    </tr>\n",
       "    <tr>\n",
       "      <th>2</th>\n",
       "      <td>normal</td>\n",
       "      <td>16.608716</td>\n",
       "      <td>14.502042</td>\n",
       "      <td>0.707107</td>\n",
       "      <td>46.424670</td>\n",
       "      <td>-1.000196</td>\n",
       "      <td>12.890386</td>\n",
       "      <td>-24.320298</td>\n",
       "      <td>30.714624</td>\n",
       "    </tr>\n",
       "    <tr>\n",
       "      <th>3</th>\n",
       "      <td>normal</td>\n",
       "      <td>4.808608</td>\n",
       "      <td>4.137387</td>\n",
       "      <td>0.500000</td>\n",
       "      <td>17.204651</td>\n",
       "      <td>-0.281815</td>\n",
       "      <td>5.228209</td>\n",
       "      <td>-12.204651</td>\n",
       "      <td>15.623512</td>\n",
       "    </tr>\n",
       "    <tr>\n",
       "      <th>4</th>\n",
       "      <td>normal</td>\n",
       "      <td>17.785747</td>\n",
       "      <td>9.926729</td>\n",
       "      <td>3.354102</td>\n",
       "      <td>44.240818</td>\n",
       "      <td>-0.537534</td>\n",
       "      <td>11.272472</td>\n",
       "      <td>-22.178067</td>\n",
       "      <td>21.768613</td>\n",
       "    </tr>\n",
       "  </tbody>\n",
       "</table>\n",
       "</div>"
      ]
     },
     "execution_count": 81,
     "metadata": {},
     "output_type": "execute_result"
    }
   ],
   "execution_count": 81
  },
  {
   "cell_type": "code",
   "source": [
    "# Count labels\n",
    "dataset['label'].value_counts()"
   ],
   "metadata": {
    "colab": {
     "base_uri": "https://localhost:8080/",
     "height": 178
    },
    "id": "HueJxF3QRWNR",
    "executionInfo": {
     "status": "ok",
     "timestamp": 1731366806580,
     "user_tz": 360,
     "elapsed": 145,
     "user": {
      "displayName": "Enrique García Ceja",
      "userId": "06135481028082737011"
     }
    },
    "outputId": "6d04bcb6-f17f-40f1-e444-3585096a84b4",
    "ExecuteTime": {
     "end_time": "2024-11-17T06:57:23.550508Z",
     "start_time": "2024-11-17T06:57:23.547270Z"
    }
   },
   "outputs": [
    {
     "data": {
      "text/plain": [
       "label\n",
       "normal      1093\n",
       "abnormal      54\n",
       "Name: count, dtype: int64"
      ]
     },
     "execution_count": 82,
     "metadata": {},
     "output_type": "execute_result"
    }
   ],
   "execution_count": 82
  },
  {
   "cell_type": "code",
   "metadata": {
    "id": "lg0r1NfKKxnx",
    "executionInfo": {
     "status": "ok",
     "timestamp": 1731366808870,
     "user_tz": 360,
     "elapsed": 143,
     "user": {
      "displayName": "Enrique García Ceja",
      "userId": "06135481028082737011"
     }
    },
    "ExecuteTime": {
     "end_time": "2024-11-17T06:57:23.576004Z",
     "start_time": "2024-11-17T06:57:23.571042Z"
    }
   },
   "source": [
    "# Shuffle the dataset\n",
    "from sklearn.utils import shuffle\n",
    "\n",
    "seed = 1234 #set seed for reproducibility\n",
    "\n",
    "np.random.seed(seed)\n",
    "\n",
    "dataset = shuffle(dataset)"
   ],
   "outputs": [],
   "execution_count": 83
  },
  {
   "cell_type": "code",
   "metadata": {
    "id": "t8TB1F_-Kxny",
    "executionInfo": {
     "status": "ok",
     "timestamp": 1731366811462,
     "user_tz": 360,
     "elapsed": 164,
     "user": {
      "displayName": "Enrique García Ceja",
      "userId": "06135481028082737011"
     }
    },
    "ExecuteTime": {
     "end_time": "2024-11-17T06:57:23.658743Z",
     "start_time": "2024-11-17T06:57:23.655612Z"
    }
   },
   "source": [
    "#Select features and class\n",
    "features = dataset.drop('label', axis=1)\n",
    "\n",
    "labels = dataset[['label']]\n",
    "\n",
    "features = features.values.astype(float)\n",
    "\n",
    "labels = labels.values"
   ],
   "outputs": [],
   "execution_count": 84
  },
  {
   "cell_type": "code",
   "metadata": {
    "colab": {
     "base_uri": "https://localhost:8080/"
    },
    "id": "e2UUchRwKxny",
    "executionInfo": {
     "status": "ok",
     "timestamp": 1731366813820,
     "user_tz": 360,
     "elapsed": 167,
     "user": {
      "displayName": "Enrique García Ceja",
      "userId": "06135481028082737011"
     }
    },
    "outputId": "3a1884c3-2595-4604-9377-2d4b1b90c150",
    "ExecuteTime": {
     "end_time": "2024-11-17T06:57:23.755287Z",
     "start_time": "2024-11-17T06:57:23.751885Z"
    }
   },
   "source": [
    "features.shape"
   ],
   "outputs": [
    {
     "data": {
      "text/plain": [
       "(1147, 8)"
      ]
     },
     "execution_count": 85,
     "metadata": {},
     "output_type": "execute_result"
    }
   ],
   "execution_count": 85
  },
  {
   "cell_type": "code",
   "metadata": {
    "id": "v4bBB5pTKxny",
    "executionInfo": {
     "status": "ok",
     "timestamp": 1731366815181,
     "user_tz": 360,
     "elapsed": 133,
     "user": {
      "displayName": "Enrique García Ceja",
      "userId": "06135481028082737011"
     }
    },
    "ExecuteTime": {
     "end_time": "2024-11-17T06:57:23.789507Z",
     "start_time": "2024-11-17T06:57:23.787410Z"
    }
   },
   "source": [
    "# Convert labels to integers.\n",
    "from sklearn.preprocessing import LabelEncoder\n",
    "le = LabelEncoder()\n",
    "labels_int = le.fit_transform(labels.ravel())"
   ],
   "outputs": [],
   "execution_count": 86
  },
  {
   "cell_type": "code",
   "metadata": {
    "colab": {
     "base_uri": "https://localhost:8080/"
    },
    "id": "nqTFeBqrKxny",
    "executionInfo": {
     "status": "ok",
     "timestamp": 1731366817074,
     "user_tz": 360,
     "elapsed": 125,
     "user": {
      "displayName": "Enrique García Ceja",
      "userId": "06135481028082737011"
     }
    },
    "outputId": "66dd2196-e1aa-49fb-8ab5-2939aed89849",
    "ExecuteTime": {
     "end_time": "2024-11-17T06:57:23.899719Z",
     "start_time": "2024-11-17T06:57:23.897621Z"
    }
   },
   "source": [
    "print(labels[0])\n",
    "print(labels_int[0])"
   ],
   "outputs": [
    {
     "name": "stdout",
     "output_type": "stream",
     "text": [
      "['normal']\n",
      "1\n"
     ]
    }
   ],
   "execution_count": 87
  },
  {
   "cell_type": "code",
   "metadata": {
    "id": "AIJZXxyMKxny",
    "executionInfo": {
     "status": "ok",
     "timestamp": 1731366819096,
     "user_tz": 360,
     "elapsed": 123,
     "user": {
      "displayName": "Enrique García Ceja",
      "userId": "06135481028082737011"
     }
    },
    "ExecuteTime": {
     "end_time": "2024-11-17T06:57:23.927332Z",
     "start_time": "2024-11-17T06:57:23.925003Z"
    }
   },
   "source": [
    "# One hot encode labels using the to_categorical function of keras.\n",
    "labels = tf.keras.utils.to_categorical(labels_int, num_classes = 2)"
   ],
   "outputs": [],
   "execution_count": 88
  },
  {
   "cell_type": "code",
   "metadata": {
    "scrolled": true,
    "colab": {
     "base_uri": "https://localhost:8080/"
    },
    "id": "SQglmjHcKxnz",
    "executionInfo": {
     "status": "ok",
     "timestamp": 1731366820982,
     "user_tz": 360,
     "elapsed": 151,
     "user": {
      "displayName": "Enrique García Ceja",
      "userId": "06135481028082737011"
     }
    },
    "outputId": "8eb9226e-fdc4-43ba-c880-f37eb94b9848",
    "ExecuteTime": {
     "end_time": "2024-11-17T06:57:23.940555Z",
     "start_time": "2024-11-17T06:57:23.937855Z"
    }
   },
   "source": [
    "labels[0:10,:]"
   ],
   "outputs": [
    {
     "data": {
      "text/plain": [
       "array([[0., 1.],\n",
       "       [0., 1.],\n",
       "       [0., 1.],\n",
       "       [0., 1.],\n",
       "       [0., 1.],\n",
       "       [0., 1.],\n",
       "       [0., 1.],\n",
       "       [0., 1.],\n",
       "       [0., 1.],\n",
       "       [0., 1.]])"
      ]
     },
     "execution_count": 89,
     "metadata": {},
     "output_type": "execute_result"
    }
   ],
   "execution_count": 89
  },
  {
   "cell_type": "code",
   "metadata": {
    "id": "tNuAZDplKxnz",
    "executionInfo": {
     "status": "ok",
     "timestamp": 1731366825279,
     "user_tz": 360,
     "elapsed": 117,
     "user": {
      "displayName": "Enrique García Ceja",
      "userId": "06135481028082737011"
     }
    },
    "ExecuteTime": {
     "end_time": "2024-11-17T06:57:23.955936Z",
     "start_time": "2024-11-17T06:57:23.953135Z"
    }
   },
   "source": [
    "# Split into train and test sets.\n",
    "from sklearn.model_selection import train_test_split\n",
    "\n",
    "train_features, test_features, train_labels, test_labels = train_test_split(features, labels,\n",
    "                                                                            test_size = 0.50, random_state = 1234)"
   ],
   "outputs": [],
   "execution_count": 90
  },
  {
   "cell_type": "code",
   "source": [
    "# count unique values in train_labels\n",
    "unique_labels, counts = np.unique(train_labels, axis=0, return_counts=True)\n",
    "normal = counts[0]\n",
    "abnormal = counts[1]\n",
    "\n",
    "print(\"Normal: \", normal)\n",
    "print(\"Abnormal: \", abnormal)"
   ],
   "metadata": {
    "colab": {
     "base_uri": "https://localhost:8080/"
    },
    "id": "vxx204pQSPTj",
    "executionInfo": {
     "status": "ok",
     "timestamp": 1731366827056,
     "user_tz": 360,
     "elapsed": 125,
     "user": {
      "displayName": "Enrique García Ceja",
      "userId": "06135481028082737011"
     }
    },
    "outputId": "87585412-f80f-4e88-8c5a-8f6026e7ca20",
    "ExecuteTime": {
     "end_time": "2024-11-17T06:57:24.002692Z",
     "start_time": "2024-11-17T06:57:23.999946Z"
    }
   },
   "outputs": [
    {
     "name": "stdout",
     "output_type": "stream",
     "text": [
      "Normal:  547\n",
      "Abnormal:  26\n"
     ]
    }
   ],
   "execution_count": 91
  },
  {
   "cell_type": "code",
   "metadata": {
    "id": "pkaU93gzKxnz",
    "executionInfo": {
     "status": "ok",
     "timestamp": 1731366830268,
     "user_tz": 360,
     "elapsed": 114,
     "user": {
      "displayName": "Enrique García Ceja",
      "userId": "06135481028082737011"
     }
    },
    "ExecuteTime": {
     "end_time": "2024-11-17T06:57:24.060738Z",
     "start_time": "2024-11-17T06:57:24.056888Z"
    }
   },
   "source": [
    "# Normalize features between 0 and 1\n",
    "# Normalization parameters are learned just from the training data to avoid information injection.\n",
    "from sklearn import preprocessing\n",
    "\n",
    "normalizer = preprocessing.StandardScaler().fit(train_features)\n",
    "train_normalized = normalizer.transform(train_features)\n",
    "test_normalized = normalizer.transform(test_features)"
   ],
   "outputs": [],
   "execution_count": 92
  },
  {
   "cell_type": "markdown",
   "metadata": {
    "id": "HUG_-A7KKxnz"
   },
   "source": [
    "### Define the model\n"
   ]
  },
  {
   "cell_type": "code",
   "metadata": {
    "id": "2LK9lv1GKxnz",
    "executionInfo": {
     "status": "ok",
     "timestamp": 1731366834621,
     "user_tz": 360,
     "elapsed": 126,
     "user": {
      "displayName": "Enrique García Ceja",
      "userId": "06135481028082737011"
     }
    },
    "colab": {
     "base_uri": "https://localhost:8080/"
    },
    "outputId": "2d18df95-7c53-45dd-8fe8-90ac165422dd",
    "ExecuteTime": {
     "end_time": "2024-11-17T06:57:24.085982Z",
     "start_time": "2024-11-17T06:57:24.073322Z"
    }
   },
   "source": [
    "# Define the model.\n",
    "model = keras.Sequential([\n",
    "    keras.layers.Dense(units = 16, input_shape=(8,), activation=tf.nn.relu),\n",
    "    keras.layers.Dense(units = 8, activation=tf.nn.relu),\n",
    "    keras.layers.Dense(units = 2, activation=tf.nn.softmax)\n",
    "])"
   ],
   "outputs": [
    {
     "name": "stderr",
     "output_type": "stream",
     "text": [
      "/opt/anaconda3/envs/tensorflow_env/lib/python3.11/site-packages/keras/src/layers/core/dense.py:87: UserWarning: Do not pass an `input_shape`/`input_dim` argument to a layer. When using Sequential models, prefer using an `Input(shape)` object as the first layer in the model instead.\n",
      "  super().__init__(activity_regularizer=activity_regularizer, **kwargs)\n"
     ]
    }
   ],
   "execution_count": 93
  },
  {
   "cell_type": "code",
   "metadata": {
    "colab": {
     "base_uri": "https://localhost:8080/",
     "height": 250
    },
    "id": "T1nA5JDsKxnz",
    "executionInfo": {
     "status": "ok",
     "timestamp": 1731366836688,
     "user_tz": 360,
     "elapsed": 147,
     "user": {
      "displayName": "Enrique García Ceja",
      "userId": "06135481028082737011"
     }
    },
    "outputId": "e524873f-625d-46cf-d1bd-61f4e9283cea",
    "ExecuteTime": {
     "end_time": "2024-11-17T06:57:24.098512Z",
     "start_time": "2024-11-17T06:57:24.091787Z"
    }
   },
   "source": [
    "print(model.summary())"
   ],
   "outputs": [
    {
     "data": {
      "text/plain": [
       "\u001B[1mModel: \"sequential_4\"\u001B[0m\n"
      ],
      "text/html": [
       "<pre style=\"white-space:pre;overflow-x:auto;line-height:normal;font-family:Menlo,'DejaVu Sans Mono',consolas,'Courier New',monospace\"><span style=\"font-weight: bold\">Model: \"sequential_4\"</span>\n",
       "</pre>\n"
      ]
     },
     "metadata": {},
     "output_type": "display_data"
    },
    {
     "data": {
      "text/plain": [
       "┏━━━━━━━━━━━━━━━━━━━━━━━━━━━━━━━━━┳━━━━━━━━━━━━━━━━━━━━━━━━┳━━━━━━━━━━━━━━━┓\n",
       "┃\u001B[1m \u001B[0m\u001B[1mLayer (type)                   \u001B[0m\u001B[1m \u001B[0m┃\u001B[1m \u001B[0m\u001B[1mOutput Shape          \u001B[0m\u001B[1m \u001B[0m┃\u001B[1m \u001B[0m\u001B[1m      Param #\u001B[0m\u001B[1m \u001B[0m┃\n",
       "┡━━━━━━━━━━━━━━━━━━━━━━━━━━━━━━━━━╇━━━━━━━━━━━━━━━━━━━━━━━━╇━━━━━━━━━━━━━━━┩\n",
       "│ dense_12 (\u001B[38;5;33mDense\u001B[0m)                │ (\u001B[38;5;45mNone\u001B[0m, \u001B[38;5;34m16\u001B[0m)             │           \u001B[38;5;34m144\u001B[0m │\n",
       "├─────────────────────────────────┼────────────────────────┼───────────────┤\n",
       "│ dense_13 (\u001B[38;5;33mDense\u001B[0m)                │ (\u001B[38;5;45mNone\u001B[0m, \u001B[38;5;34m8\u001B[0m)              │           \u001B[38;5;34m136\u001B[0m │\n",
       "├─────────────────────────────────┼────────────────────────┼───────────────┤\n",
       "│ dense_14 (\u001B[38;5;33mDense\u001B[0m)                │ (\u001B[38;5;45mNone\u001B[0m, \u001B[38;5;34m2\u001B[0m)              │            \u001B[38;5;34m18\u001B[0m │\n",
       "└─────────────────────────────────┴────────────────────────┴───────────────┘\n"
      ],
      "text/html": [
       "<pre style=\"white-space:pre;overflow-x:auto;line-height:normal;font-family:Menlo,'DejaVu Sans Mono',consolas,'Courier New',monospace\">┏━━━━━━━━━━━━━━━━━━━━━━━━━━━━━━━━━┳━━━━━━━━━━━━━━━━━━━━━━━━┳━━━━━━━━━━━━━━━┓\n",
       "┃<span style=\"font-weight: bold\"> Layer (type)                    </span>┃<span style=\"font-weight: bold\"> Output Shape           </span>┃<span style=\"font-weight: bold\">       Param # </span>┃\n",
       "┡━━━━━━━━━━━━━━━━━━━━━━━━━━━━━━━━━╇━━━━━━━━━━━━━━━━━━━━━━━━╇━━━━━━━━━━━━━━━┩\n",
       "│ dense_12 (<span style=\"color: #0087ff; text-decoration-color: #0087ff\">Dense</span>)                │ (<span style=\"color: #00d7ff; text-decoration-color: #00d7ff\">None</span>, <span style=\"color: #00af00; text-decoration-color: #00af00\">16</span>)             │           <span style=\"color: #00af00; text-decoration-color: #00af00\">144</span> │\n",
       "├─────────────────────────────────┼────────────────────────┼───────────────┤\n",
       "│ dense_13 (<span style=\"color: #0087ff; text-decoration-color: #0087ff\">Dense</span>)                │ (<span style=\"color: #00d7ff; text-decoration-color: #00d7ff\">None</span>, <span style=\"color: #00af00; text-decoration-color: #00af00\">8</span>)              │           <span style=\"color: #00af00; text-decoration-color: #00af00\">136</span> │\n",
       "├─────────────────────────────────┼────────────────────────┼───────────────┤\n",
       "│ dense_14 (<span style=\"color: #0087ff; text-decoration-color: #0087ff\">Dense</span>)                │ (<span style=\"color: #00d7ff; text-decoration-color: #00d7ff\">None</span>, <span style=\"color: #00af00; text-decoration-color: #00af00\">2</span>)              │            <span style=\"color: #00af00; text-decoration-color: #00af00\">18</span> │\n",
       "└─────────────────────────────────┴────────────────────────┴───────────────┘\n",
       "</pre>\n"
      ]
     },
     "metadata": {},
     "output_type": "display_data"
    },
    {
     "data": {
      "text/plain": [
       "\u001B[1m Total params: \u001B[0m\u001B[38;5;34m298\u001B[0m (1.16 KB)\n"
      ],
      "text/html": [
       "<pre style=\"white-space:pre;overflow-x:auto;line-height:normal;font-family:Menlo,'DejaVu Sans Mono',consolas,'Courier New',monospace\"><span style=\"font-weight: bold\"> Total params: </span><span style=\"color: #00af00; text-decoration-color: #00af00\">298</span> (1.16 KB)\n",
       "</pre>\n"
      ]
     },
     "metadata": {},
     "output_type": "display_data"
    },
    {
     "data": {
      "text/plain": [
       "\u001B[1m Trainable params: \u001B[0m\u001B[38;5;34m298\u001B[0m (1.16 KB)\n"
      ],
      "text/html": [
       "<pre style=\"white-space:pre;overflow-x:auto;line-height:normal;font-family:Menlo,'DejaVu Sans Mono',consolas,'Courier New',monospace\"><span style=\"font-weight: bold\"> Trainable params: </span><span style=\"color: #00af00; text-decoration-color: #00af00\">298</span> (1.16 KB)\n",
       "</pre>\n"
      ]
     },
     "metadata": {},
     "output_type": "display_data"
    },
    {
     "data": {
      "text/plain": [
       "\u001B[1m Non-trainable params: \u001B[0m\u001B[38;5;34m0\u001B[0m (0.00 B)\n"
      ],
      "text/html": [
       "<pre style=\"white-space:pre;overflow-x:auto;line-height:normal;font-family:Menlo,'DejaVu Sans Mono',consolas,'Courier New',monospace\"><span style=\"font-weight: bold\"> Non-trainable params: </span><span style=\"color: #00af00; text-decoration-color: #00af00\">0</span> (0.00 B)\n",
       "</pre>\n"
      ]
     },
     "metadata": {},
     "output_type": "display_data"
    },
    {
     "name": "stdout",
     "output_type": "stream",
     "text": [
      "None\n"
     ]
    }
   ],
   "execution_count": 94
  },
  {
   "cell_type": "code",
   "source": [
    "# Calculate class weights.\n",
    "# Scaling by total/2 helps keep the loss to a similar magnitude.\n",
    "# The sum of the weights of all examples stays the same.\n",
    "total = abnormal + normal\n",
    "weight_for_0 = (1 / abnormal) * (total / 2.0)\n",
    "weight_for_1 = (1 / normal) * (total / 2.0)\n",
    "\n",
    "class_weight = {0: weight_for_0, 1: weight_for_1}\n",
    "\n",
    "print('Weight for class 0: {:.2f}'.format(weight_for_0))\n",
    "print('Weight for class 1: {:.2f}'.format(weight_for_1))"
   ],
   "metadata": {
    "colab": {
     "base_uri": "https://localhost:8080/"
    },
    "id": "AJrXo7cUWqr2",
    "executionInfo": {
     "status": "ok",
     "timestamp": 1731366849756,
     "user_tz": 360,
     "elapsed": 150,
     "user": {
      "displayName": "Enrique García Ceja",
      "userId": "06135481028082737011"
     }
    },
    "outputId": "7b58064a-2002-43e0-c2c5-437a6c24eeae",
    "ExecuteTime": {
     "end_time": "2024-11-17T06:57:24.137172Z",
     "start_time": "2024-11-17T06:57:24.134742Z"
    }
   },
   "outputs": [
    {
     "name": "stdout",
     "output_type": "stream",
     "text": [
      "Weight for class 0: 11.02\n",
      "Weight for class 1: 0.52\n"
     ]
    }
   ],
   "execution_count": 95
  },
  {
   "cell_type": "code",
   "metadata": {
    "scrolled": true,
    "colab": {
     "base_uri": "https://localhost:8080/"
    },
    "collapsed": true,
    "id": "vCzcTTxrKxnz",
    "executionInfo": {
     "status": "ok",
     "timestamp": 1731366860921,
     "user_tz": 360,
     "elapsed": 6072,
     "user": {
      "displayName": "Enrique García Ceja",
      "userId": "06135481028082737011"
     }
    },
    "outputId": "84d640d6-8a41-4f94-d768-c8d75fecb587",
    "ExecuteTime": {
     "end_time": "2024-11-17T06:57:26.030351Z",
     "start_time": "2024-11-17T06:57:24.196772Z"
    }
   },
   "source": [
    "# Define the optimizer. Stochastic Gradient Descent in this case.\n",
    "optimizer = tf.keras.optimizers.SGD(learning_rate = 0.01)\n",
    "\n",
    "model.compile(optimizer = optimizer,\n",
    "              loss = \"categorical_crossentropy\",\n",
    "              metrics = ['accuracy'])\n",
    "\n",
    "# Train the model.\n",
    "history = model.fit(train_normalized, train_labels,\n",
    "                    epochs = 100,\n",
    "                    validation_split = 0.0,\n",
    "                    batch_size = 256,\n",
    "                    class_weight=class_weight,\n",
    "                    verbose = 1)"
   ],
   "outputs": [
    {
     "name": "stdout",
     "output_type": "stream",
     "text": [
      "Epoch 1/100\n",
      "\u001B[1m3/3\u001B[0m \u001B[32m━━━━━━━━━━━━━━━━━━━━\u001B[0m\u001B[37m\u001B[0m \u001B[1m0s\u001B[0m 1ms/step - accuracy: 0.3187 - loss: 2.5136  \n",
      "Epoch 2/100\n",
      "\u001B[1m3/3\u001B[0m \u001B[32m━━━━━━━━━━━━━━━━━━━━\u001B[0m\u001B[37m\u001B[0m \u001B[1m0s\u001B[0m 1ms/step - accuracy: 0.2816 - loss: 1.7067 \n",
      "Epoch 3/100\n",
      "\u001B[1m3/3\u001B[0m \u001B[32m━━━━━━━━━━━━━━━━━━━━\u001B[0m\u001B[37m\u001B[0m \u001B[1m0s\u001B[0m 1ms/step - accuracy: 0.2569 - loss: 1.0542 \n",
      "Epoch 4/100\n",
      "\u001B[1m3/3\u001B[0m \u001B[32m━━━━━━━━━━━━━━━━━━━━\u001B[0m\u001B[37m\u001B[0m \u001B[1m0s\u001B[0m 1ms/step - accuracy: 0.2503 - loss: 0.8066 \n",
      "Epoch 5/100\n",
      "\u001B[1m3/3\u001B[0m \u001B[32m━━━━━━━━━━━━━━━━━━━━\u001B[0m\u001B[37m\u001B[0m \u001B[1m0s\u001B[0m 1ms/step - accuracy: 0.2756 - loss: 0.6729 \n",
      "Epoch 6/100\n",
      "\u001B[1m3/3\u001B[0m \u001B[32m━━━━━━━━━━━━━━━━━━━━\u001B[0m\u001B[37m\u001B[0m \u001B[1m0s\u001B[0m 1ms/step - accuracy: 0.3077 - loss: 0.5875 \n",
      "Epoch 7/100\n",
      "\u001B[1m3/3\u001B[0m \u001B[32m━━━━━━━━━━━━━━━━━━━━\u001B[0m\u001B[37m\u001B[0m \u001B[1m0s\u001B[0m 1ms/step - accuracy: 0.3662 - loss: 0.5650 \n",
      "Epoch 8/100\n",
      "\u001B[1m3/3\u001B[0m \u001B[32m━━━━━━━━━━━━━━━━━━━━\u001B[0m\u001B[37m\u001B[0m \u001B[1m0s\u001B[0m 1ms/step - accuracy: 0.4230 - loss: 0.5175 \n",
      "Epoch 9/100\n",
      "\u001B[1m3/3\u001B[0m \u001B[32m━━━━━━━━━━━━━━━━━━━━\u001B[0m\u001B[37m\u001B[0m \u001B[1m0s\u001B[0m 1ms/step - accuracy: 0.4634 - loss: 0.5038 \n",
      "Epoch 10/100\n",
      "\u001B[1m3/3\u001B[0m \u001B[32m━━━━━━━━━━━━━━━━━━━━\u001B[0m\u001B[37m\u001B[0m \u001B[1m0s\u001B[0m 1ms/step - accuracy: 0.4858 - loss: 0.4915 \n",
      "Epoch 11/100\n",
      "\u001B[1m3/3\u001B[0m \u001B[32m━━━━━━━━━━━━━━━━━━━━\u001B[0m\u001B[37m\u001B[0m \u001B[1m0s\u001B[0m 1ms/step - accuracy: 0.5100 - loss: 0.4922 \n",
      "Epoch 12/100\n",
      "\u001B[1m3/3\u001B[0m \u001B[32m━━━━━━━━━━━━━━━━━━━━\u001B[0m\u001B[37m\u001B[0m \u001B[1m0s\u001B[0m 1ms/step - accuracy: 0.5473 - loss: 0.4843 \n",
      "Epoch 13/100\n",
      "\u001B[1m3/3\u001B[0m \u001B[32m━━━━━━━━━━━━━━━━━━━━\u001B[0m\u001B[37m\u001B[0m \u001B[1m0s\u001B[0m 968us/step - accuracy: 0.5780 - loss: 0.4769\n",
      "Epoch 14/100\n",
      "\u001B[1m3/3\u001B[0m \u001B[32m━━━━━━━━━━━━━━━━━━━━\u001B[0m\u001B[37m\u001B[0m \u001B[1m0s\u001B[0m 1ms/step - accuracy: 0.6087 - loss: 0.4774 \n",
      "Epoch 15/100\n",
      "\u001B[1m3/3\u001B[0m \u001B[32m━━━━━━━━━━━━━━━━━━━━\u001B[0m\u001B[37m\u001B[0m \u001B[1m0s\u001B[0m 1ms/step - accuracy: 0.6124 - loss: 0.4574 \n",
      "Epoch 16/100\n",
      "\u001B[1m3/3\u001B[0m \u001B[32m━━━━━━━━━━━━━━━━━━━━\u001B[0m\u001B[37m\u001B[0m \u001B[1m0s\u001B[0m 1ms/step - accuracy: 0.6342 - loss: 0.4611 \n",
      "Epoch 17/100\n",
      "\u001B[1m3/3\u001B[0m \u001B[32m━━━━━━━━━━━━━━━━━━━━\u001B[0m\u001B[37m\u001B[0m \u001B[1m0s\u001B[0m 1ms/step - accuracy: 0.6635 - loss: 0.4452 \n",
      "Epoch 18/100\n",
      "\u001B[1m3/3\u001B[0m \u001B[32m━━━━━━━━━━━━━━━━━━━━\u001B[0m\u001B[37m\u001B[0m \u001B[1m0s\u001B[0m 1ms/step - accuracy: 0.6738 - loss: 0.4355 \n",
      "Epoch 19/100\n",
      "\u001B[1m3/3\u001B[0m \u001B[32m━━━━━━━━━━━━━━━━━━━━\u001B[0m\u001B[37m\u001B[0m \u001B[1m0s\u001B[0m 1ms/step - accuracy: 0.7047 - loss: 0.4372 \n",
      "Epoch 20/100\n",
      "\u001B[1m3/3\u001B[0m \u001B[32m━━━━━━━━━━━━━━━━━━━━\u001B[0m\u001B[37m\u001B[0m \u001B[1m0s\u001B[0m 1ms/step - accuracy: 0.7152 - loss: 0.4371 \n",
      "Epoch 21/100\n",
      "\u001B[1m3/3\u001B[0m \u001B[32m━━━━━━━━━━━━━━━━━━━━\u001B[0m\u001B[37m\u001B[0m \u001B[1m0s\u001B[0m 1ms/step - accuracy: 0.7227 - loss: 0.4222 \n",
      "Epoch 22/100\n",
      "\u001B[1m3/3\u001B[0m \u001B[32m━━━━━━━━━━━━━━━━━━━━\u001B[0m\u001B[37m\u001B[0m \u001B[1m0s\u001B[0m 1ms/step - accuracy: 0.7412 - loss: 0.4196 \n",
      "Epoch 23/100\n",
      "\u001B[1m3/3\u001B[0m \u001B[32m━━━━━━━━━━━━━━━━━━━━\u001B[0m\u001B[37m\u001B[0m \u001B[1m0s\u001B[0m 1ms/step - accuracy: 0.7522 - loss: 0.4068 \n",
      "Epoch 24/100\n",
      "\u001B[1m3/3\u001B[0m \u001B[32m━━━━━━━━━━━━━━━━━━━━\u001B[0m\u001B[37m\u001B[0m \u001B[1m0s\u001B[0m 1ms/step - accuracy: 0.7505 - loss: 0.4113 \n",
      "Epoch 25/100\n",
      "\u001B[1m3/3\u001B[0m \u001B[32m━━━━━━━━━━━━━━━━━━━━\u001B[0m\u001B[37m\u001B[0m \u001B[1m0s\u001B[0m 1ms/step - accuracy: 0.7594 - loss: 0.4007 \n",
      "Epoch 26/100\n",
      "\u001B[1m3/3\u001B[0m \u001B[32m━━━━━━━━━━━━━━━━━━━━\u001B[0m\u001B[37m\u001B[0m \u001B[1m0s\u001B[0m 1ms/step - accuracy: 0.7613 - loss: 0.3986 \n",
      "Epoch 27/100\n",
      "\u001B[1m3/3\u001B[0m \u001B[32m━━━━━━━━━━━━━━━━━━━━\u001B[0m\u001B[37m\u001B[0m \u001B[1m0s\u001B[0m 1ms/step - accuracy: 0.7727 - loss: 0.4040 \n",
      "Epoch 28/100\n",
      "\u001B[1m3/3\u001B[0m \u001B[32m━━━━━━━━━━━━━━━━━━━━\u001B[0m\u001B[37m\u001B[0m \u001B[1m0s\u001B[0m 1ms/step - accuracy: 0.7800 - loss: 0.4074 \n",
      "Epoch 29/100\n",
      "\u001B[1m3/3\u001B[0m \u001B[32m━━━━━━━━━━━━━━━━━━━━\u001B[0m\u001B[37m\u001B[0m \u001B[1m0s\u001B[0m 1ms/step - accuracy: 0.7854 - loss: 0.3929 \n",
      "Epoch 30/100\n",
      "\u001B[1m3/3\u001B[0m \u001B[32m━━━━━━━━━━━━━━━━━━━━\u001B[0m\u001B[37m\u001B[0m \u001B[1m0s\u001B[0m 1ms/step - accuracy: 0.8016 - loss: 0.3982 \n",
      "Epoch 31/100\n",
      "\u001B[1m3/3\u001B[0m \u001B[32m━━━━━━━━━━━━━━━━━━━━\u001B[0m\u001B[37m\u001B[0m \u001B[1m0s\u001B[0m 1ms/step - accuracy: 0.7976 - loss: 0.3934 \n",
      "Epoch 32/100\n",
      "\u001B[1m3/3\u001B[0m \u001B[32m━━━━━━━━━━━━━━━━━━━━\u001B[0m\u001B[37m\u001B[0m \u001B[1m0s\u001B[0m 1ms/step - accuracy: 0.8055 - loss: 0.3832 \n",
      "Epoch 33/100\n",
      "\u001B[1m3/3\u001B[0m \u001B[32m━━━━━━━━━━━━━━━━━━━━\u001B[0m\u001B[37m\u001B[0m \u001B[1m0s\u001B[0m 1ms/step - accuracy: 0.8059 - loss: 0.3764 \n",
      "Epoch 34/100\n",
      "\u001B[1m3/3\u001B[0m \u001B[32m━━━━━━━━━━━━━━━━━━━━\u001B[0m\u001B[37m\u001B[0m \u001B[1m0s\u001B[0m 1ms/step - accuracy: 0.8130 - loss: 0.3759 \n",
      "Epoch 35/100\n",
      "\u001B[1m3/3\u001B[0m \u001B[32m━━━━━━━━━━━━━━━━━━━━\u001B[0m\u001B[37m\u001B[0m \u001B[1m0s\u001B[0m 1ms/step - accuracy: 0.8057 - loss: 0.3674 \n",
      "Epoch 36/100\n",
      "\u001B[1m3/3\u001B[0m \u001B[32m━━━━━━━━━━━━━━━━━━━━\u001B[0m\u001B[37m\u001B[0m \u001B[1m0s\u001B[0m 1ms/step - accuracy: 0.8174 - loss: 0.3689 \n",
      "Epoch 37/100\n",
      "\u001B[1m3/3\u001B[0m \u001B[32m━━━━━━━━━━━━━━━━━━━━\u001B[0m\u001B[37m\u001B[0m \u001B[1m0s\u001B[0m 1ms/step - accuracy: 0.8065 - loss: 0.3725 \n",
      "Epoch 38/100\n",
      "\u001B[1m3/3\u001B[0m \u001B[32m━━━━━━━━━━━━━━━━━━━━\u001B[0m\u001B[37m\u001B[0m \u001B[1m0s\u001B[0m 973us/step - accuracy: 0.8120 - loss: 0.3579\n",
      "Epoch 39/100\n",
      "\u001B[1m3/3\u001B[0m \u001B[32m━━━━━━━━━━━━━━━━━━━━\u001B[0m\u001B[37m\u001B[0m \u001B[1m0s\u001B[0m 914us/step - accuracy: 0.8288 - loss: 0.3514\n",
      "Epoch 40/100\n",
      "\u001B[1m3/3\u001B[0m \u001B[32m━━━━━━━━━━━━━━━━━━━━\u001B[0m\u001B[37m\u001B[0m \u001B[1m0s\u001B[0m 1ms/step - accuracy: 0.8262 - loss: 0.3447 \n",
      "Epoch 41/100\n",
      "\u001B[1m3/3\u001B[0m \u001B[32m━━━━━━━━━━━━━━━━━━━━\u001B[0m\u001B[37m\u001B[0m \u001B[1m0s\u001B[0m 1ms/step - accuracy: 0.8327 - loss: 0.3443 \n",
      "Epoch 42/100\n",
      "\u001B[1m3/3\u001B[0m \u001B[32m━━━━━━━━━━━━━━━━━━━━\u001B[0m\u001B[37m\u001B[0m \u001B[1m0s\u001B[0m 1ms/step - accuracy: 0.8325 - loss: 0.3479 \n",
      "Epoch 43/100\n",
      "\u001B[1m3/3\u001B[0m \u001B[32m━━━━━━━━━━━━━━━━━━━━\u001B[0m\u001B[37m\u001B[0m \u001B[1m0s\u001B[0m 1ms/step - accuracy: 0.8420 - loss: 0.3438 \n",
      "Epoch 44/100\n",
      "\u001B[1m3/3\u001B[0m \u001B[32m━━━━━━━━━━━━━━━━━━━━\u001B[0m\u001B[37m\u001B[0m \u001B[1m0s\u001B[0m 1ms/step - accuracy: 0.8453 - loss: 0.3377 \n",
      "Epoch 45/100\n",
      "\u001B[1m3/3\u001B[0m \u001B[32m━━━━━━━━━━━━━━━━━━━━\u001B[0m\u001B[37m\u001B[0m \u001B[1m0s\u001B[0m 1ms/step - accuracy: 0.8526 - loss: 0.3298 \n",
      "Epoch 46/100\n",
      "\u001B[1m3/3\u001B[0m \u001B[32m━━━━━━━━━━━━━━━━━━━━\u001B[0m\u001B[37m\u001B[0m \u001B[1m0s\u001B[0m 1ms/step - accuracy: 0.8612 - loss: 0.3184 \n",
      "Epoch 47/100\n",
      "\u001B[1m3/3\u001B[0m \u001B[32m━━━━━━━━━━━━━━━━━━━━\u001B[0m\u001B[37m\u001B[0m \u001B[1m0s\u001B[0m 1ms/step - accuracy: 0.8634 - loss: 0.3265 \n",
      "Epoch 48/100\n",
      "\u001B[1m3/3\u001B[0m \u001B[32m━━━━━━━━━━━━━━━━━━━━\u001B[0m\u001B[37m\u001B[0m \u001B[1m0s\u001B[0m 1ms/step - accuracy: 0.8575 - loss: 0.3326 \n",
      "Epoch 49/100\n",
      "\u001B[1m3/3\u001B[0m \u001B[32m━━━━━━━━━━━━━━━━━━━━\u001B[0m\u001B[37m\u001B[0m \u001B[1m0s\u001B[0m 1ms/step - accuracy: 0.8574 - loss: 0.3246 \n",
      "Epoch 50/100\n",
      "\u001B[1m3/3\u001B[0m \u001B[32m━━━━━━━━━━━━━━━━━━━━\u001B[0m\u001B[37m\u001B[0m \u001B[1m0s\u001B[0m 1ms/step - accuracy: 0.8594 - loss: 0.3326 \n",
      "Epoch 51/100\n",
      "\u001B[1m3/3\u001B[0m \u001B[32m━━━━━━━━━━━━━━━━━━━━\u001B[0m\u001B[37m\u001B[0m \u001B[1m0s\u001B[0m 1ms/step - accuracy: 0.8550 - loss: 0.3295 \n",
      "Epoch 52/100\n",
      "\u001B[1m3/3\u001B[0m \u001B[32m━━━━━━━━━━━━━━━━━━━━\u001B[0m\u001B[37m\u001B[0m \u001B[1m0s\u001B[0m 1ms/step - accuracy: 0.8584 - loss: 0.3140 \n",
      "Epoch 53/100\n",
      "\u001B[1m3/3\u001B[0m \u001B[32m━━━━━━━━━━━━━━━━━━━━\u001B[0m\u001B[37m\u001B[0m \u001B[1m0s\u001B[0m 1ms/step - accuracy: 0.8545 - loss: 0.3213 \n",
      "Epoch 54/100\n",
      "\u001B[1m3/3\u001B[0m \u001B[32m━━━━━━━━━━━━━━━━━━━━\u001B[0m\u001B[37m\u001B[0m \u001B[1m0s\u001B[0m 1ms/step - accuracy: 0.8647 - loss: 0.3091 \n",
      "Epoch 55/100\n",
      "\u001B[1m3/3\u001B[0m \u001B[32m━━━━━━━━━━━━━━━━━━━━\u001B[0m\u001B[37m\u001B[0m \u001B[1m0s\u001B[0m 1ms/step - accuracy: 0.8621 - loss: 0.3235 \n",
      "Epoch 56/100\n",
      "\u001B[1m3/3\u001B[0m \u001B[32m━━━━━━━━━━━━━━━━━━━━\u001B[0m\u001B[37m\u001B[0m \u001B[1m0s\u001B[0m 1ms/step - accuracy: 0.8649 - loss: 0.3046 \n",
      "Epoch 57/100\n",
      "\u001B[1m3/3\u001B[0m \u001B[32m━━━━━━━━━━━━━━━━━━━━\u001B[0m\u001B[37m\u001B[0m \u001B[1m0s\u001B[0m 1ms/step - accuracy: 0.8711 - loss: 0.3038 \n",
      "Epoch 58/100\n",
      "\u001B[1m3/3\u001B[0m \u001B[32m━━━━━━━━━━━━━━━━━━━━\u001B[0m\u001B[37m\u001B[0m \u001B[1m0s\u001B[0m 1ms/step - accuracy: 0.8677 - loss: 0.3025 \n",
      "Epoch 59/100\n",
      "\u001B[1m3/3\u001B[0m \u001B[32m━━━━━━━━━━━━━━━━━━━━\u001B[0m\u001B[37m\u001B[0m \u001B[1m0s\u001B[0m 1ms/step - accuracy: 0.8711 - loss: 0.3040 \n",
      "Epoch 60/100\n",
      "\u001B[1m3/3\u001B[0m \u001B[32m━━━━━━━━━━━━━━━━━━━━\u001B[0m\u001B[37m\u001B[0m \u001B[1m0s\u001B[0m 1ms/step - accuracy: 0.8714 - loss: 0.2969 \n",
      "Epoch 61/100\n",
      "\u001B[1m3/3\u001B[0m \u001B[32m━━━━━━━━━━━━━━━━━━━━\u001B[0m\u001B[37m\u001B[0m \u001B[1m0s\u001B[0m 1ms/step - accuracy: 0.8717 - loss: 0.2988 \n",
      "Epoch 62/100\n",
      "\u001B[1m3/3\u001B[0m \u001B[32m━━━━━━━━━━━━━━━━━━━━\u001B[0m\u001B[37m\u001B[0m \u001B[1m0s\u001B[0m 1ms/step - accuracy: 0.8698 - loss: 0.3034 \n",
      "Epoch 63/100\n",
      "\u001B[1m3/3\u001B[0m \u001B[32m━━━━━━━━━━━━━━━━━━━━\u001B[0m\u001B[37m\u001B[0m \u001B[1m0s\u001B[0m 1ms/step - accuracy: 0.8713 - loss: 0.3007 \n",
      "Epoch 64/100\n",
      "\u001B[1m3/3\u001B[0m \u001B[32m━━━━━━━━━━━━━━━━━━━━\u001B[0m\u001B[37m\u001B[0m \u001B[1m0s\u001B[0m 1ms/step - accuracy: 0.8712 - loss: 0.2955 \n",
      "Epoch 65/100\n",
      "\u001B[1m3/3\u001B[0m \u001B[32m━━━━━━━━━━━━━━━━━━━━\u001B[0m\u001B[37m\u001B[0m \u001B[1m0s\u001B[0m 1ms/step - accuracy: 0.8736 - loss: 0.2933 \n",
      "Epoch 66/100\n",
      "\u001B[1m3/3\u001B[0m \u001B[32m━━━━━━━━━━━━━━━━━━━━\u001B[0m\u001B[37m\u001B[0m \u001B[1m0s\u001B[0m 1ms/step - accuracy: 0.8716 - loss: 0.3064 \n",
      "Epoch 67/100\n",
      "\u001B[1m3/3\u001B[0m \u001B[32m━━━━━━━━━━━━━━━━━━━━\u001B[0m\u001B[37m\u001B[0m \u001B[1m0s\u001B[0m 1ms/step - accuracy: 0.8769 - loss: 0.2969 \n",
      "Epoch 68/100\n",
      "\u001B[1m3/3\u001B[0m \u001B[32m━━━━━━━━━━━━━━━━━━━━\u001B[0m\u001B[37m\u001B[0m \u001B[1m0s\u001B[0m 1ms/step - accuracy: 0.8769 - loss: 0.2960 \n",
      "Epoch 69/100\n",
      "\u001B[1m3/3\u001B[0m \u001B[32m━━━━━━━━━━━━━━━━━━━━\u001B[0m\u001B[37m\u001B[0m \u001B[1m0s\u001B[0m 1ms/step - accuracy: 0.8725 - loss: 0.2996 \n",
      "Epoch 70/100\n",
      "\u001B[1m3/3\u001B[0m \u001B[32m━━━━━━━━━━━━━━━━━━━━\u001B[0m\u001B[37m\u001B[0m \u001B[1m0s\u001B[0m 1ms/step - accuracy: 0.8789 - loss: 0.2861 \n",
      "Epoch 71/100\n",
      "\u001B[1m3/3\u001B[0m \u001B[32m━━━━━━━━━━━━━━━━━━━━\u001B[0m\u001B[37m\u001B[0m \u001B[1m0s\u001B[0m 1ms/step - accuracy: 0.8783 - loss: 0.2791 \n",
      "Epoch 72/100\n",
      "\u001B[1m3/3\u001B[0m \u001B[32m━━━━━━━━━━━━━━━━━━━━\u001B[0m\u001B[37m\u001B[0m \u001B[1m0s\u001B[0m 1ms/step - accuracy: 0.8734 - loss: 0.2979 \n",
      "Epoch 73/100\n",
      "\u001B[1m3/3\u001B[0m \u001B[32m━━━━━━━━━━━━━━━━━━━━\u001B[0m\u001B[37m\u001B[0m \u001B[1m0s\u001B[0m 1ms/step - accuracy: 0.8841 - loss: 0.2754 \n",
      "Epoch 74/100\n",
      "\u001B[1m3/3\u001B[0m \u001B[32m━━━━━━━━━━━━━━━━━━━━\u001B[0m\u001B[37m\u001B[0m \u001B[1m0s\u001B[0m 1ms/step - accuracy: 0.8767 - loss: 0.2909 \n",
      "Epoch 75/100\n",
      "\u001B[1m3/3\u001B[0m \u001B[32m━━━━━━━━━━━━━━━━━━━━\u001B[0m\u001B[37m\u001B[0m \u001B[1m0s\u001B[0m 1ms/step - accuracy: 0.8860 - loss: 0.2627 \n",
      "Epoch 76/100\n",
      "\u001B[1m3/3\u001B[0m \u001B[32m━━━━━━━━━━━━━━━━━━━━\u001B[0m\u001B[37m\u001B[0m \u001B[1m0s\u001B[0m 1ms/step - accuracy: 0.8874 - loss: 0.2800 \n",
      "Epoch 77/100\n",
      "\u001B[1m3/3\u001B[0m \u001B[32m━━━━━━━━━━━━━━━━━━━━\u001B[0m\u001B[37m\u001B[0m \u001B[1m0s\u001B[0m 1ms/step - accuracy: 0.8801 - loss: 0.2851 \n",
      "Epoch 78/100\n",
      "\u001B[1m3/3\u001B[0m \u001B[32m━━━━━━━━━━━━━━━━━━━━\u001B[0m\u001B[37m\u001B[0m \u001B[1m0s\u001B[0m 1ms/step - accuracy: 0.8833 - loss: 0.2745 \n",
      "Epoch 79/100\n",
      "\u001B[1m3/3\u001B[0m \u001B[32m━━━━━━━━━━━━━━━━━━━━\u001B[0m\u001B[37m\u001B[0m \u001B[1m0s\u001B[0m 1ms/step - accuracy: 0.8765 - loss: 0.2658 \n",
      "Epoch 80/100\n",
      "\u001B[1m3/3\u001B[0m \u001B[32m━━━━━━━━━━━━━━━━━━━━\u001B[0m\u001B[37m\u001B[0m \u001B[1m0s\u001B[0m 1ms/step - accuracy: 0.8809 - loss: 0.2689 \n",
      "Epoch 81/100\n",
      "\u001B[1m3/3\u001B[0m \u001B[32m━━━━━━━━━━━━━━━━━━━━\u001B[0m\u001B[37m\u001B[0m \u001B[1m0s\u001B[0m 1ms/step - accuracy: 0.8853 - loss: 0.2811 \n",
      "Epoch 82/100\n",
      "\u001B[1m3/3\u001B[0m \u001B[32m━━━━━━━━━━━━━━━━━━━━\u001B[0m\u001B[37m\u001B[0m \u001B[1m0s\u001B[0m 1ms/step - accuracy: 0.8858 - loss: 0.2612 \n",
      "Epoch 83/100\n",
      "\u001B[1m3/3\u001B[0m \u001B[32m━━━━━━━━━━━━━━━━━━━━\u001B[0m\u001B[37m\u001B[0m \u001B[1m0s\u001B[0m 1ms/step - accuracy: 0.8853 - loss: 0.2758 \n",
      "Epoch 84/100\n",
      "\u001B[1m3/3\u001B[0m \u001B[32m━━━━━━━━━━━━━━━━━━━━\u001B[0m\u001B[37m\u001B[0m \u001B[1m0s\u001B[0m 1ms/step - accuracy: 0.8919 - loss: 0.2544 \n",
      "Epoch 85/100\n",
      "\u001B[1m3/3\u001B[0m \u001B[32m━━━━━━━━━━━━━━━━━━━━\u001B[0m\u001B[37m\u001B[0m \u001B[1m0s\u001B[0m 1ms/step - accuracy: 0.8837 - loss: 0.2653 \n",
      "Epoch 86/100\n",
      "\u001B[1m3/3\u001B[0m \u001B[32m━━━━━━━━━━━━━━━━━━━━\u001B[0m\u001B[37m\u001B[0m \u001B[1m0s\u001B[0m 1ms/step - accuracy: 0.8885 - loss: 0.2688 \n",
      "Epoch 87/100\n",
      "\u001B[1m3/3\u001B[0m \u001B[32m━━━━━━━━━━━━━━━━━━━━\u001B[0m\u001B[37m\u001B[0m \u001B[1m0s\u001B[0m 1ms/step - accuracy: 0.8875 - loss: 0.2536 \n",
      "Epoch 88/100\n",
      "\u001B[1m3/3\u001B[0m \u001B[32m━━━━━━━━━━━━━━━━━━━━\u001B[0m\u001B[37m\u001B[0m \u001B[1m0s\u001B[0m 1ms/step - accuracy: 0.8933 - loss: 0.2668 \n",
      "Epoch 89/100\n",
      "\u001B[1m3/3\u001B[0m \u001B[32m━━━━━━━━━━━━━━━━━━━━\u001B[0m\u001B[37m\u001B[0m \u001B[1m0s\u001B[0m 1ms/step - accuracy: 0.8924 - loss: 0.2684 \n",
      "Epoch 90/100\n",
      "\u001B[1m3/3\u001B[0m \u001B[32m━━━━━━━━━━━━━━━━━━━━\u001B[0m\u001B[37m\u001B[0m \u001B[1m0s\u001B[0m 1ms/step - accuracy: 0.8908 - loss: 0.2592 \n",
      "Epoch 91/100\n",
      "\u001B[1m3/3\u001B[0m \u001B[32m━━━━━━━━━━━━━━━━━━━━\u001B[0m\u001B[37m\u001B[0m \u001B[1m0s\u001B[0m 1ms/step - accuracy: 0.8830 - loss: 0.2715 \n",
      "Epoch 92/100\n",
      "\u001B[1m3/3\u001B[0m \u001B[32m━━━━━━━━━━━━━━━━━━━━\u001B[0m\u001B[37m\u001B[0m \u001B[1m0s\u001B[0m 1ms/step - accuracy: 0.8849 - loss: 0.2547 \n",
      "Epoch 93/100\n",
      "\u001B[1m3/3\u001B[0m \u001B[32m━━━━━━━━━━━━━━━━━━━━\u001B[0m\u001B[37m\u001B[0m \u001B[1m0s\u001B[0m 1ms/step - accuracy: 0.8887 - loss: 0.2609 \n",
      "Epoch 94/100\n",
      "\u001B[1m3/3\u001B[0m \u001B[32m━━━━━━━━━━━━━━━━━━━━\u001B[0m\u001B[37m\u001B[0m \u001B[1m0s\u001B[0m 1ms/step - accuracy: 0.8927 - loss: 0.2730 \n",
      "Epoch 95/100\n",
      "\u001B[1m3/3\u001B[0m \u001B[32m━━━━━━━━━━━━━━━━━━━━\u001B[0m\u001B[37m\u001B[0m \u001B[1m0s\u001B[0m 1ms/step - accuracy: 0.8979 - loss: 0.2551 \n",
      "Epoch 96/100\n",
      "\u001B[1m3/3\u001B[0m \u001B[32m━━━━━━━━━━━━━━━━━━━━\u001B[0m\u001B[37m\u001B[0m \u001B[1m0s\u001B[0m 1ms/step - accuracy: 0.8926 - loss: 0.2541 \n",
      "Epoch 97/100\n",
      "\u001B[1m3/3\u001B[0m \u001B[32m━━━━━━━━━━━━━━━━━━━━\u001B[0m\u001B[37m\u001B[0m \u001B[1m0s\u001B[0m 963us/step - accuracy: 0.8949 - loss: 0.2486\n",
      "Epoch 98/100\n",
      "\u001B[1m3/3\u001B[0m \u001B[32m━━━━━━━━━━━━━━━━━━━━\u001B[0m\u001B[37m\u001B[0m \u001B[1m0s\u001B[0m 1ms/step - accuracy: 0.8911 - loss: 0.2582 \n",
      "Epoch 99/100\n",
      "\u001B[1m3/3\u001B[0m \u001B[32m━━━━━━━━━━━━━━━━━━━━\u001B[0m\u001B[37m\u001B[0m \u001B[1m0s\u001B[0m 1ms/step - accuracy: 0.8896 - loss: 0.2496 \n",
      "Epoch 100/100\n",
      "\u001B[1m3/3\u001B[0m \u001B[32m━━━━━━━━━━━━━━━━━━━━\u001B[0m\u001B[37m\u001B[0m \u001B[1m0s\u001B[0m 1ms/step - accuracy: 0.8979 - loss: 0.2493 \n"
     ]
    }
   ],
   "execution_count": 96
  },
  {
   "cell_type": "code",
   "metadata": {
    "colab": {
     "base_uri": "https://localhost:8080/",
     "height": 927
    },
    "id": "s2awrU29Kxnz",
    "executionInfo": {
     "status": "ok",
     "timestamp": 1731366869107,
     "user_tz": 360,
     "elapsed": 1008,
     "user": {
      "displayName": "Enrique García Ceja",
      "userId": "06135481028082737011"
     }
    },
    "outputId": "2c6ef80e-78e4-4fd8-9113-5edbdf037fd3",
    "ExecuteTime": {
     "end_time": "2024-11-17T06:57:26.153116Z",
     "start_time": "2024-11-17T06:57:26.031361Z"
    }
   },
   "source": [
    "# Plot accuracy and loss curves\n",
    "\n",
    "import matplotlib.pyplot as plt\n",
    "%matplotlib inline\n",
    "# summarize history for accuracy\n",
    "plt.plot(history.history['accuracy'])\n",
    "#plt.plot(history.history['val_accuracy'])\n",
    "plt.title('model accuracy')\n",
    "plt.ylabel('accuracy')\n",
    "plt.xlabel('epoch')\n",
    "#plt.legend(['train', 'validation'], loc='upper left')\n",
    "plt.show()\n",
    "# summarize history for loss\n",
    "plt.plot(history.history['loss'])\n",
    "#plt.plot(history.history['val_loss'])\n",
    "plt.title('model loss')\n",
    "plt.ylabel('loss')\n",
    "plt.xlabel('epoch')\n",
    "#plt.legend(['train', 'validation'], loc='upper left')\n",
    "plt.show()"
   ],
   "outputs": [
    {
     "data": {
      "text/plain": [
       "<Figure size 640x480 with 1 Axes>"
      ],
      "image/png": "[encoded data removed]"
     },
     "metadata": {},
     "output_type": "display_data"
    },
    {
     "data": {
      "text/plain": [
       "<Figure size 640x480 with 1 Axes>"
      ],
      "image/png": "[encoded data removed]"
     },
     "metadata": {},
     "output_type": "display_data"
    }
   ],
   "execution_count": 97
  },
  {
   "cell_type": "code",
   "metadata": {
    "colab": {
     "base_uri": "https://localhost:8080/"
    },
    "id": "3t4XbA7JKxnz",
    "executionInfo": {
     "status": "ok",
     "timestamp": 1731366873431,
     "user_tz": 360,
     "elapsed": 384,
     "user": {
      "displayName": "Enrique García Ceja",
      "userId": "06135481028082737011"
     }
    },
    "outputId": "0e60edd7-f384-42eb-a399-0ecfb57039f8",
    "ExecuteTime": {
     "end_time": "2024-11-17T06:57:26.253935Z",
     "start_time": "2024-11-17T06:57:26.154066Z"
    }
   },
   "source": [
    "# Evaluate the model on the test set and print the loss and accuracy.\n",
    "model.evaluate(test_normalized, test_labels) # [loss, accuracy]"
   ],
   "outputs": [
    {
     "name": "stdout",
     "output_type": "stream",
     "text": [
      "\u001B[1m18/18\u001B[0m \u001B[32m━━━━━━━━━━━━━━━━━━━━\u001B[0m\u001B[37m\u001B[0m \u001B[1m0s\u001B[0m 555us/step - accuracy: 0.9022 - loss: 0.2825\n"
     ]
    },
    {
     "data": {
      "text/plain": [
       "[0.318112313747406, 0.891986072063446]"
      ]
     },
     "execution_count": 98,
     "metadata": {},
     "output_type": "execute_result"
    }
   ],
   "execution_count": 98
  },
  {
   "cell_type": "code",
   "metadata": {
    "colab": {
     "base_uri": "https://localhost:8080/"
    },
    "id": "qjbsvJYTKxnz",
    "executionInfo": {
     "status": "ok",
     "timestamp": 1731366877524,
     "user_tz": 360,
     "elapsed": 543,
     "user": {
      "displayName": "Enrique García Ceja",
      "userId": "06135481028082737011"
     }
    },
    "outputId": "4d682b1b-1e75-48a6-f8f6-23391168546e",
    "ExecuteTime": {
     "end_time": "2024-11-17T06:57:26.322667Z",
     "start_time": "2024-11-17T06:57:26.255460Z"
    }
   },
   "source": [
    "# Make predictions on the test set.\n",
    "predictions = model.predict(test_normalized)"
   ],
   "outputs": [
    {
     "name": "stdout",
     "output_type": "stream",
     "text": [
      "\u001B[1m18/18\u001B[0m \u001B[32m━━━━━━━━━━━━━━━━━━━━\u001B[0m\u001B[37m\u001B[0m \u001B[1m0s\u001B[0m 1ms/step \n"
     ]
    }
   ],
   "execution_count": 99
  },
  {
   "cell_type": "code",
   "metadata": {
    "colab": {
     "base_uri": "https://localhost:8080/"
    },
    "id": "MpNKDnTcKxnz",
    "executionInfo": {
     "status": "ok",
     "timestamp": 1731366878882,
     "user_tz": 360,
     "elapsed": 112,
     "user": {
      "displayName": "Enrique García Ceja",
      "userId": "06135481028082737011"
     }
    },
    "outputId": "dd89763b-0704-4207-9b4a-6561b349c077",
    "ExecuteTime": {
     "end_time": "2024-11-17T06:57:26.326196Z",
     "start_time": "2024-11-17T06:57:26.323494Z"
    }
   },
   "source": [
    "# Print the first 5 predictions.\n",
    "predictions[0:5]"
   ],
   "outputs": [
    {
     "data": {
      "text/plain": [
       "array([[0.12261198, 0.8773881 ],\n",
       "       [0.34875438, 0.65124565],\n",
       "       [0.9490538 , 0.05094618],\n",
       "       [0.07122894, 0.928771  ],\n",
       "       [0.07884924, 0.92115074]], dtype=float32)"
      ]
     },
     "execution_count": 100,
     "metadata": {},
     "output_type": "execute_result"
    }
   ],
   "execution_count": 100
  },
  {
   "cell_type": "markdown",
   "metadata": {
    "id": "mCS7qhuoKxnz"
   },
   "source": [
    "The predictions are the probabilities for each of the classes. Thus, we need to get the class with the highest probability."
   ]
  },
  {
   "cell_type": "code",
   "metadata": {
    "id": "6Uj42ULRKxn0",
    "executionInfo": {
     "status": "ok",
     "timestamp": 1731366882819,
     "user_tz": 360,
     "elapsed": 132,
     "user": {
      "displayName": "Enrique García Ceja",
      "userId": "06135481028082737011"
     }
    },
    "ExecuteTime": {
     "end_time": "2024-11-17T06:57:26.328866Z",
     "start_time": "2024-11-17T06:57:26.326867Z"
    }
   },
   "source": [
    "# Get the column index with max probability from predictions.\n",
    "predictions_int = np.argmax(predictions, axis=1)\n",
    "\n",
    "# Ground truth\n",
    "true_values_int = np.argmax(test_labels, axis=1)"
   ],
   "outputs": [],
   "execution_count": 101
  },
  {
   "cell_type": "code",
   "metadata": {
    "id": "XZBLQd_EKxn0",
    "executionInfo": {
     "status": "ok",
     "timestamp": 1731366884406,
     "user_tz": 360,
     "elapsed": 125,
     "user": {
      "displayName": "Enrique García Ceja",
      "userId": "06135481028082737011"
     }
    },
    "ExecuteTime": {
     "end_time": "2024-11-17T06:57:26.331981Z",
     "start_time": "2024-11-17T06:57:26.329633Z"
    }
   },
   "source": [
    "# Convert back to strings\n",
    "predictions_str = le.inverse_transform(predictions_int)\n",
    "\n",
    "true_values_str = le.inverse_transform(true_values_int)"
   ],
   "outputs": [],
   "execution_count": 102
  },
  {
   "cell_type": "code",
   "metadata": {
    "colab": {
     "base_uri": "https://localhost:8080/",
     "height": 143
    },
    "id": "Op6NfVDKKxn0",
    "executionInfo": {
     "status": "ok",
     "timestamp": 1731366885577,
     "user_tz": 360,
     "elapsed": 112,
     "user": {
      "displayName": "Enrique García Ceja",
      "userId": "06135481028082737011"
     }
    },
    "outputId": "b9111daf-4e1b-4192-bdc9-819e85d151e1",
    "ExecuteTime": {
     "end_time": "2024-11-17T06:57:26.338538Z",
     "start_time": "2024-11-17T06:57:26.332712Z"
    }
   },
   "source": [
    "pd.crosstab(true_values_str, predictions_str, rownames=['True labels'], colnames=['Predicted labels'])"
   ],
   "outputs": [
    {
     "data": {
      "text/plain": [
       "Predicted labels  abnormal  normal\n",
       "True labels                       \n",
       "abnormal                25       3\n",
       "normal                  59     487"
      ],
      "text/html": [
       "<div>\n",
       "<style scoped>\n",
       "    .dataframe tbody tr th:only-of-type {\n",
       "        vertical-align: middle;\n",
       "    }\n",
       "\n",
       "    .dataframe tbody tr th {\n",
       "        vertical-align: top;\n",
       "    }\n",
       "\n",
       "    .dataframe thead th {\n",
       "        text-align: right;\n",
       "    }\n",
       "</style>\n",
       "<table border=\"1\" class=\"dataframe\">\n",
       "  <thead>\n",
       "    <tr style=\"text-align: right;\">\n",
       "      <th>Predicted labels</th>\n",
       "      <th>abnormal</th>\n",
       "      <th>normal</th>\n",
       "    </tr>\n",
       "    <tr>\n",
       "      <th>True labels</th>\n",
       "      <th></th>\n",
       "      <th></th>\n",
       "    </tr>\n",
       "  </thead>\n",
       "  <tbody>\n",
       "    <tr>\n",
       "      <th>abnormal</th>\n",
       "      <td>25</td>\n",
       "      <td>3</td>\n",
       "    </tr>\n",
       "    <tr>\n",
       "      <th>normal</th>\n",
       "      <td>59</td>\n",
       "      <td>487</td>\n",
       "    </tr>\n",
       "  </tbody>\n",
       "</table>\n",
       "</div>"
      ]
     },
     "execution_count": 103,
     "metadata": {},
     "output_type": "execute_result"
    }
   ],
   "execution_count": 103
  },
  {
   "cell_type": "code",
   "metadata": {
    "colab": {
     "base_uri": "https://localhost:8080/"
    },
    "id": "NqFJSH28Kxn0",
    "executionInfo": {
     "status": "ok",
     "timestamp": 1731366887507,
     "user_tz": 360,
     "elapsed": 133,
     "user": {
      "displayName": "Enrique García Ceja",
      "userId": "06135481028082737011"
     }
    },
    "outputId": "4dfaf386-d91b-4f9c-b40c-a54137329550",
    "ExecuteTime": {
     "end_time": "2024-11-17T06:57:26.342208Z",
     "start_time": "2024-11-17T06:57:26.339083Z"
    }
   },
   "source": [
    "accuracy_score(true_values_str, predictions_str)"
   ],
   "outputs": [
    {
     "data": {
      "text/plain": [
       "0.89198606271777"
      ]
     },
     "execution_count": 104,
     "metadata": {},
     "output_type": "execute_result"
    }
   ],
   "execution_count": 104
  },
  {
   "cell_type": "code",
   "metadata": {
    "colab": {
     "base_uri": "https://localhost:8080/"
    },
    "id": "higySr-FKxn0",
    "executionInfo": {
     "status": "ok",
     "timestamp": 1731366891218,
     "user_tz": 360,
     "elapsed": 135,
     "user": {
      "displayName": "Enrique García Ceja",
      "userId": "06135481028082737011"
     }
    },
    "outputId": "7da0e390-b82d-48bb-87e9-2b7c5ac585da",
    "ExecuteTime": {
     "end_time": "2024-11-17T06:57:26.350454Z",
     "start_time": "2024-11-17T06:57:26.345012Z"
    }
   },
   "source": [
    "recall_score(true_values_str, predictions_str, average=None)"
   ],
   "outputs": [
    {
     "data": {
      "text/plain": [
       "array([0.89285714, 0.89194139])"
      ]
     },
     "execution_count": 105,
     "metadata": {},
     "output_type": "execute_result"
    }
   ],
   "execution_count": 105
  },
  {
   "cell_type": "markdown",
   "source": [
    "# Now, train a model (without class weighting) by first oversampling the *train* data using SMOTE.\n",
    "\n",
    "-Train a model with the same architecture as the previous one.\n",
    "-Conduct your experiments below and compare the resuls between the weighted model and using SMOTE. Which method was better? Write your conclusions at the end."
   ],
   "metadata": {
    "id": "yKN9bMKraVHW"
   }
  },
  {
   "metadata": {
    "ExecuteTime": {
     "end_time": "2024-11-17T06:57:26.354944Z",
     "start_time": "2024-11-17T06:57:26.351159Z"
    }
   },
   "cell_type": "code",
   "source": [
    "from imblearn.over_sampling import SMOTE\n",
    "\n",
    "smote = SMOTE(random_state=1234)\n",
    "X_train_smote, y_train_smote = smote.fit_resample(train_features, train_labels)"
   ],
   "outputs": [],
   "execution_count": 106
  },
  {
   "cell_type": "code",
   "source": [
    "# YOUR CODE HERE\n",
    "\n",
    "# Define the model.\n",
    "model2 = keras.Sequential([\n",
    "    keras.layers.Dense(units = 16, input_shape=(8,), activation=tf.nn.relu),\n",
    "    keras.layers.Dense(units = 8, activation=tf.nn.relu),\n",
    "    keras.layers.Dense(units = 2, activation=tf.nn.softmax)\n",
    "])"
   ],
   "metadata": {
    "id": "0bGGkf4kap5H",
    "ExecuteTime": {
     "end_time": "2024-11-17T06:57:26.367645Z",
     "start_time": "2024-11-17T06:57:26.355454Z"
    }
   },
   "outputs": [
    {
     "name": "stderr",
     "output_type": "stream",
     "text": [
      "/opt/anaconda3/envs/tensorflow_env/lib/python3.11/site-packages/keras/src/layers/core/dense.py:87: UserWarning: Do not pass an `input_shape`/`input_dim` argument to a layer. When using Sequential models, prefer using an `Input(shape)` object as the first layer in the model instead.\n",
      "  super().__init__(activity_regularizer=activity_regularizer, **kwargs)\n"
     ]
    }
   ],
   "execution_count": 107
  },
  {
   "metadata": {
    "ExecuteTime": {
     "end_time": "2024-11-17T06:57:28.223757Z",
     "start_time": "2024-11-17T06:57:26.368367Z"
    }
   },
   "cell_type": "code",
   "source": [
    "# Define the optimizer. Stochastic Gradient Descent in this case.\n",
    "optimizer = tf.keras.optimizers.SGD(learning_rate = 0.01)\n",
    "\n",
    "model2.compile(optimizer = optimizer,\n",
    "              loss = \"sparse_categorical_crossentropy\",\n",
    "              metrics = ['accuracy'])\n",
    "\n",
    "# Train the model.\n",
    "history = model2.fit(X_train_smote, y_train_smote,\n",
    "                    epochs = 100,\n",
    "                    validation_split = 0.0,\n",
    "                    batch_size = 256,\n",
    "                    verbose = 1)"
   ],
   "outputs": [
    {
     "name": "stdout",
     "output_type": "stream",
     "text": [
      "Epoch 1/100\n",
      "\u001B[1m5/5\u001B[0m \u001B[32m━━━━━━━━━━━━━━━━━━━━\u001B[0m\u001B[37m\u001B[0m \u001B[1m0s\u001B[0m 888us/step - accuracy: 0.5235 - loss: 3.2685\n",
      "Epoch 2/100\n",
      "\u001B[1m5/5\u001B[0m \u001B[32m━━━━━━━━━━━━━━━━━━━━\u001B[0m\u001B[37m\u001B[0m \u001B[1m0s\u001B[0m 819us/step - accuracy: 0.4960 - loss: 0.9806\n",
      "Epoch 3/100\n",
      "\u001B[1m5/5\u001B[0m \u001B[32m━━━━━━━━━━━━━━━━━━━━\u001B[0m\u001B[37m\u001B[0m \u001B[1m0s\u001B[0m 825us/step - accuracy: 0.4949 - loss: 0.5769\n",
      "Epoch 4/100\n",
      "\u001B[1m5/5\u001B[0m \u001B[32m━━━━━━━━━━━━━━━━━━━━\u001B[0m\u001B[37m\u001B[0m \u001B[1m0s\u001B[0m 820us/step - accuracy: 0.5149 - loss: 0.5436\n",
      "Epoch 5/100\n",
      "\u001B[1m5/5\u001B[0m \u001B[32m━━━━━━━━━━━━━━━━━━━━\u001B[0m\u001B[37m\u001B[0m \u001B[1m0s\u001B[0m 763us/step - accuracy: 0.5477 - loss: 0.5311\n",
      "Epoch 6/100\n",
      "\u001B[1m5/5\u001B[0m \u001B[32m━━━━━━━━━━━━━━━━━━━━\u001B[0m\u001B[37m\u001B[0m \u001B[1m0s\u001B[0m 813us/step - accuracy: 0.5603 - loss: 0.5320\n",
      "Epoch 7/100\n",
      "\u001B[1m5/5\u001B[0m \u001B[32m━━━━━━━━━━━━━━━━━━━━\u001B[0m\u001B[37m\u001B[0m \u001B[1m0s\u001B[0m 788us/step - accuracy: 0.5937 - loss: 0.5264\n",
      "Epoch 8/100\n",
      "\u001B[1m5/5\u001B[0m \u001B[32m━━━━━━━━━━━━━━━━━━━━\u001B[0m\u001B[37m\u001B[0m \u001B[1m0s\u001B[0m 781us/step - accuracy: 0.6274 - loss: 0.5353\n",
      "Epoch 9/100\n",
      "\u001B[1m5/5\u001B[0m \u001B[32m━━━━━━━━━━━━━━━━━━━━\u001B[0m\u001B[37m\u001B[0m \u001B[1m0s\u001B[0m 842us/step - accuracy: 0.6222 - loss: 0.5212\n",
      "Epoch 10/100\n",
      "\u001B[1m5/5\u001B[0m \u001B[32m━━━━━━━━━━━━━━━━━━━━\u001B[0m\u001B[37m\u001B[0m \u001B[1m0s\u001B[0m 723us/step - accuracy: 0.6539 - loss: 0.5218\n",
      "Epoch 11/100\n",
      "\u001B[1m5/5\u001B[0m \u001B[32m━━━━━━━━━━━━━━━━━━━━\u001B[0m\u001B[37m\u001B[0m \u001B[1m0s\u001B[0m 807us/step - accuracy: 0.6643 - loss: 0.5077\n",
      "Epoch 12/100\n",
      "\u001B[1m5/5\u001B[0m \u001B[32m━━━━━━━━━━━━━━━━━━━━\u001B[0m\u001B[37m\u001B[0m \u001B[1m0s\u001B[0m 800us/step - accuracy: 0.7018 - loss: 0.5034\n",
      "Epoch 13/100\n",
      "\u001B[1m5/5\u001B[0m \u001B[32m━━━━━━━━━━━━━━━━━━━━\u001B[0m\u001B[37m\u001B[0m \u001B[1m0s\u001B[0m 980us/step - accuracy: 0.7112 - loss: 0.5034\n",
      "Epoch 14/100\n",
      "\u001B[1m5/5\u001B[0m \u001B[32m━━━━━━━━━━━━━━━━━━━━\u001B[0m\u001B[37m\u001B[0m \u001B[1m0s\u001B[0m 819us/step - accuracy: 0.7230 - loss: 0.5007\n",
      "Epoch 15/100\n",
      "\u001B[1m5/5\u001B[0m \u001B[32m━━━━━━━━━━━━━━━━━━━━\u001B[0m\u001B[37m\u001B[0m \u001B[1m0s\u001B[0m 799us/step - accuracy: 0.7229 - loss: 0.4869\n",
      "Epoch 16/100\n",
      "\u001B[1m5/5\u001B[0m \u001B[32m━━━━━━━━━━━━━━━━━━━━\u001B[0m\u001B[37m\u001B[0m \u001B[1m0s\u001B[0m 823us/step - accuracy: 0.7493 - loss: 0.4906\n",
      "Epoch 17/100\n",
      "\u001B[1m5/5\u001B[0m \u001B[32m━━━━━━━━━━━━━━━━━━━━\u001B[0m\u001B[37m\u001B[0m \u001B[1m0s\u001B[0m 751us/step - accuracy: 0.7541 - loss: 0.4788\n",
      "Epoch 18/100\n",
      "\u001B[1m5/5\u001B[0m \u001B[32m━━━━━━━━━━━━━━━━━━━━\u001B[0m\u001B[37m\u001B[0m \u001B[1m0s\u001B[0m 702us/step - accuracy: 0.7763 - loss: 0.4800\n",
      "Epoch 19/100\n",
      "\u001B[1m5/5\u001B[0m \u001B[32m━━━━━━━━━━━━━━━━━━━━\u001B[0m\u001B[37m\u001B[0m \u001B[1m0s\u001B[0m 762us/step - accuracy: 0.7348 - loss: 0.4767\n",
      "Epoch 20/100\n",
      "\u001B[1m5/5\u001B[0m \u001B[32m━━━━━━━━━━━━━━━━━━━━\u001B[0m\u001B[37m\u001B[0m \u001B[1m0s\u001B[0m 699us/step - accuracy: 0.7670 - loss: 0.4790\n",
      "Epoch 21/100\n",
      "\u001B[1m5/5\u001B[0m \u001B[32m━━━━━━━━━━━━━━━━━━━━\u001B[0m\u001B[37m\u001B[0m \u001B[1m0s\u001B[0m 688us/step - accuracy: 0.7678 - loss: 0.4664\n",
      "Epoch 22/100\n",
      "\u001B[1m5/5\u001B[0m \u001B[32m━━━━━━━━━━━━━━━━━━━━\u001B[0m\u001B[37m\u001B[0m \u001B[1m0s\u001B[0m 773us/step - accuracy: 0.7705 - loss: 0.4599\n",
      "Epoch 23/100\n",
      "\u001B[1m5/5\u001B[0m \u001B[32m━━━━━━━━━━━━━━━━━━━━\u001B[0m\u001B[37m\u001B[0m \u001B[1m0s\u001B[0m 686us/step - accuracy: 0.7965 - loss: 0.4595\n",
      "Epoch 24/100\n",
      "\u001B[1m5/5\u001B[0m \u001B[32m━━━━━━━━━━━━━━━━━━━━\u001B[0m\u001B[37m\u001B[0m \u001B[1m0s\u001B[0m 811us/step - accuracy: 0.8024 - loss: 0.4605\n",
      "Epoch 25/100\n",
      "\u001B[1m5/5\u001B[0m \u001B[32m━━━━━━━━━━━━━━━━━━━━\u001B[0m\u001B[37m\u001B[0m \u001B[1m0s\u001B[0m 809us/step - accuracy: 0.7902 - loss: 0.4529\n",
      "Epoch 26/100\n",
      "\u001B[1m5/5\u001B[0m \u001B[32m━━━━━━━━━━━━━━━━━━━━\u001B[0m\u001B[37m\u001B[0m \u001B[1m0s\u001B[0m 693us/step - accuracy: 0.8114 - loss: 0.4462\n",
      "Epoch 27/100\n",
      "\u001B[1m5/5\u001B[0m \u001B[32m━━━━━━━━━━━━━━━━━━━━\u001B[0m\u001B[37m\u001B[0m \u001B[1m0s\u001B[0m 702us/step - accuracy: 0.8155 - loss: 0.4406\n",
      "Epoch 28/100\n",
      "\u001B[1m5/5\u001B[0m \u001B[32m━━━━━━━━━━━━━━━━━━━━\u001B[0m\u001B[37m\u001B[0m \u001B[1m0s\u001B[0m 728us/step - accuracy: 0.8371 - loss: 0.4390\n",
      "Epoch 29/100\n",
      "\u001B[1m5/5\u001B[0m \u001B[32m━━━━━━━━━━━━━━━━━━━━\u001B[0m\u001B[37m\u001B[0m \u001B[1m0s\u001B[0m 715us/step - accuracy: 0.8463 - loss: 0.4347\n",
      "Epoch 30/100\n",
      "\u001B[1m5/5\u001B[0m \u001B[32m━━━━━━━━━━━━━━━━━━━━\u001B[0m\u001B[37m\u001B[0m \u001B[1m0s\u001B[0m 789us/step - accuracy: 0.8365 - loss: 0.4390\n",
      "Epoch 31/100\n",
      "\u001B[1m5/5\u001B[0m \u001B[32m━━━━━━━━━━━━━━━━━━━━\u001B[0m\u001B[37m\u001B[0m \u001B[1m0s\u001B[0m 769us/step - accuracy: 0.8427 - loss: 0.4320\n",
      "Epoch 32/100\n",
      "\u001B[1m5/5\u001B[0m \u001B[32m━━━━━━━━━━━━━━━━━━━━\u001B[0m\u001B[37m\u001B[0m \u001B[1m0s\u001B[0m 752us/step - accuracy: 0.8520 - loss: 0.4363\n",
      "Epoch 33/100\n",
      "\u001B[1m5/5\u001B[0m \u001B[32m━━━━━━━━━━━━━━━━━━━━\u001B[0m\u001B[37m\u001B[0m \u001B[1m0s\u001B[0m 772us/step - accuracy: 0.8523 - loss: 0.4269\n",
      "Epoch 34/100\n",
      "\u001B[1m5/5\u001B[0m \u001B[32m━━━━━━━━━━━━━━━━━━━━\u001B[0m\u001B[37m\u001B[0m \u001B[1m0s\u001B[0m 751us/step - accuracy: 0.8690 - loss: 0.4183\n",
      "Epoch 35/100\n",
      "\u001B[1m5/5\u001B[0m \u001B[32m━━━━━━━━━━━━━━━━━━━━\u001B[0m\u001B[37m\u001B[0m \u001B[1m0s\u001B[0m 725us/step - accuracy: 0.8486 - loss: 0.4207\n",
      "Epoch 36/100\n",
      "\u001B[1m5/5\u001B[0m \u001B[32m━━━━━━━━━━━━━━━━━━━━\u001B[0m\u001B[37m\u001B[0m \u001B[1m0s\u001B[0m 661us/step - accuracy: 0.8516 - loss: 0.4229\n",
      "Epoch 37/100\n",
      "\u001B[1m5/5\u001B[0m \u001B[32m━━━━━━━━━━━━━━━━━━━━\u001B[0m\u001B[37m\u001B[0m \u001B[1m0s\u001B[0m 795us/step - accuracy: 0.8540 - loss: 0.4094\n",
      "Epoch 38/100\n",
      "\u001B[1m5/5\u001B[0m \u001B[32m━━━━━━━━━━━━━━━━━━━━\u001B[0m\u001B[37m\u001B[0m \u001B[1m0s\u001B[0m 789us/step - accuracy: 0.8823 - loss: 0.4106\n",
      "Epoch 39/100\n",
      "\u001B[1m5/5\u001B[0m \u001B[32m━━━━━━━━━━━━━━━━━━━━\u001B[0m\u001B[37m\u001B[0m \u001B[1m0s\u001B[0m 774us/step - accuracy: 0.8755 - loss: 0.4082\n",
      "Epoch 40/100\n",
      "\u001B[1m5/5\u001B[0m \u001B[32m━━━━━━━━━━━━━━━━━━━━\u001B[0m\u001B[37m\u001B[0m \u001B[1m0s\u001B[0m 797us/step - accuracy: 0.8689 - loss: 0.4107\n",
      "Epoch 41/100\n",
      "\u001B[1m5/5\u001B[0m \u001B[32m━━━━━━━━━━━━━━━━━━━━\u001B[0m\u001B[37m\u001B[0m \u001B[1m0s\u001B[0m 723us/step - accuracy: 0.8565 - loss: 0.4042\n",
      "Epoch 42/100\n",
      "\u001B[1m5/5\u001B[0m \u001B[32m━━━━━━━━━━━━━━━━━━━━\u001B[0m\u001B[37m\u001B[0m \u001B[1m0s\u001B[0m 716us/step - accuracy: 0.8690 - loss: 0.4050\n",
      "Epoch 43/100\n",
      "\u001B[1m5/5\u001B[0m \u001B[32m━━━━━━━━━━━━━━━━━━━━\u001B[0m\u001B[37m\u001B[0m \u001B[1m0s\u001B[0m 776us/step - accuracy: 0.8713 - loss: 0.3981\n",
      "Epoch 44/100\n",
      "\u001B[1m5/5\u001B[0m \u001B[32m━━━━━━━━━━━━━━━━━━━━\u001B[0m\u001B[37m\u001B[0m \u001B[1m0s\u001B[0m 724us/step - accuracy: 0.8746 - loss: 0.4002\n",
      "Epoch 45/100\n",
      "\u001B[1m5/5\u001B[0m \u001B[32m━━━━━━━━━━━━━━━━━━━━\u001B[0m\u001B[37m\u001B[0m \u001B[1m0s\u001B[0m 877us/step - accuracy: 0.8804 - loss: 0.3929\n",
      "Epoch 46/100\n",
      "\u001B[1m5/5\u001B[0m \u001B[32m━━━━━━━━━━━━━━━━━━━━\u001B[0m\u001B[37m\u001B[0m \u001B[1m0s\u001B[0m 874us/step - accuracy: 0.8687 - loss: 0.3858\n",
      "Epoch 47/100\n",
      "\u001B[1m5/5\u001B[0m \u001B[32m━━━━━━━━━━━━━━━━━━━━\u001B[0m\u001B[37m\u001B[0m \u001B[1m0s\u001B[0m 674us/step - accuracy: 0.8789 - loss: 0.3850\n",
      "Epoch 48/100\n",
      "\u001B[1m5/5\u001B[0m \u001B[32m━━━━━━━━━━━━━━━━━━━━\u001B[0m\u001B[37m\u001B[0m \u001B[1m0s\u001B[0m 835us/step - accuracy: 0.8907 - loss: 0.3891\n",
      "Epoch 49/100\n",
      "\u001B[1m5/5\u001B[0m \u001B[32m━━━━━━━━━━━━━━━━━━━━\u001B[0m\u001B[37m\u001B[0m \u001B[1m0s\u001B[0m 956us/step - accuracy: 0.9069 - loss: 0.3802\n",
      "Epoch 50/100\n",
      "\u001B[1m5/5\u001B[0m \u001B[32m━━━━━━━━━━━━━━━━━━━━\u001B[0m\u001B[37m\u001B[0m \u001B[1m0s\u001B[0m 856us/step - accuracy: 0.8792 - loss: 0.3771\n",
      "Epoch 51/100\n",
      "\u001B[1m5/5\u001B[0m \u001B[32m━━━━━━━━━━━━━━━━━━━━\u001B[0m\u001B[37m\u001B[0m \u001B[1m0s\u001B[0m 730us/step - accuracy: 0.8826 - loss: 0.3786\n",
      "Epoch 52/100\n",
      "\u001B[1m5/5\u001B[0m \u001B[32m━━━━━━━━━━━━━━━━━━━━\u001B[0m\u001B[37m\u001B[0m \u001B[1m0s\u001B[0m 874us/step - accuracy: 0.8924 - loss: 0.3778\n",
      "Epoch 53/100\n",
      "\u001B[1m5/5\u001B[0m \u001B[32m━━━━━━━━━━━━━━━━━━━━\u001B[0m\u001B[37m\u001B[0m \u001B[1m0s\u001B[0m 703us/step - accuracy: 0.8921 - loss: 0.3756\n",
      "Epoch 54/100\n",
      "\u001B[1m5/5\u001B[0m \u001B[32m━━━━━━━━━━━━━━━━━━━━\u001B[0m\u001B[37m\u001B[0m \u001B[1m0s\u001B[0m 943us/step - accuracy: 0.8865 - loss: 0.3693\n",
      "Epoch 55/100\n",
      "\u001B[1m5/5\u001B[0m \u001B[32m━━━━━━━━━━━━━━━━━━━━\u001B[0m\u001B[37m\u001B[0m \u001B[1m0s\u001B[0m 800us/step - accuracy: 0.8914 - loss: 0.3720\n",
      "Epoch 56/100\n",
      "\u001B[1m5/5\u001B[0m \u001B[32m━━━━━━━━━━━━━━━━━━━━\u001B[0m\u001B[37m\u001B[0m \u001B[1m0s\u001B[0m 748us/step - accuracy: 0.8957 - loss: 0.3756\n",
      "Epoch 57/100\n",
      "\u001B[1m5/5\u001B[0m \u001B[32m━━━━━━━━━━━━━━━━━━━━\u001B[0m\u001B[37m\u001B[0m \u001B[1m0s\u001B[0m 885us/step - accuracy: 0.9135 - loss: 0.3613\n",
      "Epoch 58/100\n",
      "\u001B[1m5/5\u001B[0m \u001B[32m━━━━━━━━━━━━━━━━━━━━\u001B[0m\u001B[37m\u001B[0m \u001B[1m0s\u001B[0m 802us/step - accuracy: 0.9092 - loss: 0.3648\n",
      "Epoch 59/100\n",
      "\u001B[1m5/5\u001B[0m \u001B[32m━━━━━━━━━━━━━━━━━━━━\u001B[0m\u001B[37m\u001B[0m \u001B[1m0s\u001B[0m 753us/step - accuracy: 0.8791 - loss: 0.3693\n",
      "Epoch 60/100\n",
      "\u001B[1m5/5\u001B[0m \u001B[32m━━━━━━━━━━━━━━━━━━━━\u001B[0m\u001B[37m\u001B[0m \u001B[1m0s\u001B[0m 777us/step - accuracy: 0.9038 - loss: 0.3561\n",
      "Epoch 61/100\n",
      "\u001B[1m5/5\u001B[0m \u001B[32m━━━━━━━━━━━━━━━━━━━━\u001B[0m\u001B[37m\u001B[0m \u001B[1m0s\u001B[0m 758us/step - accuracy: 0.9003 - loss: 0.3624\n",
      "Epoch 62/100\n",
      "\u001B[1m5/5\u001B[0m \u001B[32m━━━━━━━━━━━━━━━━━━━━\u001B[0m\u001B[37m\u001B[0m \u001B[1m0s\u001B[0m 814us/step - accuracy: 0.8975 - loss: 0.3539\n",
      "Epoch 63/100\n",
      "\u001B[1m5/5\u001B[0m \u001B[32m━━━━━━━━━━━━━━━━━━━━\u001B[0m\u001B[37m\u001B[0m \u001B[1m0s\u001B[0m 873us/step - accuracy: 0.9196 - loss: 0.3613\n",
      "Epoch 64/100\n",
      "\u001B[1m5/5\u001B[0m \u001B[32m━━━━━━━━━━━━━━━━━━━━\u001B[0m\u001B[37m\u001B[0m \u001B[1m0s\u001B[0m 797us/step - accuracy: 0.9142 - loss: 0.3560\n",
      "Epoch 65/100\n",
      "\u001B[1m5/5\u001B[0m \u001B[32m━━━━━━━━━━━━━━━━━━━━\u001B[0m\u001B[37m\u001B[0m \u001B[1m0s\u001B[0m 896us/step - accuracy: 0.8988 - loss: 0.3611\n",
      "Epoch 66/100\n",
      "\u001B[1m5/5\u001B[0m \u001B[32m━━━━━━━━━━━━━━━━━━━━\u001B[0m\u001B[37m\u001B[0m \u001B[1m0s\u001B[0m 733us/step - accuracy: 0.9076 - loss: 0.3504\n",
      "Epoch 67/100\n",
      "\u001B[1m5/5\u001B[0m \u001B[32m━━━━━━━━━━━━━━━━━━━━\u001B[0m\u001B[37m\u001B[0m \u001B[1m0s\u001B[0m 797us/step - accuracy: 0.9206 - loss: 0.3425\n",
      "Epoch 68/100\n",
      "\u001B[1m5/5\u001B[0m \u001B[32m━━━━━━━━━━━━━━━━━━━━\u001B[0m\u001B[37m\u001B[0m \u001B[1m0s\u001B[0m 4ms/step - accuracy: 0.9231 - loss: 0.3474 \n",
      "Epoch 69/100\n",
      "\u001B[1m5/5\u001B[0m \u001B[32m━━━━━━━━━━━━━━━━━━━━\u001B[0m\u001B[37m\u001B[0m \u001B[1m0s\u001B[0m 840us/step - accuracy: 0.8960 - loss: 0.3480\n",
      "Epoch 70/100\n",
      "\u001B[1m5/5\u001B[0m \u001B[32m━━━━━━━━━━━━━━━━━━━━\u001B[0m\u001B[37m\u001B[0m \u001B[1m0s\u001B[0m 874us/step - accuracy: 0.9033 - loss: 0.3444\n",
      "Epoch 71/100\n",
      "\u001B[1m5/5\u001B[0m \u001B[32m━━━━━━━━━━━━━━━━━━━━\u001B[0m\u001B[37m\u001B[0m \u001B[1m0s\u001B[0m 824us/step - accuracy: 0.9035 - loss: 0.3426\n",
      "Epoch 72/100\n",
      "\u001B[1m5/5\u001B[0m \u001B[32m━━━━━━━━━━━━━━━━━━━━\u001B[0m\u001B[37m\u001B[0m \u001B[1m0s\u001B[0m 803us/step - accuracy: 0.9100 - loss: 0.3401\n",
      "Epoch 73/100\n",
      "\u001B[1m5/5\u001B[0m \u001B[32m━━━━━━━━━━━━━━━━━━━━\u001B[0m\u001B[37m\u001B[0m \u001B[1m0s\u001B[0m 842us/step - accuracy: 0.9018 - loss: 0.3335\n",
      "Epoch 74/100\n",
      "\u001B[1m5/5\u001B[0m \u001B[32m━━━━━━━━━━━━━━━━━━━━\u001B[0m\u001B[37m\u001B[0m \u001B[1m0s\u001B[0m 792us/step - accuracy: 0.9220 - loss: 0.3350\n",
      "Epoch 75/100\n",
      "\u001B[1m5/5\u001B[0m \u001B[32m━━━━━━━━━━━━━━━━━━━━\u001B[0m\u001B[37m\u001B[0m \u001B[1m0s\u001B[0m 781us/step - accuracy: 0.9092 - loss: 0.3324\n",
      "Epoch 76/100\n",
      "\u001B[1m5/5\u001B[0m \u001B[32m━━━━━━━━━━━━━━━━━━━━\u001B[0m\u001B[37m\u001B[0m \u001B[1m0s\u001B[0m 946us/step - accuracy: 0.9133 - loss: 0.3354\n",
      "Epoch 77/100\n",
      "\u001B[1m5/5\u001B[0m \u001B[32m━━━━━━━━━━━━━━━━━━━━\u001B[0m\u001B[37m\u001B[0m \u001B[1m0s\u001B[0m 826us/step - accuracy: 0.9271 - loss: 0.3313\n",
      "Epoch 78/100\n",
      "\u001B[1m5/5\u001B[0m \u001B[32m━━━━━━━━━━━━━━━━━━━━\u001B[0m\u001B[37m\u001B[0m \u001B[1m0s\u001B[0m 827us/step - accuracy: 0.9286 - loss: 0.3343\n",
      "Epoch 79/100\n",
      "\u001B[1m5/5\u001B[0m \u001B[32m━━━━━━━━━━━━━━━━━━━━\u001B[0m\u001B[37m\u001B[0m \u001B[1m0s\u001B[0m 809us/step - accuracy: 0.9046 - loss: 0.3226\n",
      "Epoch 80/100\n",
      "\u001B[1m5/5\u001B[0m \u001B[32m━━━━━━━━━━━━━━━━━━━━\u001B[0m\u001B[37m\u001B[0m \u001B[1m0s\u001B[0m 825us/step - accuracy: 0.9172 - loss: 0.3274\n",
      "Epoch 81/100\n",
      "\u001B[1m5/5\u001B[0m \u001B[32m━━━━━━━━━━━━━━━━━━━━\u001B[0m\u001B[37m\u001B[0m \u001B[1m0s\u001B[0m 818us/step - accuracy: 0.9212 - loss: 0.3214\n",
      "Epoch 82/100\n",
      "\u001B[1m5/5\u001B[0m \u001B[32m━━━━━━━━━━━━━━━━━━━━\u001B[0m\u001B[37m\u001B[0m \u001B[1m0s\u001B[0m 807us/step - accuracy: 0.9219 - loss: 0.3299\n",
      "Epoch 83/100\n",
      "\u001B[1m5/5\u001B[0m \u001B[32m━━━━━━━━━━━━━━━━━━━━\u001B[0m\u001B[37m\u001B[0m \u001B[1m0s\u001B[0m 784us/step - accuracy: 0.9249 - loss: 0.3246\n",
      "Epoch 84/100\n",
      "\u001B[1m5/5\u001B[0m \u001B[32m━━━━━━━━━━━━━━━━━━━━\u001B[0m\u001B[37m\u001B[0m \u001B[1m0s\u001B[0m 795us/step - accuracy: 0.9238 - loss: 0.3268\n",
      "Epoch 85/100\n",
      "\u001B[1m5/5\u001B[0m \u001B[32m━━━━━━━━━━━━━━━━━━━━\u001B[0m\u001B[37m\u001B[0m \u001B[1m0s\u001B[0m 767us/step - accuracy: 0.9150 - loss: 0.3232\n",
      "Epoch 86/100\n",
      "\u001B[1m5/5\u001B[0m \u001B[32m━━━━━━━━━━━━━━━━━━━━\u001B[0m\u001B[37m\u001B[0m \u001B[1m0s\u001B[0m 825us/step - accuracy: 0.9303 - loss: 0.3144\n",
      "Epoch 87/100\n",
      "\u001B[1m5/5\u001B[0m \u001B[32m━━━━━━━━━━━━━━━━━━━━\u001B[0m\u001B[37m\u001B[0m \u001B[1m0s\u001B[0m 816us/step - accuracy: 0.9244 - loss: 0.3093\n",
      "Epoch 88/100\n",
      "\u001B[1m5/5\u001B[0m \u001B[32m━━━━━━━━━━━━━━━━━━━━\u001B[0m\u001B[37m\u001B[0m \u001B[1m0s\u001B[0m 787us/step - accuracy: 0.9118 - loss: 0.3225\n",
      "Epoch 89/100\n",
      "\u001B[1m5/5\u001B[0m \u001B[32m━━━━━━━━━━━━━━━━━━━━\u001B[0m\u001B[37m\u001B[0m \u001B[1m0s\u001B[0m 704us/step - accuracy: 0.9244 - loss: 0.3204\n",
      "Epoch 90/100\n",
      "\u001B[1m5/5\u001B[0m \u001B[32m━━━━━━━━━━━━━━━━━━━━\u001B[0m\u001B[37m\u001B[0m \u001B[1m0s\u001B[0m 741us/step - accuracy: 0.9186 - loss: 0.3121\n",
      "Epoch 91/100\n",
      "\u001B[1m5/5\u001B[0m \u001B[32m━━━━━━━━━━━━━━━━━━━━\u001B[0m\u001B[37m\u001B[0m \u001B[1m0s\u001B[0m 728us/step - accuracy: 0.9207 - loss: 0.3087\n",
      "Epoch 92/100\n",
      "\u001B[1m5/5\u001B[0m \u001B[32m━━━━━━━━━━━━━━━━━━━━\u001B[0m\u001B[37m\u001B[0m \u001B[1m0s\u001B[0m 761us/step - accuracy: 0.9189 - loss: 0.3142\n",
      "Epoch 93/100\n",
      "\u001B[1m5/5\u001B[0m \u001B[32m━━━━━━━━━━━━━━━━━━━━\u001B[0m\u001B[37m\u001B[0m \u001B[1m0s\u001B[0m 766us/step - accuracy: 0.9198 - loss: 0.3071\n",
      "Epoch 94/100\n",
      "\u001B[1m5/5\u001B[0m \u001B[32m━━━━━━━━━━━━━━━━━━━━\u001B[0m\u001B[37m\u001B[0m \u001B[1m0s\u001B[0m 784us/step - accuracy: 0.9178 - loss: 0.3187\n",
      "Epoch 95/100\n",
      "\u001B[1m5/5\u001B[0m \u001B[32m━━━━━━━━━━━━━━━━━━━━\u001B[0m\u001B[37m\u001B[0m \u001B[1m0s\u001B[0m 768us/step - accuracy: 0.9313 - loss: 0.3148\n",
      "Epoch 96/100\n",
      "\u001B[1m5/5\u001B[0m \u001B[32m━━━━━━━━━━━━━━━━━━━━\u001B[0m\u001B[37m\u001B[0m \u001B[1m0s\u001B[0m 768us/step - accuracy: 0.9301 - loss: 0.3140\n",
      "Epoch 97/100\n",
      "\u001B[1m5/5\u001B[0m \u001B[32m━━━━━━━━━━━━━━━━━━━━\u001B[0m\u001B[37m\u001B[0m \u001B[1m0s\u001B[0m 767us/step - accuracy: 0.9328 - loss: 0.3029\n",
      "Epoch 98/100\n",
      "\u001B[1m5/5\u001B[0m \u001B[32m━━━━━━━━━━━━━━━━━━━━\u001B[0m\u001B[37m\u001B[0m \u001B[1m0s\u001B[0m 728us/step - accuracy: 0.9254 - loss: 0.3050\n",
      "Epoch 99/100\n",
      "\u001B[1m5/5\u001B[0m \u001B[32m━━━━━━━━━━━━━━━━━━━━\u001B[0m\u001B[37m\u001B[0m \u001B[1m0s\u001B[0m 824us/step - accuracy: 0.9143 - loss: 0.3221\n",
      "Epoch 100/100\n",
      "\u001B[1m5/5\u001B[0m \u001B[32m━━━━━━━━━━━━━━━━━━━━\u001B[0m\u001B[37m\u001B[0m \u001B[1m0s\u001B[0m 744us/step - accuracy: 0.9214 - loss: 0.3075\n"
     ]
    }
   ],
   "execution_count": 108
  },
  {
   "metadata": {
    "ExecuteTime": {
     "end_time": "2024-11-17T06:57:28.342569Z",
     "start_time": "2024-11-17T06:57:28.224647Z"
    }
   },
   "cell_type": "code",
   "source": [
    "# summarize history for accuracy\n",
    "plt.plot(history.history['accuracy'])\n",
    "#plt.plot(history.history['val_accuracy'])\n",
    "plt.title('model accuracy')\n",
    "plt.ylabel('accuracy')\n",
    "plt.xlabel('epoch')\n",
    "#plt.legend(['train', 'validation'], loc='upper left')\n",
    "plt.show()\n",
    "# summarize history for loss\n",
    "plt.plot(history.history['loss'])\n",
    "#plt.plot(history.history['val_loss'])\n",
    "plt.title('model loss')\n",
    "plt.ylabel('loss')\n",
    "plt.xlabel('epoch')\n",
    "#plt.legend(['train', 'validation'], loc='upper left')\n",
    "plt.show()"
   ],
   "outputs": [
    {
     "data": {
      "text/plain": [
       "<Figure size 640x480 with 1 Axes>"
      ],
      "image/png": "[encoded data removed]"
     },
     "metadata": {},
     "output_type": "display_data"
    },
    {
     "data": {
      "text/plain": [
       "<Figure size 640x480 with 1 Axes>"
      ],
      "image/png": "[encoded data removed]"
     },
     "metadata": {},
     "output_type": "display_data"
    }
   ],
   "execution_count": 109
  },
  {
   "metadata": {
    "ExecuteTime": {
     "end_time": "2024-11-17T06:57:28.433006Z",
     "start_time": "2024-11-17T06:57:28.343283Z"
    }
   },
   "cell_type": "code",
   "source": [
    "test_labels_int = np.argmax(test_labels, axis=1)\n",
    "model2.evaluate(test_normalized, test_labels_int) # [loss, accuracy]\n"
   ],
   "outputs": [
    {
     "name": "stdout",
     "output_type": "stream",
     "text": [
      "\u001B[1m18/18\u001B[0m \u001B[32m━━━━━━━━━━━━━━━━━━━━\u001B[0m\u001B[37m\u001B[0m \u001B[1m0s\u001B[0m 503us/step - accuracy: 0.9653 - loss: 0.3006\n"
     ]
    },
    {
     "data": {
      "text/plain": [
       "[0.307842493057251, 0.9581881761550903]"
      ]
     },
     "execution_count": 110,
     "metadata": {},
     "output_type": "execute_result"
    }
   ],
   "execution_count": 110
  },
  {
   "metadata": {
    "ExecuteTime": {
     "end_time": "2024-11-17T06:57:28.500680Z",
     "start_time": "2024-11-17T06:57:28.433792Z"
    }
   },
   "cell_type": "code",
   "source": "predictions = model2.predict(test_normalized)\n",
   "outputs": [
    {
     "name": "stdout",
     "output_type": "stream",
     "text": [
      "\u001B[1m18/18\u001B[0m \u001B[32m━━━━━━━━━━━━━━━━━━━━\u001B[0m\u001B[37m\u001B[0m \u001B[1m0s\u001B[0m 1ms/step \n"
     ]
    }
   ],
   "execution_count": 111
  },
  {
   "metadata": {
    "ExecuteTime": {
     "end_time": "2024-11-17T06:57:28.503922Z",
     "start_time": "2024-11-17T06:57:28.501402Z"
    }
   },
   "cell_type": "code",
   "source": [
    "# Get the column index with max probability from predictions.\n",
    "predictions_int = np.argmax(predictions, axis=1)\n",
    "\n",
    "# Ground truth\n",
    "true_values_int = np.argmax(test_labels, axis=1)"
   ],
   "outputs": [],
   "execution_count": 112
  },
  {
   "metadata": {
    "ExecuteTime": {
     "end_time": "2024-11-17T06:57:28.506985Z",
     "start_time": "2024-11-17T06:57:28.504622Z"
    }
   },
   "cell_type": "code",
   "source": [
    "# Convert back to strings\n",
    "predictions_str = le.inverse_transform(predictions_int)\n",
    "\n",
    "true_values_str = le.inverse_transform(true_values_int)"
   ],
   "outputs": [],
   "execution_count": 113
  },
  {
   "metadata": {
    "ExecuteTime": {
     "end_time": "2024-11-17T06:57:28.513926Z",
     "start_time": "2024-11-17T06:57:28.507613Z"
    }
   },
   "cell_type": "code",
   "source": "pd.crosstab(true_values_str, predictions_str, rownames=['True labels'], colnames=['Predicted labels'])",
   "outputs": [
    {
     "data": {
      "text/plain": [
       "Predicted labels  abnormal  normal\n",
       "True labels                       \n",
       "abnormal                 6      22\n",
       "normal                   2     544"
      ],
      "text/html": [
       "<div>\n",
       "<style scoped>\n",
       "    .dataframe tbody tr th:only-of-type {\n",
       "        vertical-align: middle;\n",
       "    }\n",
       "\n",
       "    .dataframe tbody tr th {\n",
       "        vertical-align: top;\n",
       "    }\n",
       "\n",
       "    .dataframe thead th {\n",
       "        text-align: right;\n",
       "    }\n",
       "</style>\n",
       "<table border=\"1\" class=\"dataframe\">\n",
       "  <thead>\n",
       "    <tr style=\"text-align: right;\">\n",
       "      <th>Predicted labels</th>\n",
       "      <th>abnormal</th>\n",
       "      <th>normal</th>\n",
       "    </tr>\n",
       "    <tr>\n",
       "      <th>True labels</th>\n",
       "      <th></th>\n",
       "      <th></th>\n",
       "    </tr>\n",
       "  </thead>\n",
       "  <tbody>\n",
       "    <tr>\n",
       "      <th>abnormal</th>\n",
       "      <td>6</td>\n",
       "      <td>22</td>\n",
       "    </tr>\n",
       "    <tr>\n",
       "      <th>normal</th>\n",
       "      <td>2</td>\n",
       "      <td>544</td>\n",
       "    </tr>\n",
       "  </tbody>\n",
       "</table>\n",
       "</div>"
      ]
     },
     "execution_count": 114,
     "metadata": {},
     "output_type": "execute_result"
    }
   ],
   "execution_count": 114
  },
  {
   "metadata": {
    "ExecuteTime": {
     "end_time": "2024-11-17T06:57:28.517630Z",
     "start_time": "2024-11-17T06:57:28.514602Z"
    }
   },
   "cell_type": "code",
   "source": "accuracy_score(true_values_str, predictions_str)\n",
   "outputs": [
    {
     "data": {
      "text/plain": [
       "0.9581881533101045"
      ]
     },
     "execution_count": 115,
     "metadata": {},
     "output_type": "execute_result"
    }
   ],
   "execution_count": 115
  },
  {
   "metadata": {
    "ExecuteTime": {
     "end_time": "2024-11-17T06:57:28.523050Z",
     "start_time": "2024-11-17T06:57:28.518252Z"
    }
   },
   "cell_type": "code",
   "source": "recall_score(true_values_str, predictions_str, average=None)\n",
   "outputs": [
    {
     "data": {
      "text/plain": [
       "array([0.21428571, 0.996337  ])"
      ]
     },
     "execution_count": 116,
     "metadata": {},
     "output_type": "execute_result"
    }
   ],
   "execution_count": 116
  },
  {
   "cell_type": "markdown",
   "source": [
    "# Conclusions\n",
    "\n",
    "Write your conclusions here."
   ],
   "metadata": {
    "id": "xIiATF4jayd5"
   }
  }
 ],
 "metadata": {
  "kernelspec": {
   "display_name": "Python 3",
   "language": "python",
   "name": "python3"
  },
  "language_info": {
   "codemirror_mode": {
    "name": "ipython",
    "version": 3
   },
   "file_extension": ".py",
   "mimetype": "text/x-python",
   "name": "python",
   "nbconvert_exporter": "python",
   "pygments_lexer": "ipython3",
   "version": "3.7.9"
  },
  "colab": {
   "provenance": []
  }
 },
 "nbformat": 4,
 "nbformat_minor": 0
}
