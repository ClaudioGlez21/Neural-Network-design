{
 "cells": [
  {
   "cell_type": "markdown",
   "metadata": {
    "id": "lSgmmOqh47Uz"
   },
   "source": [
    "**Professor:** Enrique Garcia Ceja\n",
    "**email:** enrique.gc@tec.mx"
   ]
  },
  {
   "cell_type": "markdown",
   "metadata": {
    "id": "88aPyKetABUv"
   },
   "source": [
    "### Team members that contributed to this activity (name and id):\n",
    "\n",
    "- Claudio Gonzalez  \n",
    "- Jorge Guijarro\n",
    "- Frado Palacios  \n",
    "- Gabriel Melendez\n"
   ]
  },
  {
   "cell_type": "markdown",
   "metadata": {
    "id": "6DmWJzN87dC7"
   },
   "source": [
    "# Exercise: Detecting hand gestures from muscle electrical activity with an Ensemble of Neural Networks.\n",
    "\n",
    "In this exercise you will train your first deep neural network to detect hand gestures from muscle activity. In fact, you will build two deep neural networks and ensemble them.\n",
    "\n",
    "The data was collected with a MYO armband electromyography (EMG) sensor (see image below). The data was made available by Kirill Yashuk and can be downloaded [here](https://www.kaggle.com/kyr7plus/emg-4). The armband has 8 sensors that measure electrical activity at a sampling rate of 200Hz.\n",
    "The dataset contains 4 different gestures: <font color=blue>0-rock, 1-scissors, 2-paper, 3-OK.</font>\n",
    "The data contains 65 columns. The last column is the class label from 0 to 3. The first 64 columns are electrical measurements. 8 consecutive readings for each of the 8 sensors. The objective is to use the first 64 variables to predict the class.\n",
    "\n",
    "<table><tr><td><img src=\"https://github.com/enriquegit/ap-img/blob/main/img/myoband.jpg?raw=true\" width=\"200\"></td><td><img src=\"https://github.com/enriquegit/ap-img/blob/main/img/dnn.png?raw=true\" width=\"200\"></td></tr></table>"
   ]
  },
  {
   "cell_type": "markdown",
   "metadata": {
    "id": "1FnXOSjX7dC9"
   },
   "source": [
    "## Instructions\n",
    "\n",
    "In this exercise you will train *two* neural networks and combine their results to produce the final predictions. During training time, you train the two networks with the same train data but each network should have a different architecture. There is no point of building the same two networks because they will produce the same predictions. At test time, a given instance is fed into both networks. Each network outputs the predicted probabilities for each class (by specifying the last activation to be softmax). One way to combine the predictions of both networks is to multiply the output probabilities and predict the class with the highest one. When more than two models compose the ensemble, majority voting can also be used.\n",
    "\n",
    "1. First, you need to randomly split the dataset into several subsets to avoid overfitting. Specifically, you will need **4 subsets**:\n",
    "\n",
    "<table><tr><td><img src=\"https://github.com/enriquegit/ap-img/blob/main/img/splits.png?raw=true\" width=\"250\"></td></tr></table>\n",
    "\n",
    "  - **train set (60%):** This one is used to train the two models.\n",
    "  - **val1 set (10%):** This is used to fine tune parameters of your nueral networks.\n",
    "  - **val2 set (15%):** This one is used to validate the performance when combining the networks.\n",
    "  - **test set (15%):** This one is used at the end only once to test the generalization performance of your model once you are happy with the performance on the *val2 set*.\n",
    "\n",
    "2. Build and train a first neural network using the *train set*. Use the *val1 set* to estimate its performance and fine tune its parameters.\n",
    "\n",
    "3. Build and train a second neural network using the *train set*. Use the *val1 set* to estimate its performance while fine tuning its parameters. This network needs to have a different architecture from the previous one.\n",
    "\n",
    "4. Once you are happy with both networks, it is now time to combine them. Generate predictions on the *val2 set* with your two networks. The predictions should be the probabilities for each class (not the final class). Combine the probabilities of each network by multiplying them. Obtain the final predicted classes by selecting the class with the highest probability.\n",
    "\n",
    "5. Evaluate the performance of the combined models and of each of the individual models on the same *val2 set*. The performance of the combined models should be better than the performance of the best individual model. If this is not the case, iterate from step 2.\n",
    "\n",
    "6. Once you are happy with your results, evaluate the performance of the combined models and each individual one on the *test set* just once.\n",
    "\n",
    "### Tips:\n",
    "\n",
    "- You can pass your validation data to the `fit` function with the `validation_data` argument, e.g., `model.fit(..., validation_data = (val1_features, val1_labels))`.\n",
    "- You can plot accuracy and loss curves to analyze your models behavior. See *demo_sports* notebook for an example.\n",
    "\n",
    "*NOTE:* In this case it was suggested to train both models with the same train data. With *Bagging* [1], which is an ensemble learning method, instead of using the same train data, new train sets are generated with bootstrapping. To construct a dataset, the method samples $N$ data points from the original train set where $N$ is the number of elements on the original train set. The sampling is made *with replacement*. Thus, the new set will contain duplicates and some elements of the original data set will not be present. The purpose of this is to have different models. If the same data is used to train them, they will be very similar and there is no need to train several of them. It is left as an exercise for the reader to implement bootstraping instead of using the same train set.\n",
    "\n",
    "[1] Breiman, L. (1996). Bagging predictors. Machine learning, 24(2), 123-140."
   ]
  },
  {
   "cell_type": "code",
   "execution_count": 46,
   "metadata": {
    "id": "ZXuXqJZm7dC-"
   },
   "outputs": [],
   "source": [
    "import pandas as pd\n",
    "import numpy as np\n",
    "import tensorflow as tf\n",
    "from tensorflow import keras\n",
    "from tensorflow.keras.layers import Input, Dense\n",
    "from tensorflow.keras import Model\n",
    "from sklearn.metrics import accuracy_score, recall_score\n",
    "from sklearn import preprocessing\n",
    "from sklearn.utils import shuffle\n",
    "from sklearn.model_selection import train_test_split\n",
    "from sklearn.preprocessing import MinMaxScaler\n",
    "from tensorflow.keras.optimizers import SGD"
   ]
  },
  {
   "cell_type": "code",
   "execution_count": 37,
   "metadata": {
    "id": "o8reVPhH7dC-"
   },
   "outputs": [
    {
     "name": "stdout",
     "output_type": "stream",
     "text": [
      "(11630, 65)\n"
     ]
    }
   ],
   "source": [
    "# Read the data\n",
    "dataset = pd.concat(\n",
    "    map(pd.read_csv, ['0.csv', '1.csv', '2.csv', '3.csv']), ignore_index=True)\n",
    "\n",
    "seed = 123 #set seed for reproducibility\n",
    "np.random.seed(seed)\n",
    "dataset = shuffle(dataset) #shuffle rows\n",
    "\n",
    "# Since there are not too many missing values we will just drop rows that contain missing values.\n",
    "dataset = dataset.dropna()\n",
    "\n",
    "# Print the dataset size after removing rows with missing values.\n",
    "print(dataset.shape)"
   ]
  },
  {
   "cell_type": "code",
   "execution_count": 38,
   "metadata": {
    "id": "GpERU4rK7dC_"
   },
   "outputs": [
    {
     "data": {
      "text/html": [
       "<div>\n",
       "<style scoped>\n",
       "    .dataframe tbody tr th:only-of-type {\n",
       "        vertical-align: middle;\n",
       "    }\n",
       "\n",
       "    .dataframe tbody tr th {\n",
       "        vertical-align: top;\n",
       "    }\n",
       "\n",
       "    .dataframe thead th {\n",
       "        text-align: right;\n",
       "    }\n",
       "</style>\n",
       "<table border=\"1\" class=\"dataframe\">\n",
       "  <thead>\n",
       "    <tr style=\"text-align: right;\">\n",
       "      <th></th>\n",
       "      <th>V1</th>\n",
       "      <th>V2</th>\n",
       "      <th>V3</th>\n",
       "      <th>V4</th>\n",
       "      <th>V5</th>\n",
       "      <th>V6</th>\n",
       "      <th>V7</th>\n",
       "      <th>V8</th>\n",
       "      <th>V9</th>\n",
       "      <th>V10</th>\n",
       "      <th>...</th>\n",
       "      <th>V56</th>\n",
       "      <th>V57</th>\n",
       "      <th>V58</th>\n",
       "      <th>V59</th>\n",
       "      <th>V60</th>\n",
       "      <th>V61</th>\n",
       "      <th>V62</th>\n",
       "      <th>V63</th>\n",
       "      <th>V64</th>\n",
       "      <th>label</th>\n",
       "    </tr>\n",
       "  </thead>\n",
       "  <tbody>\n",
       "    <tr>\n",
       "      <th>550</th>\n",
       "      <td>-12</td>\n",
       "      <td>-4</td>\n",
       "      <td>-18.0</td>\n",
       "      <td>-59</td>\n",
       "      <td>-2</td>\n",
       "      <td>28</td>\n",
       "      <td>5</td>\n",
       "      <td>-22</td>\n",
       "      <td>11.0</td>\n",
       "      <td>4</td>\n",
       "      <td>...</td>\n",
       "      <td>31</td>\n",
       "      <td>19.0</td>\n",
       "      <td>1.0</td>\n",
       "      <td>1</td>\n",
       "      <td>-1</td>\n",
       "      <td>-5</td>\n",
       "      <td>9.0</td>\n",
       "      <td>-42</td>\n",
       "      <td>-32</td>\n",
       "      <td>rock</td>\n",
       "    </tr>\n",
       "    <tr>\n",
       "      <th>7169</th>\n",
       "      <td>8</td>\n",
       "      <td>13</td>\n",
       "      <td>8.0</td>\n",
       "      <td>1</td>\n",
       "      <td>-22</td>\n",
       "      <td>-5</td>\n",
       "      <td>-2</td>\n",
       "      <td>10</td>\n",
       "      <td>2.0</td>\n",
       "      <td>-9</td>\n",
       "      <td>...</td>\n",
       "      <td>0</td>\n",
       "      <td>1.0</td>\n",
       "      <td>2.0</td>\n",
       "      <td>3</td>\n",
       "      <td>-4</td>\n",
       "      <td>-7</td>\n",
       "      <td>13.0</td>\n",
       "      <td>-1</td>\n",
       "      <td>0</td>\n",
       "      <td>paper</td>\n",
       "    </tr>\n",
       "    <tr>\n",
       "      <th>6458</th>\n",
       "      <td>19</td>\n",
       "      <td>8</td>\n",
       "      <td>-1.0</td>\n",
       "      <td>3</td>\n",
       "      <td>6</td>\n",
       "      <td>-18</td>\n",
       "      <td>-1</td>\n",
       "      <td>-11</td>\n",
       "      <td>-4.0</td>\n",
       "      <td>7</td>\n",
       "      <td>...</td>\n",
       "      <td>-2</td>\n",
       "      <td>-15.0</td>\n",
       "      <td>-7.0</td>\n",
       "      <td>5</td>\n",
       "      <td>5</td>\n",
       "      <td>16</td>\n",
       "      <td>26.0</td>\n",
       "      <td>10</td>\n",
       "      <td>-8</td>\n",
       "      <td>paper</td>\n",
       "    </tr>\n",
       "    <tr>\n",
       "      <th>9330</th>\n",
       "      <td>-3</td>\n",
       "      <td>-4</td>\n",
       "      <td>1.0</td>\n",
       "      <td>0</td>\n",
       "      <td>1</td>\n",
       "      <td>47</td>\n",
       "      <td>10</td>\n",
       "      <td>1</td>\n",
       "      <td>4.0</td>\n",
       "      <td>-1</td>\n",
       "      <td>...</td>\n",
       "      <td>15</td>\n",
       "      <td>-10.0</td>\n",
       "      <td>-14.0</td>\n",
       "      <td>-9</td>\n",
       "      <td>-8</td>\n",
       "      <td>-7</td>\n",
       "      <td>-13.0</td>\n",
       "      <td>-8</td>\n",
       "      <td>-16</td>\n",
       "      <td>ok</td>\n",
       "    </tr>\n",
       "    <tr>\n",
       "      <th>3100</th>\n",
       "      <td>-3</td>\n",
       "      <td>-8</td>\n",
       "      <td>1.0</td>\n",
       "      <td>0</td>\n",
       "      <td>-39</td>\n",
       "      <td>-33</td>\n",
       "      <td>0</td>\n",
       "      <td>14</td>\n",
       "      <td>17.0</td>\n",
       "      <td>2</td>\n",
       "      <td>...</td>\n",
       "      <td>12</td>\n",
       "      <td>-11.0</td>\n",
       "      <td>1.0</td>\n",
       "      <td>4</td>\n",
       "      <td>0</td>\n",
       "      <td>-8</td>\n",
       "      <td>-16.0</td>\n",
       "      <td>1</td>\n",
       "      <td>4</td>\n",
       "      <td>scissors</td>\n",
       "    </tr>\n",
       "  </tbody>\n",
       "</table>\n",
       "<p>5 rows × 65 columns</p>\n",
       "</div>"
      ],
      "text/plain": [
       "      V1  V2    V3  V4  V5  V6  V7  V8    V9  V10  ...  V56   V57   V58  V59  \\\n",
       "550  -12  -4 -18.0 -59  -2  28   5 -22  11.0    4  ...   31  19.0   1.0    1   \n",
       "7169   8  13   8.0   1 -22  -5  -2  10   2.0   -9  ...    0   1.0   2.0    3   \n",
       "6458  19   8  -1.0   3   6 -18  -1 -11  -4.0    7  ...   -2 -15.0  -7.0    5   \n",
       "9330  -3  -4   1.0   0   1  47  10   1   4.0   -1  ...   15 -10.0 -14.0   -9   \n",
       "3100  -3  -8   1.0   0 -39 -33   0  14  17.0    2  ...   12 -11.0   1.0    4   \n",
       "\n",
       "      V60  V61   V62  V63  V64     label  \n",
       "550    -1   -5   9.0  -42  -32      rock  \n",
       "7169   -4   -7  13.0   -1    0     paper  \n",
       "6458    5   16  26.0   10   -8     paper  \n",
       "9330   -8   -7 -13.0   -8  -16        ok  \n",
       "3100    0   -8 -16.0    1    4  scissors  \n",
       "\n",
       "[5 rows x 65 columns]"
      ]
     },
     "execution_count": 38,
     "metadata": {},
     "output_type": "execute_result"
    }
   ],
   "source": [
    "# Print first rows of data.\n",
    "dataset.head()\n"
   ]
  },
  {
   "cell_type": "code",
   "execution_count": 39,
   "metadata": {
    "id": "FFvPtLie7dC_"
   },
   "outputs": [],
   "source": [
    "# Convert features and class to numpy arrays.\n",
    "features = dataset.drop('label', axis=1)\n",
    "\n",
    "labels = dataset[['label']]\n",
    "\n",
    "features = features.values\n",
    "\n",
    "labels = labels.values"
   ]
  },
  {
   "cell_type": "markdown",
   "metadata": {
    "id": "zMGKQOc57dC_"
   },
   "source": [
    "Neural networks need the labels to be one-hot encoded. Currently, our labels are stored as strings. First we need to convert them into integers."
   ]
  },
  {
   "cell_type": "code",
   "execution_count": 40,
   "metadata": {
    "id": "CI68ydJ97dC_"
   },
   "outputs": [
    {
     "name": "stdout",
     "output_type": "stream",
     "text": [
      "[['rock']\n",
      " ['paper']\n",
      " ['paper']\n",
      " ['ok']\n",
      " ['scissors']]\n",
      "[2 1 1 0 3]\n"
     ]
    }
   ],
   "source": [
    "# Convert labels to integers and store the result in labels_int\n",
    "from sklearn.preprocessing import LabelEncoder\n",
    "\n",
    "le = LabelEncoder()\n",
    "\n",
    "labels_int = le.fit_transform(labels.ravel())\n",
    "\n",
    "# Display first 5 labels as strings.\n",
    "print(labels[0:5])\n",
    "\n",
    "# Display first 5 labels as integers.\n",
    "print(labels_int[0:5]) # display first labels"
   ]
  },
  {
   "cell_type": "code",
   "execution_count": 41,
   "metadata": {
    "id": "ZrjwjNpz7dC_"
   },
   "outputs": [],
   "source": [
    "# One hot encode the labels and store the result in a variable called 'labels'\n",
    "# You can use tf.keras.utils.to_categorical() function. Its first argument is an array of ints (e.g., labels_int)\n",
    "# The second argument is the number of classes.\n",
    "\n",
    "labels = tf.keras.utils.to_categorical(labels_int, 4)"
   ]
  },
  {
   "cell_type": "code",
   "execution_count": 42,
   "metadata": {
    "id": "rmoEMgPq7dDA"
   },
   "outputs": [
    {
     "data": {
      "text/plain": [
       "array([[0., 0., 1., 0.],\n",
       "       [0., 1., 0., 0.],\n",
       "       [0., 1., 0., 0.],\n",
       "       [1., 0., 0., 0.],\n",
       "       [0., 0., 0., 1.]])"
      ]
     },
     "execution_count": 42,
     "metadata": {},
     "output_type": "execute_result"
    }
   ],
   "source": [
    "# Print first five one-hot encoded labels\n",
    "\n",
    "labels[0:5,]"
   ]
  },
  {
   "cell_type": "markdown",
   "metadata": {
    "id": "Ov76TaYu7dDA"
   },
   "source": [
    "## Step 1: Split the data.\n",
    "\n",
    "As explained in step 1 from the instructions section, the *train set* (60%) should consist of aprox. 6978 instances. The *val1 set* (10%) should have aprox. 1163 instances. The *val2 set* (15%) and the *test set* (15%) should have aprox. 1744 instances each."
   ]
  },
  {
   "cell_type": "code",
   "execution_count": 32,
   "metadata": {
    "id": "nVA6D61e7dDA"
   },
   "outputs": [
    {
     "name": "stdout",
     "output_type": "stream",
     "text": [
      "(6978, 64)\n",
      "(6978, 4)\n"
     ]
    }
   ],
   "source": [
    "# Currently, the features are stored in the 'features' variable and the labels in 'labels'.\n",
    "# First split into 2 subsets. train set = 60% (6978 instances) and a temporal set that contains the rest of the data (40%).\n",
    "# We will use the train_test_split() function.\n",
    "# The train_size argument specifies the number of instances to be included in the train set.\n",
    "\n",
    "train_features, tmp_features, train_labels, tmp_labels = train_test_split(features, labels,\n",
    "                                                                            train_size = 6978, random_state=1234)\n",
    "\n",
    "# Now train_features and train_labels contain the train set.\n",
    "# tmp_features and tmp_labels contain the rest of the data.\n",
    "\n",
    "# Let's print the shape of the train set. It should now contain 6978 instances.\n",
    "print(train_features.shape)\n",
    "print(train_labels.shape)"
   ]
  },
  {
   "cell_type": "code",
   "execution_count": 33,
   "metadata": {
    "id": "CkMYFvr77dDA"
   },
   "outputs": [
    {
     "name": "stdout",
     "output_type": "stream",
     "text": [
      "Val1 set shape: (1163, 64)\n",
      "Val1 labels shape: (1163, 4)\n"
     ]
    }
   ],
   "source": [
    "# Now, tmp_features has 40% of the total original data.\n",
    "# We need to split tmp_features and tmp_labels into the remaining test, val1 and val2 sets.\n",
    "# We can start by spliting tmp_features into two subsets.\n",
    "# The first subset correspons to the 10% of the total (1163 instances) of the val1 data.\n",
    "# The second subset is the remaining 30% of the total which will be split later into 15% for test and 15% for val2.\n",
    "\n",
    "# Use the train_test_split() function to split tmp_features and tmp_labels.\n",
    "# Store 10% of the TOTAL dataset into val1_features, val1_labels and the remaining into tmp2_features and tmp2_labels.\n",
    "\n",
    "\n",
    "val1_features, tmp2_features, val1_labels, tmp2_labels = train_test_split(tmp_features, tmp_labels,\n",
    "                                                                          train_size=1163, random_state=1234)\n",
    "\n",
    "# Print size of val1 set. It should have 1163 instances.\n",
    "print(\"Val1 set shape:\", val1_features.shape)\n",
    "print(\"Val1 labels shape:\", val1_labels.shape)\n"
   ]
  },
  {
   "cell_type": "code",
   "execution_count": 34,
   "metadata": {
    "id": "7V5u8j1t7dDA"
   },
   "outputs": [
    {
     "name": "stdout",
     "output_type": "stream",
     "text": [
      "Test labels shape: (1744, 4)\n",
      "Val2 labels shape: (1745, 4)\n"
     ]
    }
   ],
   "source": [
    "# Now, tmp2_features, tmp2_labels contains 30% of the TOTAL dataset.\n",
    "# Split tmp2_features, tmp2_labels into two equally sized datasets.\n",
    "# test_features, test_labels and val2_features, val2_labels.\n",
    "\n",
    "# dividimos el segundo conjunto temporal en test (15%) y val2 (15%)\n",
    "test_features, val2_features, test_labels, val2_labels = train_test_split(tmp2_features, tmp2_labels, \n",
    "                                                                          train_size=1744, random_state=1234)\n",
    "# Print test and val2 sizes. Their sizes should be aprox. 1744.\n",
    "print(\"Test labels shape:\", test_labels.shape)\n",
    "print(\"Val2 labels shape:\", val2_labels.shape)"
   ]
  },
  {
   "cell_type": "markdown",
   "metadata": {
    "id": "4ooLUvZh7dDA"
   },
   "source": [
    "Noramlize the features between 0 and 1. Remember that normalization parameters are learned just from the training data."
   ]
  },
  {
   "cell_type": "code",
   "execution_count": 35,
   "metadata": {
    "id": "56NJuAH_7dDA"
   },
   "outputs": [
    {
     "name": "stdout",
     "output_type": "stream",
     "text": [
      "(6978, 64)\n",
      "(1163, 64)\n",
      "(1745, 64)\n",
      "(1744, 64)\n"
     ]
    }
   ],
   "source": [
    "# Normalize features between 0 and 1.\n",
    "# Remember that normalization parameters are learned just from the training data.\n",
    "\n",
    "normalizer = MinMaxScaler().fit(train_features)\n",
    "# Use the learned normalizer to normalize train_features and store the result in train_normalized.\n",
    "train_normalized = normalizer.transform(train_features)\n",
    "\n",
    "# Use the learned normalizer to normalize test_features and store the result in test_normalized.\n",
    "test_normalized= normalizer.transform(test_features)\n",
    "\n",
    "# Use the learned normalizer to normalize val1_features and store the result in val1_normalized.\n",
    "val1_normalized =normalizer.transform(val1_features)\n",
    "\n",
    "# Use the learned normalizer to normalize val2_features set and store the result in val2_normalized.\n",
    "val2_normalized =normalizer.transform(val2_features)\n",
    "\n",
    "print( train_normalized.shape)\n",
    "print(val1_normalized.shape)\n",
    "print(val2_normalized.shape)\n",
    "print(test_normalized.shape)\n",
    "\n"
   ]
  },
  {
   "cell_type": "markdown",
   "metadata": {
    "id": "gtEB-5xS7dDA"
   },
   "source": [
    "# Step 2: Build and evaluate model 1.\n",
    "\n",
    "Now it is time to build model 1 (the first neural network). Use the keras Sequential API to build a deep network (at least 2 hidden layers). Store the model in a variable `model1`."
   ]
  },
  {
   "cell_type": "code",
   "execution_count": 45,
   "metadata": {
    "id": "rejlkNrm7dDA"
   },
   "outputs": [
    {
     "data": {
      "text/html": [
       "<pre style=\"white-space:pre;overflow-x:auto;line-height:normal;font-family:Menlo,'DejaVu Sans Mono',consolas,'Courier New',monospace\"><span style=\"font-weight: bold\">Model: \"sequential_2\"</span>\n",
       "</pre>\n"
      ],
      "text/plain": [
       "\u001b[1mModel: \"sequential_2\"\u001b[0m\n"
      ]
     },
     "metadata": {},
     "output_type": "display_data"
    },
    {
     "data": {
      "text/html": [
       "<pre style=\"white-space:pre;overflow-x:auto;line-height:normal;font-family:Menlo,'DejaVu Sans Mono',consolas,'Courier New',monospace\">┏━━━━━━━━━━━━━━━━━━━━━━━━━━━━━━━━━┳━━━━━━━━━━━━━━━━━━━━━━━━┳━━━━━━━━━━━━━━━┓\n",
       "┃<span style=\"font-weight: bold\"> Layer (type)                    </span>┃<span style=\"font-weight: bold\"> Output Shape           </span>┃<span style=\"font-weight: bold\">       Param # </span>┃\n",
       "┡━━━━━━━━━━━━━━━━━━━━━━━━━━━━━━━━━╇━━━━━━━━━━━━━━━━━━━━━━━━╇━━━━━━━━━━━━━━━┩\n",
       "│ dense_6 (<span style=\"color: #0087ff; text-decoration-color: #0087ff\">Dense</span>)                 │ (<span style=\"color: #00d7ff; text-decoration-color: #00d7ff\">None</span>, <span style=\"color: #00af00; text-decoration-color: #00af00\">128</span>)            │         <span style=\"color: #00af00; text-decoration-color: #00af00\">8,320</span> │\n",
       "├─────────────────────────────────┼────────────────────────┼───────────────┤\n",
       "│ dense_7 (<span style=\"color: #0087ff; text-decoration-color: #0087ff\">Dense</span>)                 │ (<span style=\"color: #00d7ff; text-decoration-color: #00d7ff\">None</span>, <span style=\"color: #00af00; text-decoration-color: #00af00\">64</span>)             │         <span style=\"color: #00af00; text-decoration-color: #00af00\">8,256</span> │\n",
       "├─────────────────────────────────┼────────────────────────┼───────────────┤\n",
       "│ dense_8 (<span style=\"color: #0087ff; text-decoration-color: #0087ff\">Dense</span>)                 │ (<span style=\"color: #00d7ff; text-decoration-color: #00d7ff\">None</span>, <span style=\"color: #00af00; text-decoration-color: #00af00\">4</span>)              │           <span style=\"color: #00af00; text-decoration-color: #00af00\">260</span> │\n",
       "└─────────────────────────────────┴────────────────────────┴───────────────┘\n",
       "</pre>\n"
      ],
      "text/plain": [
       "┏━━━━━━━━━━━━━━━━━━━━━━━━━━━━━━━━━┳━━━━━━━━━━━━━━━━━━━━━━━━┳━━━━━━━━━━━━━━━┓\n",
       "┃\u001b[1m \u001b[0m\u001b[1mLayer (type)                   \u001b[0m\u001b[1m \u001b[0m┃\u001b[1m \u001b[0m\u001b[1mOutput Shape          \u001b[0m\u001b[1m \u001b[0m┃\u001b[1m \u001b[0m\u001b[1m      Param #\u001b[0m\u001b[1m \u001b[0m┃\n",
       "┡━━━━━━━━━━━━━━━━━━━━━━━━━━━━━━━━━╇━━━━━━━━━━━━━━━━━━━━━━━━╇━━━━━━━━━━━━━━━┩\n",
       "│ dense_6 (\u001b[38;5;33mDense\u001b[0m)                 │ (\u001b[38;5;45mNone\u001b[0m, \u001b[38;5;34m128\u001b[0m)            │         \u001b[38;5;34m8,320\u001b[0m │\n",
       "├─────────────────────────────────┼────────────────────────┼───────────────┤\n",
       "│ dense_7 (\u001b[38;5;33mDense\u001b[0m)                 │ (\u001b[38;5;45mNone\u001b[0m, \u001b[38;5;34m64\u001b[0m)             │         \u001b[38;5;34m8,256\u001b[0m │\n",
       "├─────────────────────────────────┼────────────────────────┼───────────────┤\n",
       "│ dense_8 (\u001b[38;5;33mDense\u001b[0m)                 │ (\u001b[38;5;45mNone\u001b[0m, \u001b[38;5;34m4\u001b[0m)              │           \u001b[38;5;34m260\u001b[0m │\n",
       "└─────────────────────────────────┴────────────────────────┴───────────────┘\n"
      ]
     },
     "metadata": {},
     "output_type": "display_data"
    },
    {
     "data": {
      "text/html": [
       "<pre style=\"white-space:pre;overflow-x:auto;line-height:normal;font-family:Menlo,'DejaVu Sans Mono',consolas,'Courier New',monospace\"><span style=\"font-weight: bold\"> Total params: </span><span style=\"color: #00af00; text-decoration-color: #00af00\">16,836</span> (65.77 KB)\n",
       "</pre>\n"
      ],
      "text/plain": [
       "\u001b[1m Total params: \u001b[0m\u001b[38;5;34m16,836\u001b[0m (65.77 KB)\n"
      ]
     },
     "metadata": {},
     "output_type": "display_data"
    },
    {
     "data": {
      "text/html": [
       "<pre style=\"white-space:pre;overflow-x:auto;line-height:normal;font-family:Menlo,'DejaVu Sans Mono',consolas,'Courier New',monospace\"><span style=\"font-weight: bold\"> Trainable params: </span><span style=\"color: #00af00; text-decoration-color: #00af00\">16,836</span> (65.77 KB)\n",
       "</pre>\n"
      ],
      "text/plain": [
       "\u001b[1m Trainable params: \u001b[0m\u001b[38;5;34m16,836\u001b[0m (65.77 KB)\n"
      ]
     },
     "metadata": {},
     "output_type": "display_data"
    },
    {
     "data": {
      "text/html": [
       "<pre style=\"white-space:pre;overflow-x:auto;line-height:normal;font-family:Menlo,'DejaVu Sans Mono',consolas,'Courier New',monospace\"><span style=\"font-weight: bold\"> Non-trainable params: </span><span style=\"color: #00af00; text-decoration-color: #00af00\">0</span> (0.00 B)\n",
       "</pre>\n"
      ],
      "text/plain": [
       "\u001b[1m Non-trainable params: \u001b[0m\u001b[38;5;34m0\u001b[0m (0.00 B)\n"
      ]
     },
     "metadata": {},
     "output_type": "display_data"
    },
    {
     "name": "stdout",
     "output_type": "stream",
     "text": [
      "None\n"
     ]
    }
   ],
   "source": [
    "# Define your neural network's architecture (layers, neurons, etc.).\n",
    "# The first Dense layer should include the input_shape, i.e., the number of input variables.\n",
    "# The following layers do not need an input_shape argument.\n",
    "# Since this is a classificaton problem, the last layer should have softmax as activation function.\n",
    "# keras.Sequential() expects a list of layers, e.g., keras.layers.Dense() which is a fully connected layer.\n",
    "# The number of neurons of a dense layer can be specified with the 'units' argument.\n",
    "# The activation function is specified with the 'activation' argument.\n",
    "\n",
    "model1 = keras.Sequential([\n",
    "    Dense(128, activation='relu', input_shape=(train_normalized.shape[1],)),\n",
    "    Dense(64, activation='relu'),\n",
    "    Dense(4, activation='softmax') #Output of the network\n",
    "])\n",
    "\n",
    "# Print the model summary.\n",
    "print(model1.summary())"
   ]
  },
  {
   "cell_type": "markdown",
   "metadata": {
    "id": "zIg9ImaK7dDA"
   },
   "source": [
    "### Define optimizer and compile the model"
   ]
  },
  {
   "cell_type": "code",
   "execution_count": 60,
   "metadata": {
    "id": "fIzn-QvD7dDA"
   },
   "outputs": [],
   "source": [
    "# We can use for example, Stochastic Gradient Descent as the optimizer.\n",
    "\n",
    "# Set a learning rate for the opimizer.\n",
    "lr = .0001 \n",
    "\n",
    "# Instantiate the optimzier with the specified learning rate.\n",
    "optimizer = SGD(lr)\n",
    "\n",
    "# Compile the model.\n",
    "# Since this is a classification problem we need \"categorical_crossentropy\" as the loss function.\n",
    "model1.compile(optimizer = optimizer, loss = \"categorical_crossentropy\", metrics = ['accuracy'])\n",
    "\n"
   ]
  },
  {
   "cell_type": "code",
   "execution_count": 70,
   "metadata": {
    "id": "tgspdbri7dDB",
    "scrolled": true
   },
   "outputs": [
    {
     "name": "stdout",
     "output_type": "stream",
     "text": [
      "Epoch 1/15\n",
      "\u001b[1m219/219\u001b[0m \u001b[32m━━━━━━━━━━━━━━━━━━━━\u001b[0m\u001b[37m\u001b[0m \u001b[1m0s\u001b[0m 432us/step - accuracy: 0.6964 - loss: 0.8411 - val_accuracy: 0.6672 - val_loss: 0.8663\n",
      "Epoch 2/15\n",
      "\u001b[1m219/219\u001b[0m \u001b[32m━━━━━━━━━━━━━━━━━━━━\u001b[0m\u001b[37m\u001b[0m \u001b[1m0s\u001b[0m 354us/step - accuracy: 0.7007 - loss: 0.8393 - val_accuracy: 0.6707 - val_loss: 0.8660\n",
      "Epoch 3/15\n",
      "\u001b[1m219/219\u001b[0m \u001b[32m━━━━━━━━━━━━━━━━━━━━\u001b[0m\u001b[37m\u001b[0m \u001b[1m0s\u001b[0m 351us/step - accuracy: 0.6918 - loss: 0.8479 - val_accuracy: 0.6595 - val_loss: 0.8650\n",
      "Epoch 4/15\n",
      "\u001b[1m219/219\u001b[0m \u001b[32m━━━━━━━━━━━━━━━━━━━━\u001b[0m\u001b[37m\u001b[0m \u001b[1m0s\u001b[0m 347us/step - accuracy: 0.7003 - loss: 0.8336 - val_accuracy: 0.6586 - val_loss: 0.8646\n",
      "Epoch 5/15\n",
      "\u001b[1m219/219\u001b[0m \u001b[32m━━━━━━━━━━━━━━━━━━━━\u001b[0m\u001b[37m\u001b[0m \u001b[1m0s\u001b[0m 343us/step - accuracy: 0.7053 - loss: 0.8427 - val_accuracy: 0.6561 - val_loss: 0.8643\n",
      "Epoch 6/15\n",
      "\u001b[1m219/219\u001b[0m \u001b[32m━━━━━━━━━━━━━━━━━━━━\u001b[0m\u001b[37m\u001b[0m \u001b[1m0s\u001b[0m 345us/step - accuracy: 0.7002 - loss: 0.8245 - val_accuracy: 0.6698 - val_loss: 0.8651\n",
      "Epoch 7/15\n",
      "\u001b[1m219/219\u001b[0m \u001b[32m━━━━━━━━━━━━━━━━━━━━\u001b[0m\u001b[37m\u001b[0m \u001b[1m0s\u001b[0m 344us/step - accuracy: 0.7009 - loss: 0.8393 - val_accuracy: 0.6629 - val_loss: 0.8638\n",
      "Epoch 8/15\n",
      "\u001b[1m219/219\u001b[0m \u001b[32m━━━━━━━━━━━━━━━━━━━━\u001b[0m\u001b[37m\u001b[0m \u001b[1m0s\u001b[0m 344us/step - accuracy: 0.6989 - loss: 0.8293 - val_accuracy: 0.6612 - val_loss: 0.8634\n",
      "Epoch 9/15\n",
      "\u001b[1m219/219\u001b[0m \u001b[32m━━━━━━━━━━━━━━━━━━━━\u001b[0m\u001b[37m\u001b[0m \u001b[1m0s\u001b[0m 370us/step - accuracy: 0.7067 - loss: 0.8351 - val_accuracy: 0.6647 - val_loss: 0.8636\n",
      "Epoch 10/15\n",
      "\u001b[1m219/219\u001b[0m \u001b[32m━━━━━━━━━━━━━━━━━━━━\u001b[0m\u001b[37m\u001b[0m \u001b[1m0s\u001b[0m 353us/step - accuracy: 0.6933 - loss: 0.8424 - val_accuracy: 0.6569 - val_loss: 0.8628\n",
      "Epoch 11/15\n",
      "\u001b[1m219/219\u001b[0m \u001b[32m━━━━━━━━━━━━━━━━━━━━\u001b[0m\u001b[37m\u001b[0m \u001b[1m0s\u001b[0m 347us/step - accuracy: 0.6997 - loss: 0.8336 - val_accuracy: 0.6561 - val_loss: 0.8628\n",
      "Epoch 12/15\n",
      "\u001b[1m219/219\u001b[0m \u001b[32m━━━━━━━━━━━━━━━━━━━━\u001b[0m\u001b[37m\u001b[0m \u001b[1m0s\u001b[0m 346us/step - accuracy: 0.7008 - loss: 0.8345 - val_accuracy: 0.6569 - val_loss: 0.8623\n",
      "Epoch 13/15\n",
      "\u001b[1m219/219\u001b[0m \u001b[32m━━━━━━━━━━━━━━━━━━━━\u001b[0m\u001b[37m\u001b[0m \u001b[1m0s\u001b[0m 344us/step - accuracy: 0.6896 - loss: 0.8327 - val_accuracy: 0.6638 - val_loss: 0.8625\n",
      "Epoch 14/15\n",
      "\u001b[1m219/219\u001b[0m \u001b[32m━━━━━━━━━━━━━━━━━━━━\u001b[0m\u001b[37m\u001b[0m \u001b[1m0s\u001b[0m 345us/step - accuracy: 0.6966 - loss: 0.8349 - val_accuracy: 0.6655 - val_loss: 0.8629\n",
      "Epoch 15/15\n",
      "\u001b[1m219/219\u001b[0m \u001b[32m━━━━━━━━━━━━━━━━━━━━\u001b[0m\u001b[37m\u001b[0m \u001b[1m0s\u001b[0m 342us/step - accuracy: 0.6946 - loss: 0.8391 - val_accuracy: 0.6543 - val_loss: 0.8614\n"
     ]
    }
   ],
   "source": [
    "# Train the model with the normalized train set using the fit() function.\n",
    "# Use the normalized val1 set as validation data. You can do so with the 'validation_data' argument of the fit() function\n",
    "# that accepts a tuple as argument: model1.fit(..., validation_data = (val1_normalized, val1_labels))\n",
    "# Remember to set the number of epochs and the batch_size.\n",
    "\n",
    "# NOTE: After fitting a model its state is saved. If you change hyperparameters (learning rate, epohcs, etc.)\n",
    "# you should reinstantiate the model for example by re-reunning: model1 = keras.Sequential([....]]\n",
    "# compile the model again and fit.\n",
    "\n",
    "\n",
    "history = model1.fit(train_normalized, train_labels, epochs=15, batch_size=32,                \n",
    "    validation_data=(val1_normalized, val1_labels)  \n",
    ")\n"
   ]
  },
  {
   "cell_type": "code",
   "execution_count": 71,
   "metadata": {
    "id": "YoDdp6T_7dDB"
   },
   "outputs": [
    {
     "data": {
      "image/png": "[encoded data removed]",
      "text/plain": [
       "<Figure size 640x480 with 1 Axes>"
      ]
     },
     "metadata": {},
     "output_type": "display_data"
    },
    {
     "data": {
      "image/png": "[encoded data removed]",
      "text/plain": [
       "<Figure size 640x480 with 1 Axes>"
      ]
     },
     "metadata": {},
     "output_type": "display_data"
    }
   ],
   "source": [
    "# Plot the accuracy and loss curves.\n",
    "# Based on the validation accuracy and curves, fine tune your model,\n",
    "# for example by changing the number of epochs, learning rate, network architecture, etc.\n",
    "\n",
    "import matplotlib.pyplot as plt\n",
    "%matplotlib inline\n",
    "# summarize history for accuracy\n",
    "plt.plot(history.history['accuracy'])\n",
    "plt.plot(history.history['val_accuracy'])\n",
    "plt.title('model accuracy')\n",
    "plt.ylabel('accuracy')\n",
    "plt.xlabel('epoch')\n",
    "plt.legend(['train', 'validation'], loc='upper left')\n",
    "plt.show()\n",
    "# summarize history for loss\n",
    "plt.plot(history.history['loss'])\n",
    "plt.plot(history.history['val_loss'])\n",
    "plt.title('model loss')\n",
    "plt.ylabel('loss')\n",
    "plt.xlabel('epoch')\n",
    "plt.legend(['train', 'validation'], loc='upper left')\n",
    "plt.show()"
   ]
  },
  {
   "cell_type": "markdown",
   "metadata": {
    "id": "_1CiGTaA7dDB"
   },
   "source": [
    "**Evaluate the performance on *val1 set*.**"
   ]
  },
  {
   "cell_type": "code",
   "execution_count": 72,
   "metadata": {
    "id": "Wh9hcLId7dDB"
   },
   "outputs": [
    {
     "name": "stdout",
     "output_type": "stream",
     "text": [
      "\u001b[1m37/37\u001b[0m \u001b[32m━━━━━━━━━━━━━━━━━━━━\u001b[0m\u001b[37m\u001b[0m \u001b[1m0s\u001b[0m 305us/step - accuracy: 0.6680 - loss: 0.8517\n"
     ]
    },
    {
     "data": {
      "text/plain": [
       "[0.8614413142204285, 0.6543422341346741]"
      ]
     },
     "execution_count": 72,
     "metadata": {},
     "output_type": "execute_result"
    }
   ],
   "source": [
    "# The evaluate() function can be used to evaluate the model on a specified dataset.\n",
    "# It returns the loss and the metrics specified in fit(), in this case 'accuracy'.\n",
    "# The following code prints the final loss and accuracy and should be the same as printed in the last epoch.\n",
    "model1.evaluate(val1_normalized, val1_labels) #[loss, accuracy]"
   ]
  },
  {
   "cell_type": "markdown",
   "metadata": {
    "id": "QzUqXmN57dDB"
   },
   "source": [
    "# Step 3: build and evaluate model 2.\n",
    "\n",
    "Build another network. This one should have a different architecture from `model1`.\n",
    "Store the model in a variable `model2`."
   ]
  },
  {
   "cell_type": "code",
   "execution_count": null,
   "metadata": {
    "id": "sRojl6J37dDB"
   },
   "outputs": [],
   "source": [
    "#### YOUR CODE HERE ####\n",
    "model2 = keras.Sequential([\n",
    "\n",
    "])\n",
    "\n",
    "# Print model summary.\n",
    "print(model2.summary())"
   ]
  },
  {
   "cell_type": "code",
   "execution_count": null,
   "metadata": {
    "id": "hw-49fFX7dDB"
   },
   "outputs": [],
   "source": [
    "# Instantiate an optimizer and specify the learning rate.\n",
    "\n",
    "#### YOUR CODE HERE ####\n",
    "\n",
    "\n",
    "\n",
    "# Compile the model with the instantiated optimizer.\n",
    "#### YOUR CODE HERE ####\n",
    "\n",
    "\n"
   ]
  },
  {
   "cell_type": "code",
   "execution_count": null,
   "metadata": {
    "id": "HQADUiPh7dDB",
    "scrolled": true
   },
   "outputs": [],
   "source": [
    "# Train the model with the normalized train set. Remember to set the number of epochs,\n",
    "# the validation_data and batch_size.\n",
    "\n",
    "#### COMPLETE THE CODE ####\n",
    "history2 = model2.fit(\n",
    "\n",
    ")"
   ]
  },
  {
   "cell_type": "code",
   "execution_count": null,
   "metadata": {
    "id": "xUjQyBKE7dDB"
   },
   "outputs": [],
   "source": [
    "# Plot the accuracy and loss curves.\n",
    "# Based on the curves, fine tune your model, for example by changing the number of epochs, learning rate, network architecture, etc.\n",
    "\n",
    "import matplotlib.pyplot as plt\n",
    "%matplotlib inline\n",
    "# summarize history for accuracy\n",
    "plt.plot(history2.history['accuracy'])\n",
    "plt.plot(history2.history['val_accuracy'])\n",
    "plt.title('model accuracy')\n",
    "plt.ylabel('accuracy')\n",
    "plt.xlabel('epoch')\n",
    "plt.legend(['train', 'validation'], loc='upper left')\n",
    "plt.show()\n",
    "# summarize history for loss\n",
    "plt.plot(history2.history['loss'])\n",
    "plt.plot(history2.history['val_loss'])\n",
    "plt.title('model loss')\n",
    "plt.ylabel('loss')\n",
    "plt.xlabel('epoch')\n",
    "plt.legend(['train', 'validation'], loc='upper left')\n",
    "plt.show()"
   ]
  },
  {
   "cell_type": "markdown",
   "metadata": {
    "id": "D_M0BmhW7dDB"
   },
   "source": [
    "**Evaluate the performance on *val1 set*.**"
   ]
  },
  {
   "cell_type": "code",
   "execution_count": null,
   "metadata": {
    "id": "wTKsniWS7dDB"
   },
   "outputs": [],
   "source": [
    "# Evaluate model2 using the evaluate() function.\n",
    "\n",
    "#### YOUR CODE HERE ####\n",
    "\n"
   ]
  },
  {
   "cell_type": "markdown",
   "metadata": {
    "id": "4j485u_Q7dDB"
   },
   "source": [
    "# Step 4 and 5: Combine models and evaluate the performance on *val2 set*"
   ]
  },
  {
   "cell_type": "code",
   "execution_count": null,
   "metadata": {
    "id": "TNUHWCR47dDB"
   },
   "outputs": [],
   "source": [
    "# To combine model1 and model2 we can obtain the actual predictions from each model using the predict() function.\n",
    "# Its first argument is the features as numpy array.\n",
    "# This function returns a vector of probabilities for each row.\n",
    "# Each probability represents the likelihood of the corresponding class.\n",
    "\n",
    "# Make predictions on the val2 set using model 1.\n",
    "predictions1 = model1.predict(val2_normalized)\n",
    "\n",
    "# Make predictions on the val2 set using model 2.\n",
    "predictions2 = model2.predict(val2_normalized)\n",
    "\n",
    "# Combine the predictions by multiplying the probabilities.\n",
    "predictionsCombined = predictions1 * predictions2\n",
    "\n",
    "# Print the combined predictions of the first 5 instances.\n",
    "predictionsCombined[0:5,]"
   ]
  },
  {
   "cell_type": "code",
   "execution_count": null,
   "metadata": {
    "id": "O0kPpt147dDB"
   },
   "outputs": [],
   "source": [
    "# Get the column index with max probability to get the predictions in integer format.\n",
    "predictions_int = np.argmax(predictionsCombined, axis=1)\n",
    "\n",
    "# Since the ground truth labels are also one-hot encoded we need to\n",
    "# get the index of the maximum value to obtain the predictions in integer format.\n",
    "true_values_int = np.argmax(val2_labels, axis=1)\n",
    "\n",
    "# Convert back to strings\n",
    "predictions_str = le.inverse_transform(predictions_int)\n",
    "\n",
    "true_values_str = le.inverse_transform(true_values_int)\n",
    "\n",
    "# Accuracy\n",
    "print(accuracy_score(true_values_str, predictions_str))\n",
    "\n",
    "# Recall\n",
    "print(recall_score(true_values_str, predictions_str, average='macro'))"
   ]
  },
  {
   "cell_type": "markdown",
   "metadata": {
    "id": "uN-fA61-7dDB"
   },
   "source": [
    "### Evaluate performance of model 1 with *val2 set*"
   ]
  },
  {
   "cell_type": "code",
   "execution_count": null,
   "metadata": {
    "id": "Nge4db047dDB"
   },
   "outputs": [],
   "source": [
    "# Compute the accuracy and recall just for model1.\n",
    "\n",
    "#### YOUR CODE HERE ####\n",
    "\n"
   ]
  },
  {
   "cell_type": "markdown",
   "metadata": {
    "id": "jmBH6Hje7dDB"
   },
   "source": [
    "### Evaluate performance of model 2 with *val2 set*"
   ]
  },
  {
   "cell_type": "code",
   "execution_count": null,
   "metadata": {
    "id": "9VY-bMPN7dDB"
   },
   "outputs": [],
   "source": [
    "# Compute the accuracy and recall just for model2.\n",
    "\n",
    "#### YOUR CODE HERE ####\n",
    "\n"
   ]
  },
  {
   "cell_type": "markdown",
   "metadata": {
    "id": "s8lp8AsY7dDC"
   },
   "source": [
    "Was the performance of the combined models better than the other two models?\n",
    "If yes, proceed to evaluate your models with the *test set*. If not, iterate from step 2-5."
   ]
  },
  {
   "cell_type": "markdown",
   "metadata": {
    "id": "QsKs7pM87dDH"
   },
   "source": [
    "# Step 6: Evaluate on test set"
   ]
  },
  {
   "cell_type": "markdown",
   "metadata": {
    "id": "QcElyOiy7dDH"
   },
   "source": [
    "### Combined models"
   ]
  },
  {
   "cell_type": "code",
   "execution_count": null,
   "metadata": {
    "id": "na46n7f77dDH"
   },
   "outputs": [],
   "source": [
    "# Evaluate the accuracy and recall of the combined models on the test set.\n",
    "\n",
    "#### YOUR CODE HERE ####\n",
    "\n"
   ]
  },
  {
   "cell_type": "markdown",
   "metadata": {
    "id": "Ys22FTtE7dDH"
   },
   "source": [
    "### Model 1"
   ]
  },
  {
   "cell_type": "code",
   "execution_count": null,
   "metadata": {
    "id": "P2DU_u6l7dDH"
   },
   "outputs": [],
   "source": [
    "# Evaluate the accuracy and recall of model1 on the test set.\n",
    "\n",
    "#### YOUR CODE HERE ####\n",
    "\n"
   ]
  },
  {
   "cell_type": "markdown",
   "metadata": {
    "id": "OpnGKSUx7dDH"
   },
   "source": [
    "### Model 2"
   ]
  },
  {
   "cell_type": "code",
   "execution_count": null,
   "metadata": {
    "id": "yfnguAh-7dDH"
   },
   "outputs": [],
   "source": [
    "# Evaluate the accuracy and recall of model1 on the test set.\n",
    "\n",
    "#### YOUR CODE HERE ####\n",
    "\n"
   ]
  },
  {
   "cell_type": "markdown",
   "metadata": {
    "id": "ZzeJ_e8s7dDH"
   },
   "source": [
    "**This is the end of the exercise!**"
   ]
  }
 ],
 "metadata": {
  "colab": {
   "provenance": []
  },
  "kernelspec": {
   "display_name": "Python 3 (ipykernel)",
   "language": "python",
   "name": "python3"
  },
  "language_info": {
   "codemirror_mode": {
    "name": "ipython",
    "version": 3
   },
   "file_extension": ".py",
   "mimetype": "text/x-python",
   "name": "python",
   "nbconvert_exporter": "python",
   "pygments_lexer": "ipython3",
   "version": "3.12.1"
  }
 },
 "nbformat": 4,
 "nbformat_minor": 4
}
