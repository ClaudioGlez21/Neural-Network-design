{
 "cells": [
  {
   "cell_type": "markdown",
   "metadata": {
    "id": "lSgmmOqh47Uz"
   },
   "source": [
    "**Professor:** Enrique Garcia Ceja\n",
    "**email:** enrique.gc@tec.mx"
   ]
  },
  {
   "cell_type": "markdown",
   "metadata": {
    "id": "88aPyKetABUv"
   },
   "source": [
    "### Team members that contributed to this activity (name and id):\n",
    "\n",
    "- Claudio Gonzalez  \n",
    "- Jorge Guijarro\n",
    "- Frado Palacios  \n",
    "- Gabriel Melendez\n"
   ]
  },
  {
   "cell_type": "markdown",
   "metadata": {
    "id": "6DmWJzN87dC7"
   },
   "source": [
    "# Exercise: Detecting hand gestures from muscle electrical activity with an Ensemble of Neural Networks.\n",
    "\n",
    "In this exercise you will train your first deep neural network to detect hand gestures from muscle activity. In fact, you will build two deep neural networks and ensemble them.\n",
    "\n",
    "The data was collected with a MYO armband electromyography (EMG) sensor (see image below). The data was made available by Kirill Yashuk and can be downloaded [here](https://www.kaggle.com/kyr7plus/emg-4). The armband has 8 sensors that measure electrical activity at a sampling rate of 200Hz.\n",
    "The dataset contains 4 different gestures: <font color=blue>0-rock, 1-scissors, 2-paper, 3-OK.</font>\n",
    "The data contains 65 columns. The last column is the class label from 0 to 3. The first 64 columns are electrical measurements. 8 consecutive readings for each of the 8 sensors. The objective is to use the first 64 variables to predict the class.\n",
    "\n",
    "<table><tr><td><img src=\"https://github.com/enriquegit/ap-img/blob/main/img/myoband.jpg?raw=true\" width=\"200\"></td><td><img src=\"https://github.com/enriquegit/ap-img/blob/main/img/dnn.png?raw=true\" width=\"200\"></td></tr></table>"
   ]
  },
  {
   "cell_type": "markdown",
   "metadata": {
    "id": "1FnXOSjX7dC9"
   },
   "source": [
    "## Instructions\n",
    "\n",
    "In this exercise you will train *two* neural networks and combine their results to produce the final predictions. During training time, you train the two networks with the same train data but each network should have a different architecture. There is no point of building the same two networks because they will produce the same predictions. At test time, a given instance is fed into both networks. Each network outputs the predicted probabilities for each class (by specifying the last activation to be softmax). One way to combine the predictions of both networks is to multiply the output probabilities and predict the class with the highest one. When more than two models compose the ensemble, majority voting can also be used.\n",
    "\n",
    "1. First, you need to randomly split the dataset into several subsets to avoid overfitting. Specifically, you will need **4 subsets**:\n",
    "\n",
    "<table><tr><td><img src=\"https://github.com/enriquegit/ap-img/blob/main/img/splits.png?raw=true\" width=\"250\"></td></tr></table>\n",
    "\n",
    "  - **train set (60%):** This one is used to train the two models.\n",
    "  - **val1 set (10%):** This is used to fine tune parameters of your nueral networks.\n",
    "  - **val2 set (15%):** This one is used to validate the performance when combining the networks.\n",
    "  - **test set (15%):** This one is used at the end only once to test the generalization performance of your model once you are happy with the performance on the *val2 set*.\n",
    "\n",
    "2. Build and train a first neural network using the *train set*. Use the *val1 set* to estimate its performance and fine tune its parameters.\n",
    "\n",
    "3. Build and train a second neural network using the *train set*. Use the *val1 set* to estimate its performance while fine tuning its parameters. This network needs to have a different architecture from the previous one.\n",
    "\n",
    "4. Once you are happy with both networks, it is now time to combine them. Generate predictions on the *val2 set* with your two networks. The predictions should be the probabilities for each class (not the final class). Combine the probabilities of each network by multiplying them. Obtain the final predicted classes by selecting the class with the highest probability.\n",
    "\n",
    "5. Evaluate the performance of the combined models and of each of the individual models on the same *val2 set*. The performance of the combined models should be better than the performance of the best individual model. If this is not the case, iterate from step 2.\n",
    "\n",
    "6. Once you are happy with your results, evaluate the performance of the combined models and each individual one on the *test set* just once.\n",
    "\n",
    "### Tips:\n",
    "\n",
    "- You can pass your validation data to the `fit` function with the `validation_data` argument, e.g., `model.fit(..., validation_data = (val1_features, val1_labels))`.\n",
    "- You can plot accuracy and loss curves to analyze your models behavior. See *demo_sports* notebook for an example.\n",
    "\n",
    "*NOTE:* In this case it was suggested to train both models with the same train data. With *Bagging* [1], which is an ensemble learning method, instead of using the same train data, new train sets are generated with bootstrapping. To construct a dataset, the method samples $N$ data points from the original train set where $N$ is the number of elements on the original train set. The sampling is made *with replacement*. Thus, the new set will contain duplicates and some elements of the original data set will not be present. The purpose of this is to have different models. If the same data is used to train them, they will be very similar and there is no need to train several of them. It is left as an exercise for the reader to implement bootstraping instead of using the same train set.\n",
    "\n",
    "[1] Breiman, L. (1996). Bagging predictors. Machine learning, 24(2), 123-140."
   ]
  },
  {
   "cell_type": "code",
   "execution_count": 46,
   "metadata": {
    "id": "ZXuXqJZm7dC-"
   },
   "outputs": [],
   "source": [
    "import pandas as pd\n",
    "import numpy as np\n",
    "import tensorflow as tf\n",
    "from tensorflow import keras\n",
    "from tensorflow.keras.layers import Input, Dense\n",
    "from tensorflow.keras import Model\n",
    "from sklearn.metrics import accuracy_score, recall_score\n",
    "from sklearn import preprocessing\n",
    "from sklearn.utils import shuffle\n",
    "from sklearn.model_selection import train_test_split\n",
    "from sklearn.preprocessing import MinMaxScaler\n",
    "from tensorflow.keras.optimizers import SGD"
   ]
  },
  {
   "cell_type": "code",
   "execution_count": 37,
   "metadata": {
    "id": "o8reVPhH7dC-"
   },
   "outputs": [
    {
     "name": "stdout",
     "output_type": "stream",
     "text": [
      "(11630, 65)\n"
     ]
    }
   ],
   "source": [
    "# Read the data\n",
    "dataset = pd.concat(\n",
    "    map(pd.read_csv, ['0.csv', '1.csv', '2.csv', '3.csv']), ignore_index=True)\n",
    "\n",
    "seed = 123 #set seed for reproducibility\n",
    "np.random.seed(seed)\n",
    "dataset = shuffle(dataset) #shuffle rows\n",
    "\n",
    "# Since there are not too many missing values we will just drop rows that contain missing values.\n",
    "dataset = dataset.dropna()\n",
    "\n",
    "# Print the dataset size after removing rows with missing values.\n",
    "print(dataset.shape)"
   ]
  },
  {
   "cell_type": "code",
   "execution_count": 38,
   "metadata": {
    "id": "GpERU4rK7dC_"
   },
   "outputs": [
    {
     "data": {
      "text/html": [
       "<div>\n",
       "<style scoped>\n",
       "    .dataframe tbody tr th:only-of-type {\n",
       "        vertical-align: middle;\n",
       "    }\n",
       "\n",
       "    .dataframe tbody tr th {\n",
       "        vertical-align: top;\n",
       "    }\n",
       "\n",
       "    .dataframe thead th {\n",
       "        text-align: right;\n",
       "    }\n",
       "</style>\n",
       "<table border=\"1\" class=\"dataframe\">\n",
       "  <thead>\n",
       "    <tr style=\"text-align: right;\">\n",
       "      <th></th>\n",
       "      <th>V1</th>\n",
       "      <th>V2</th>\n",
       "      <th>V3</th>\n",
       "      <th>V4</th>\n",
       "      <th>V5</th>\n",
       "      <th>V6</th>\n",
       "      <th>V7</th>\n",
       "      <th>V8</th>\n",
       "      <th>V9</th>\n",
       "      <th>V10</th>\n",
       "      <th>...</th>\n",
       "      <th>V56</th>\n",
       "      <th>V57</th>\n",
       "      <th>V58</th>\n",
       "      <th>V59</th>\n",
       "      <th>V60</th>\n",
       "      <th>V61</th>\n",
       "      <th>V62</th>\n",
       "      <th>V63</th>\n",
       "      <th>V64</th>\n",
       "      <th>label</th>\n",
       "    </tr>\n",
       "  </thead>\n",
       "  <tbody>\n",
       "    <tr>\n",
       "      <th>550</th>\n",
       "      <td>-12</td>\n",
       "      <td>-4</td>\n",
       "      <td>-18.0</td>\n",
       "      <td>-59</td>\n",
       "      <td>-2</td>\n",
       "      <td>28</td>\n",
       "      <td>5</td>\n",
       "      <td>-22</td>\n",
       "      <td>11.0</td>\n",
       "      <td>4</td>\n",
       "      <td>...</td>\n",
       "      <td>31</td>\n",
       "      <td>19.0</td>\n",
       "      <td>1.0</td>\n",
       "      <td>1</td>\n",
       "      <td>-1</td>\n",
       "      <td>-5</td>\n",
       "      <td>9.0</td>\n",
       "      <td>-42</td>\n",
       "      <td>-32</td>\n",
       "      <td>rock</td>\n",
       "    </tr>\n",
       "    <tr>\n",
       "      <th>7169</th>\n",
       "      <td>8</td>\n",
       "      <td>13</td>\n",
       "      <td>8.0</td>\n",
       "      <td>1</td>\n",
       "      <td>-22</td>\n",
       "      <td>-5</td>\n",
       "      <td>-2</td>\n",
       "      <td>10</td>\n",
       "      <td>2.0</td>\n",
       "      <td>-9</td>\n",
       "      <td>...</td>\n",
       "      <td>0</td>\n",
       "      <td>1.0</td>\n",
       "      <td>2.0</td>\n",
       "      <td>3</td>\n",
       "      <td>-4</td>\n",
       "      <td>-7</td>\n",
       "      <td>13.0</td>\n",
       "      <td>-1</td>\n",
       "      <td>0</td>\n",
       "      <td>paper</td>\n",
       "    </tr>\n",
       "    <tr>\n",
       "      <th>6458</th>\n",
       "      <td>19</td>\n",
       "      <td>8</td>\n",
       "      <td>-1.0</td>\n",
       "      <td>3</td>\n",
       "      <td>6</td>\n",
       "      <td>-18</td>\n",
       "      <td>-1</td>\n",
       "      <td>-11</td>\n",
       "      <td>-4.0</td>\n",
       "      <td>7</td>\n",
       "      <td>...</td>\n",
       "      <td>-2</td>\n",
       "      <td>-15.0</td>\n",
       "      <td>-7.0</td>\n",
       "      <td>5</td>\n",
       "      <td>5</td>\n",
       "      <td>16</td>\n",
       "      <td>26.0</td>\n",
       "      <td>10</td>\n",
       "      <td>-8</td>\n",
       "      <td>paper</td>\n",
       "    </tr>\n",
       "    <tr>\n",
       "      <th>9330</th>\n",
       "      <td>-3</td>\n",
       "      <td>-4</td>\n",
       "      <td>1.0</td>\n",
       "      <td>0</td>\n",
       "      <td>1</td>\n",
       "      <td>47</td>\n",
       "      <td>10</td>\n",
       "      <td>1</td>\n",
       "      <td>4.0</td>\n",
       "      <td>-1</td>\n",
       "      <td>...</td>\n",
       "      <td>15</td>\n",
       "      <td>-10.0</td>\n",
       "      <td>-14.0</td>\n",
       "      <td>-9</td>\n",
       "      <td>-8</td>\n",
       "      <td>-7</td>\n",
       "      <td>-13.0</td>\n",
       "      <td>-8</td>\n",
       "      <td>-16</td>\n",
       "      <td>ok</td>\n",
       "    </tr>\n",
       "    <tr>\n",
       "      <th>3100</th>\n",
       "      <td>-3</td>\n",
       "      <td>-8</td>\n",
       "      <td>1.0</td>\n",
       "      <td>0</td>\n",
       "      <td>-39</td>\n",
       "      <td>-33</td>\n",
       "      <td>0</td>\n",
       "      <td>14</td>\n",
       "      <td>17.0</td>\n",
       "      <td>2</td>\n",
       "      <td>...</td>\n",
       "      <td>12</td>\n",
       "      <td>-11.0</td>\n",
       "      <td>1.0</td>\n",
       "      <td>4</td>\n",
       "      <td>0</td>\n",
       "      <td>-8</td>\n",
       "      <td>-16.0</td>\n",
       "      <td>1</td>\n",
       "      <td>4</td>\n",
       "      <td>scissors</td>\n",
       "    </tr>\n",
       "  </tbody>\n",
       "</table>\n",
       "<p>5 rows × 65 columns</p>\n",
       "</div>"
      ],
      "text/plain": [
       "      V1  V2    V3  V4  V5  V6  V7  V8    V9  V10  ...  V56   V57   V58  V59  \\\n",
       "550  -12  -4 -18.0 -59  -2  28   5 -22  11.0    4  ...   31  19.0   1.0    1   \n",
       "7169   8  13   8.0   1 -22  -5  -2  10   2.0   -9  ...    0   1.0   2.0    3   \n",
       "6458  19   8  -1.0   3   6 -18  -1 -11  -4.0    7  ...   -2 -15.0  -7.0    5   \n",
       "9330  -3  -4   1.0   0   1  47  10   1   4.0   -1  ...   15 -10.0 -14.0   -9   \n",
       "3100  -3  -8   1.0   0 -39 -33   0  14  17.0    2  ...   12 -11.0   1.0    4   \n",
       "\n",
       "      V60  V61   V62  V63  V64     label  \n",
       "550    -1   -5   9.0  -42  -32      rock  \n",
       "7169   -4   -7  13.0   -1    0     paper  \n",
       "6458    5   16  26.0   10   -8     paper  \n",
       "9330   -8   -7 -13.0   -8  -16        ok  \n",
       "3100    0   -8 -16.0    1    4  scissors  \n",
       "\n",
       "[5 rows x 65 columns]"
      ]
     },
     "execution_count": 38,
     "metadata": {},
     "output_type": "execute_result"
    }
   ],
   "source": [
    "# Print first rows of data.\n",
    "dataset.head()\n"
   ]
  },
  {
   "cell_type": "code",
   "execution_count": 39,
   "metadata": {
    "id": "FFvPtLie7dC_"
   },
   "outputs": [],
   "source": [
    "# Convert features and class to numpy arrays.\n",
    "features = dataset.drop('label', axis=1)\n",
    "\n",
    "labels = dataset[['label']]\n",
    "\n",
    "features = features.values\n",
    "\n",
    "labels = labels.values"
   ]
  },
  {
   "cell_type": "markdown",
   "metadata": {
    "id": "zMGKQOc57dC_"
   },
   "source": [
    "Neural networks need the labels to be one-hot encoded. Currently, our labels are stored as strings. First we need to convert them into integers."
   ]
  },
  {
   "cell_type": "code",
   "execution_count": 40,
   "metadata": {
    "id": "CI68ydJ97dC_"
   },
   "outputs": [
    {
     "name": "stdout",
     "output_type": "stream",
     "text": [
      "[['rock']\n",
      " ['paper']\n",
      " ['paper']\n",
      " ['ok']\n",
      " ['scissors']]\n",
      "[2 1 1 0 3]\n"
     ]
    }
   ],
   "source": [
    "# Convert labels to integers and store the result in labels_int\n",
    "from sklearn.preprocessing import LabelEncoder\n",
    "\n",
    "le = LabelEncoder()\n",
    "\n",
    "labels_int = le.fit_transform(labels.ravel())\n",
    "\n",
    "# Display first 5 labels as strings.\n",
    "print(labels[0:5])\n",
    "\n",
    "# Display first 5 labels as integers.\n",
    "print(labels_int[0:5]) # display first labels"
   ]
  },
  {
   "cell_type": "code",
   "execution_count": 41,
   "metadata": {
    "id": "ZrjwjNpz7dC_"
   },
   "outputs": [],
   "source": [
    "# One hot encode the labels and store the result in a variable called 'labels'\n",
    "# You can use tf.keras.utils.to_categorical() function. Its first argument is an array of ints (e.g., labels_int)\n",
    "# The second argument is the number of classes.\n",
    "\n",
    "labels = tf.keras.utils.to_categorical(labels_int, 4)"
   ]
  },
  {
   "cell_type": "code",
   "execution_count": 42,
   "metadata": {
    "id": "rmoEMgPq7dDA"
   },
   "outputs": [
    {
     "data": {
      "text/plain": [
       "array([[0., 0., 1., 0.],\n",
       "       [0., 1., 0., 0.],\n",
       "       [0., 1., 0., 0.],\n",
       "       [1., 0., 0., 0.],\n",
       "       [0., 0., 0., 1.]])"
      ]
     },
     "execution_count": 42,
     "metadata": {},
     "output_type": "execute_result"
    }
   ],
   "source": [
    "# Print first five one-hot encoded labels\n",
    "\n",
    "labels[0:5,]"
   ]
  },
  {
   "cell_type": "markdown",
   "metadata": {
    "id": "Ov76TaYu7dDA"
   },
   "source": [
    "## Step 1: Split the data.\n",
    "\n",
    "As explained in step 1 from the instructions section, the *train set* (60%) should consist of aprox. 6978 instances. The *val1 set* (10%) should have aprox. 1163 instances. The *val2 set* (15%) and the *test set* (15%) should have aprox. 1744 instances each."
   ]
  },
  {
   "cell_type": "code",
   "execution_count": 32,
   "metadata": {
    "id": "nVA6D61e7dDA"
   },
   "outputs": [
    {
     "name": "stdout",
     "output_type": "stream",
     "text": [
      "(6978, 64)\n",
      "(6978, 4)\n"
     ]
    }
   ],
   "source": [
    "# Currently, the features are stored in the 'features' variable and the labels in 'labels'.\n",
    "# First split into 2 subsets. train set = 60% (6978 instances) and a temporal set that contains the rest of the data (40%).\n",
    "# We will use the train_test_split() function.\n",
    "# The train_size argument specifies the number of instances to be included in the train set.\n",
    "\n",
    "train_features, tmp_features, train_labels, tmp_labels = train_test_split(features, labels,\n",
    "                                                                            train_size = 6978, random_state=1234)\n",
    "\n",
    "# Now train_features and train_labels contain the train set.\n",
    "# tmp_features and tmp_labels contain the rest of the data.\n",
    "\n",
    "# Let's print the shape of the train set. It should now contain 6978 instances.\n",
    "print(train_features.shape)\n",
    "print(train_labels.shape)"
   ]
  },
  {
   "cell_type": "code",
   "execution_count": 33,
   "metadata": {
    "id": "CkMYFvr77dDA"
   },
   "outputs": [
    {
     "name": "stdout",
     "output_type": "stream",
     "text": [
      "Val1 set shape: (1163, 64)\n",
      "Val1 labels shape: (1163, 4)\n"
     ]
    }
   ],
   "source": [
    "# Now, tmp_features has 40% of the total original data.\n",
    "# We need to split tmp_features and tmp_labels into the remaining test, val1 and val2 sets.\n",
    "# We can start by spliting tmp_features into two subsets.\n",
    "# The first subset correspons to the 10% of the total (1163 instances) of the val1 data.\n",
    "# The second subset is the remaining 30% of the total which will be split later into 15% for test and 15% for val2.\n",
    "\n",
    "# Use the train_test_split() function to split tmp_features and tmp_labels.\n",
    "# Store 10% of the TOTAL dataset into val1_features, val1_labels and the remaining into tmp2_features and tmp2_labels.\n",
    "\n",
    "\n",
    "val1_features, tmp2_features, val1_labels, tmp2_labels = train_test_split(tmp_features, tmp_labels,\n",
    "                                                                          train_size=1163, random_state=1234)\n",
    "\n",
    "# Print size of val1 set. It should have 1163 instances.\n",
    "print(\"Val1 set shape:\", val1_features.shape)\n",
    "print(\"Val1 labels shape:\", val1_labels.shape)\n"
   ]
  },
  {
   "cell_type": "code",
   "execution_count": 34,
   "metadata": {
    "id": "7V5u8j1t7dDA"
   },
   "outputs": [
    {
     "name": "stdout",
     "output_type": "stream",
     "text": [
      "Test labels shape: (1744, 4)\n",
      "Val2 labels shape: (1745, 4)\n"
     ]
    }
   ],
   "source": [
    "# Now, tmp2_features, tmp2_labels contains 30% of the TOTAL dataset.\n",
    "# Split tmp2_features, tmp2_labels into two equally sized datasets.\n",
    "# test_features, test_labels and val2_features, val2_labels.\n",
    "\n",
    "# dividimos el segundo conjunto temporal en test (15%) y val2 (15%)\n",
    "test_features, val2_features, test_labels, val2_labels = train_test_split(tmp2_features, tmp2_labels, \n",
    "                                                                          train_size=1744, random_state=1234)\n",
    "# Print test and val2 sizes. Their sizes should be aprox. 1744.\n",
    "print(\"Test labels shape:\", test_labels.shape)\n",
    "print(\"Val2 labels shape:\", val2_labels.shape)"
   ]
  },
  {
   "cell_type": "markdown",
   "metadata": {
    "id": "4ooLUvZh7dDA"
   },
   "source": [
    "Noramlize the features between 0 and 1. Remember that normalization parameters are learned just from the training data."
   ]
  },
  {
   "cell_type": "code",
   "execution_count": 35,
   "metadata": {
    "id": "56NJuAH_7dDA"
   },
   "outputs": [
    {
     "name": "stdout",
     "output_type": "stream",
     "text": [
      "(6978, 64)\n",
      "(1163, 64)\n",
      "(1745, 64)\n",
      "(1744, 64)\n"
     ]
    }
   ],
   "source": [
    "# Normalize features between 0 and 1.\n",
    "# Remember that normalization parameters are learned just from the training data.\n",
    "\n",
    "normalizer = MinMaxScaler().fit(train_features)\n",
    "# Use the learned normalizer to normalize train_features and store the result in train_normalized.\n",
    "train_normalized = normalizer.transform(train_features)\n",
    "\n",
    "# Use the learned normalizer to normalize test_features and store the result in test_normalized.\n",
    "test_normalized= normalizer.transform(test_features)\n",
    "\n",
    "# Use the learned normalizer to normalize val1_features and store the result in val1_normalized.\n",
    "val1_normalized =normalizer.transform(val1_features)\n",
    "\n",
    "# Use the learned normalizer to normalize val2_features set and store the result in val2_normalized.\n",
    "val2_normalized =normalizer.transform(val2_features)\n",
    "\n",
    "print( train_normalized.shape)\n",
    "print(val1_normalized.shape)\n",
    "print(val2_normalized.shape)\n",
    "print(test_normalized.shape)\n",
    "\n"
   ]
  },
  {
   "cell_type": "markdown",
   "metadata": {
    "id": "gtEB-5xS7dDA"
   },
   "source": [
    "# Step 2: Build and evaluate model 1.\n",
    "\n",
    "Now it is time to build model 1 (the first neural network). Use the keras Sequential API to build a deep network (at least 2 hidden layers). Store the model in a variable `model1`."
   ]
  },
  {
   "cell_type": "code",
   "execution_count": 45,
   "metadata": {
    "id": "rejlkNrm7dDA"
   },
   "outputs": [
    {
     "data": {
      "text/html": [
       "<pre style=\"white-space:pre;overflow-x:auto;line-height:normal;font-family:Menlo,'DejaVu Sans Mono',consolas,'Courier New',monospace\"><span style=\"font-weight: bold\">Model: \"sequential_2\"</span>\n",
       "</pre>\n"
      ],
      "text/plain": [
       "\u001b[1mModel: \"sequential_2\"\u001b[0m\n"
      ]
     },
     "metadata": {},
     "output_type": "display_data"
    },
    {
     "data": {
      "text/html": [
       "<pre style=\"white-space:pre;overflow-x:auto;line-height:normal;font-family:Menlo,'DejaVu Sans Mono',consolas,'Courier New',monospace\">┏━━━━━━━━━━━━━━━━━━━━━━━━━━━━━━━━━┳━━━━━━━━━━━━━━━━━━━━━━━━┳━━━━━━━━━━━━━━━┓\n",
       "┃<span style=\"font-weight: bold\"> Layer (type)                    </span>┃<span style=\"font-weight: bold\"> Output Shape           </span>┃<span style=\"font-weight: bold\">       Param # </span>┃\n",
       "┡━━━━━━━━━━━━━━━━━━━━━━━━━━━━━━━━━╇━━━━━━━━━━━━━━━━━━━━━━━━╇━━━━━━━━━━━━━━━┩\n",
       "│ dense_6 (<span style=\"color: #0087ff; text-decoration-color: #0087ff\">Dense</span>)                 │ (<span style=\"color: #00d7ff; text-decoration-color: #00d7ff\">None</span>, <span style=\"color: #00af00; text-decoration-color: #00af00\">128</span>)            │         <span style=\"color: #00af00; text-decoration-color: #00af00\">8,320</span> │\n",
       "├─────────────────────────────────┼────────────────────────┼───────────────┤\n",
       "│ dense_7 (<span style=\"color: #0087ff; text-decoration-color: #0087ff\">Dense</span>)                 │ (<span style=\"color: #00d7ff; text-decoration-color: #00d7ff\">None</span>, <span style=\"color: #00af00; text-decoration-color: #00af00\">64</span>)             │         <span style=\"color: #00af00; text-decoration-color: #00af00\">8,256</span> │\n",
       "├─────────────────────────────────┼────────────────────────┼───────────────┤\n",
       "│ dense_8 (<span style=\"color: #0087ff; text-decoration-color: #0087ff\">Dense</span>)                 │ (<span style=\"color: #00d7ff; text-decoration-color: #00d7ff\">None</span>, <span style=\"color: #00af00; text-decoration-color: #00af00\">4</span>)              │           <span style=\"color: #00af00; text-decoration-color: #00af00\">260</span> │\n",
       "└─────────────────────────────────┴────────────────────────┴───────────────┘\n",
       "</pre>\n"
      ],
      "text/plain": [
       "┏━━━━━━━━━━━━━━━━━━━━━━━━━━━━━━━━━┳━━━━━━━━━━━━━━━━━━━━━━━━┳━━━━━━━━━━━━━━━┓\n",
       "┃\u001b[1m \u001b[0m\u001b[1mLayer (type)                   \u001b[0m\u001b[1m \u001b[0m┃\u001b[1m \u001b[0m\u001b[1mOutput Shape          \u001b[0m\u001b[1m \u001b[0m┃\u001b[1m \u001b[0m\u001b[1m      Param #\u001b[0m\u001b[1m \u001b[0m┃\n",
       "┡━━━━━━━━━━━━━━━━━━━━━━━━━━━━━━━━━╇━━━━━━━━━━━━━━━━━━━━━━━━╇━━━━━━━━━━━━━━━┩\n",
       "│ dense_6 (\u001b[38;5;33mDense\u001b[0m)                 │ (\u001b[38;5;45mNone\u001b[0m, \u001b[38;5;34m128\u001b[0m)            │         \u001b[38;5;34m8,320\u001b[0m │\n",
       "├─────────────────────────────────┼────────────────────────┼───────────────┤\n",
       "│ dense_7 (\u001b[38;5;33mDense\u001b[0m)                 │ (\u001b[38;5;45mNone\u001b[0m, \u001b[38;5;34m64\u001b[0m)             │         \u001b[38;5;34m8,256\u001b[0m │\n",
       "├─────────────────────────────────┼────────────────────────┼───────────────┤\n",
       "│ dense_8 (\u001b[38;5;33mDense\u001b[0m)                 │ (\u001b[38;5;45mNone\u001b[0m, \u001b[38;5;34m4\u001b[0m)              │           \u001b[38;5;34m260\u001b[0m │\n",
       "└─────────────────────────────────┴────────────────────────┴───────────────┘\n"
      ]
     },
     "metadata": {},
     "output_type": "display_data"
    },
    {
     "data": {
      "text/html": [
       "<pre style=\"white-space:pre;overflow-x:auto;line-height:normal;font-family:Menlo,'DejaVu Sans Mono',consolas,'Courier New',monospace\"><span style=\"font-weight: bold\"> Total params: </span><span style=\"color: #00af00; text-decoration-color: #00af00\">16,836</span> (65.77 KB)\n",
       "</pre>\n"
      ],
      "text/plain": [
       "\u001b[1m Total params: \u001b[0m\u001b[38;5;34m16,836\u001b[0m (65.77 KB)\n"
      ]
     },
     "metadata": {},
     "output_type": "display_data"
    },
    {
     "data": {
      "text/html": [
       "<pre style=\"white-space:pre;overflow-x:auto;line-height:normal;font-family:Menlo,'DejaVu Sans Mono',consolas,'Courier New',monospace\"><span style=\"font-weight: bold\"> Trainable params: </span><span style=\"color: #00af00; text-decoration-color: #00af00\">16,836</span> (65.77 KB)\n",
       "</pre>\n"
      ],
      "text/plain": [
       "\u001b[1m Trainable params: \u001b[0m\u001b[38;5;34m16,836\u001b[0m (65.77 KB)\n"
      ]
     },
     "metadata": {},
     "output_type": "display_data"
    },
    {
     "data": {
      "text/html": [
       "<pre style=\"white-space:pre;overflow-x:auto;line-height:normal;font-family:Menlo,'DejaVu Sans Mono',consolas,'Courier New',monospace\"><span style=\"font-weight: bold\"> Non-trainable params: </span><span style=\"color: #00af00; text-decoration-color: #00af00\">0</span> (0.00 B)\n",
       "</pre>\n"
      ],
      "text/plain": [
       "\u001b[1m Non-trainable params: \u001b[0m\u001b[38;5;34m0\u001b[0m (0.00 B)\n"
      ]
     },
     "metadata": {},
     "output_type": "display_data"
    },
    {
     "name": "stdout",
     "output_type": "stream",
     "text": [
      "None\n"
     ]
    }
   ],
   "source": [
    "# Define your neural network's architecture (layers, neurons, etc.).\n",
    "# The first Dense layer should include the input_shape, i.e., the number of input variables.\n",
    "# The following layers do not need an input_shape argument.\n",
    "# Since this is a classificaton problem, the last layer should have softmax as activation function.\n",
    "# keras.Sequential() expects a list of layers, e.g., keras.layers.Dense() which is a fully connected layer.\n",
    "# The number of neurons of a dense layer can be specified with the 'units' argument.\n",
    "# The activation function is specified with the 'activation' argument.\n",
    "\n",
    "model1 = keras.Sequential([\n",
    "    Dense(128, activation='relu', input_shape=(train_normalized.shape[1],)),\n",
    "    Dense(64, activation='relu'),\n",
    "    Dense(4, activation='softmax') #Output of the network\n",
    "])\n",
    "\n",
    "# Print the model summary.\n",
    "print(model1.summary())"
   ]
  },
  {
   "cell_type": "markdown",
   "metadata": {
    "id": "zIg9ImaK7dDA"
   },
   "source": [
    "### Define optimizer and compile the model"
   ]
  },
  {
   "cell_type": "code",
   "execution_count": 60,
   "metadata": {
    "id": "fIzn-QvD7dDA"
   },
   "outputs": [],
   "source": [
    "# We can use for example, Stochastic Gradient Descent as the optimizer.\n",
    "\n",
    "# Set a learning rate for the opimizer.\n",
    "lr = .0001 \n",
    "\n",
    "# Instantiate the optimzier with the specified learning rate.\n",
    "optimizer = SGD(lr)\n",
    "\n",
    "# Compile the model.\n",
    "# Since this is a classification problem we need \"categorical_crossentropy\" as the loss function.\n",
    "model1.compile(optimizer = optimizer, loss = \"categorical_crossentropy\", metrics = ['accuracy'])\n",
    "\n"
   ]
  },
  {
   "cell_type": "code",
   "execution_count": 85,
   "metadata": {
    "id": "tgspdbri7dDB",
    "scrolled": true
   },
   "outputs": [
    {
     "name": "stdout",
     "output_type": "stream",
     "text": [
      "Epoch 1/5\n",
      "\u001b[1m55/55\u001b[0m \u001b[32m━━━━━━━━━━━━━━━━━━━━\u001b[0m\u001b[37m\u001b[0m \u001b[1m0s\u001b[0m 1ms/step - accuracy: 0.7012 - loss: 0.8317 - val_accuracy: 0.6604 - val_loss: 0.8604\n",
      "Epoch 2/5\n",
      "\u001b[1m55/55\u001b[0m \u001b[32m━━━━━━━━━━━━━━━━━━━━\u001b[0m\u001b[37m\u001b[0m \u001b[1m0s\u001b[0m 708us/step - accuracy: 0.7078 - loss: 0.8240 - val_accuracy: 0.6612 - val_loss: 0.8604\n",
      "Epoch 3/5\n",
      "\u001b[1m55/55\u001b[0m \u001b[32m━━━━━━━━━━━━━━━━━━━━\u001b[0m\u001b[37m\u001b[0m \u001b[1m0s\u001b[0m 683us/step - accuracy: 0.6995 - loss: 0.8291 - val_accuracy: 0.6612 - val_loss: 0.8603\n",
      "Epoch 4/5\n",
      "\u001b[1m55/55\u001b[0m \u001b[32m━━━━━━━━━━━━━━━━━━━━\u001b[0m\u001b[37m\u001b[0m \u001b[1m0s\u001b[0m 695us/step - accuracy: 0.6970 - loss: 0.8275 - val_accuracy: 0.6604 - val_loss: 0.8602\n",
      "Epoch 5/5\n",
      "\u001b[1m55/55\u001b[0m \u001b[32m━━━━━━━━━━━━━━━━━━━━\u001b[0m\u001b[37m\u001b[0m \u001b[1m0s\u001b[0m 690us/step - accuracy: 0.6914 - loss: 0.8331 - val_accuracy: 0.6612 - val_loss: 0.8601\n"
     ]
    }
   ],
   "source": [
    "# Train the model with the normalized train set using the fit() function.\n",
    "# Use the normalized val1 set as validation data. You can do so with the 'validation_data' argument of the fit() function\n",
    "# that accepts a tuple as argument: model1.fit(..., validation_data = (val1_normalized, val1_labels))\n",
    "# Remember to set the number of epochs and the batch_size.\n",
    "\n",
    "# NOTE: After fitting a model its state is saved. If you change hyperparameters (learning rate, epohcs, etc.)\n",
    "# you should reinstantiate the model for example by re-reunning: model1 = keras.Sequential([....]]\n",
    "# compile the model again and fit.\n",
    "\n",
    "\n",
    "history = model1.fit(train_normalized, train_labels, epochs=5, batch_size=128,\n",
    "                     validation_data=(val1_normalized, val1_labels)  \n",
    ")\n"
   ]
  },
  {
   "cell_type": "code",
   "execution_count": 86,
   "metadata": {
    "id": "YoDdp6T_7dDB"
   },
   "outputs": [
    {
     "data": {
      "image/png": "[encoded data removed]",
      "text/plain": [
       "<Figure size 640x480 with 1 Axes>"
      ]
     },
     "metadata": {},
     "output_type": "display_data"
    },
    {
     "data": {
      "image/png": "[encoded data removed]",
      "text/plain": [
       "<Figure size 640x480 with 1 Axes>"
      ]
     },
     "metadata": {},
     "output_type": "display_data"
    }
   ],
   "source": [
    "# Plot the accuracy and loss curves.\n",
    "# Based on the validation accuracy and curves, fine tune your model,\n",
    "# for example by changing the number of epochs, learning rate, network architecture, etc.\n",
    "\n",
    "import matplotlib.pyplot as plt\n",
    "%matplotlib inline\n",
    "# summarize history for accuracy\n",
    "plt.plot(history.history['accuracy'])\n",
    "plt.plot(history.history['val_accuracy'])\n",
    "plt.title('model accuracy')\n",
    "plt.ylabel('accuracy')\n",
    "plt.xlabel('epoch')\n",
    "plt.legend(['train', 'validation'], loc='upper left')\n",
    "plt.show()\n",
    "# summarize history for loss\n",
    "plt.plot(history.history['loss'])\n",
    "plt.plot(history.history['val_loss'])\n",
    "plt.title('model loss')\n",
    "plt.ylabel('loss')\n",
    "plt.xlabel('epoch')\n",
    "plt.legend(['train', 'validation'], loc='upper left')\n",
    "plt.show()"
   ]
  },
  {
   "cell_type": "markdown",
   "metadata": {
    "id": "_1CiGTaA7dDB"
   },
   "source": [
    "**Evaluate the performance on *val1 set*.**"
   ]
  },
  {
   "cell_type": "code",
   "execution_count": 87,
   "metadata": {
    "id": "Wh9hcLId7dDB"
   },
   "outputs": [
    {
     "name": "stdout",
     "output_type": "stream",
     "text": [
      "\u001b[1m37/37\u001b[0m \u001b[32m━━━━━━━━━━━━━━━━━━━━\u001b[0m\u001b[37m\u001b[0m \u001b[1m0s\u001b[0m 310us/step - accuracy: 0.6730 - loss: 0.8504\n"
     ]
    },
    {
     "data": {
      "text/plain": [
       "[0.8600879311561584, 0.6612209677696228]"
      ]
     },
     "execution_count": 87,
     "metadata": {},
     "output_type": "execute_result"
    }
   ],
   "source": [
    "# The evaluate() function can be used to evaluate the model on a specified dataset.\n",
    "# It returns the loss and the metrics specified in fit(), in this case 'accuracy'.\n",
    "# The following code prints the final loss and accuracy and should be the same as printed in the last epoch.\n",
    "model1.evaluate(val1_normalized, val1_labels) #[loss, accuracy]"
   ]
  },
  {
   "cell_type": "markdown",
   "metadata": {
    "id": "QzUqXmN57dDB"
   },
   "source": [
    "# Step 3: build and evaluate model 2.\n",
    "\n",
    "Build another network. This one should have a different architecture from `model1`.\n",
    "Store the model in a variable `model2`."
   ]
  },
  {
   "cell_type": "code",
   "execution_count": 88,
   "metadata": {
    "id": "sRojl6J37dDB"
   },
   "outputs": [
    {
     "data": {
      "text/html": [
       "<pre style=\"white-space:pre;overflow-x:auto;line-height:normal;font-family:Menlo,'DejaVu Sans Mono',consolas,'Courier New',monospace\"><span style=\"font-weight: bold\">Model: \"sequential_5\"</span>\n",
       "</pre>\n"
      ],
      "text/plain": [
       "\u001b[1mModel: \"sequential_5\"\u001b[0m\n"
      ]
     },
     "metadata": {},
     "output_type": "display_data"
    },
    {
     "data": {
      "text/html": [
       "<pre style=\"white-space:pre;overflow-x:auto;line-height:normal;font-family:Menlo,'DejaVu Sans Mono',consolas,'Courier New',monospace\">┏━━━━━━━━━━━━━━━━━━━━━━━━━━━━━━━━━┳━━━━━━━━━━━━━━━━━━━━━━━━┳━━━━━━━━━━━━━━━┓\n",
       "┃<span style=\"font-weight: bold\"> Layer (type)                    </span>┃<span style=\"font-weight: bold\"> Output Shape           </span>┃<span style=\"font-weight: bold\">       Param # </span>┃\n",
       "┡━━━━━━━━━━━━━━━━━━━━━━━━━━━━━━━━━╇━━━━━━━━━━━━━━━━━━━━━━━━╇━━━━━━━━━━━━━━━┩\n",
       "│ dense_17 (<span style=\"color: #0087ff; text-decoration-color: #0087ff\">Dense</span>)                │ (<span style=\"color: #00d7ff; text-decoration-color: #00d7ff\">None</span>, <span style=\"color: #00af00; text-decoration-color: #00af00\">256</span>)            │        <span style=\"color: #00af00; text-decoration-color: #00af00\">16,640</span> │\n",
       "├─────────────────────────────────┼────────────────────────┼───────────────┤\n",
       "│ dense_18 (<span style=\"color: #0087ff; text-decoration-color: #0087ff\">Dense</span>)                │ (<span style=\"color: #00d7ff; text-decoration-color: #00d7ff\">None</span>, <span style=\"color: #00af00; text-decoration-color: #00af00\">128</span>)            │        <span style=\"color: #00af00; text-decoration-color: #00af00\">32,896</span> │\n",
       "├─────────────────────────────────┼────────────────────────┼───────────────┤\n",
       "│ dense_19 (<span style=\"color: #0087ff; text-decoration-color: #0087ff\">Dense</span>)                │ (<span style=\"color: #00d7ff; text-decoration-color: #00d7ff\">None</span>, <span style=\"color: #00af00; text-decoration-color: #00af00\">64</span>)             │         <span style=\"color: #00af00; text-decoration-color: #00af00\">8,256</span> │\n",
       "├─────────────────────────────────┼────────────────────────┼───────────────┤\n",
       "│ dense_20 (<span style=\"color: #0087ff; text-decoration-color: #0087ff\">Dense</span>)                │ (<span style=\"color: #00d7ff; text-decoration-color: #00d7ff\">None</span>, <span style=\"color: #00af00; text-decoration-color: #00af00\">4</span>)              │           <span style=\"color: #00af00; text-decoration-color: #00af00\">260</span> │\n",
       "└─────────────────────────────────┴────────────────────────┴───────────────┘\n",
       "</pre>\n"
      ],
      "text/plain": [
       "┏━━━━━━━━━━━━━━━━━━━━━━━━━━━━━━━━━┳━━━━━━━━━━━━━━━━━━━━━━━━┳━━━━━━━━━━━━━━━┓\n",
       "┃\u001b[1m \u001b[0m\u001b[1mLayer (type)                   \u001b[0m\u001b[1m \u001b[0m┃\u001b[1m \u001b[0m\u001b[1mOutput Shape          \u001b[0m\u001b[1m \u001b[0m┃\u001b[1m \u001b[0m\u001b[1m      Param #\u001b[0m\u001b[1m \u001b[0m┃\n",
       "┡━━━━━━━━━━━━━━━━━━━━━━━━━━━━━━━━━╇━━━━━━━━━━━━━━━━━━━━━━━━╇━━━━━━━━━━━━━━━┩\n",
       "│ dense_17 (\u001b[38;5;33mDense\u001b[0m)                │ (\u001b[38;5;45mNone\u001b[0m, \u001b[38;5;34m256\u001b[0m)            │        \u001b[38;5;34m16,640\u001b[0m │\n",
       "├─────────────────────────────────┼────────────────────────┼───────────────┤\n",
       "│ dense_18 (\u001b[38;5;33mDense\u001b[0m)                │ (\u001b[38;5;45mNone\u001b[0m, \u001b[38;5;34m128\u001b[0m)            │        \u001b[38;5;34m32,896\u001b[0m │\n",
       "├─────────────────────────────────┼────────────────────────┼───────────────┤\n",
       "│ dense_19 (\u001b[38;5;33mDense\u001b[0m)                │ (\u001b[38;5;45mNone\u001b[0m, \u001b[38;5;34m64\u001b[0m)             │         \u001b[38;5;34m8,256\u001b[0m │\n",
       "├─────────────────────────────────┼────────────────────────┼───────────────┤\n",
       "│ dense_20 (\u001b[38;5;33mDense\u001b[0m)                │ (\u001b[38;5;45mNone\u001b[0m, \u001b[38;5;34m4\u001b[0m)              │           \u001b[38;5;34m260\u001b[0m │\n",
       "└─────────────────────────────────┴────────────────────────┴───────────────┘\n"
      ]
     },
     "metadata": {},
     "output_type": "display_data"
    },
    {
     "data": {
      "text/html": [
       "<pre style=\"white-space:pre;overflow-x:auto;line-height:normal;font-family:Menlo,'DejaVu Sans Mono',consolas,'Courier New',monospace\"><span style=\"font-weight: bold\"> Total params: </span><span style=\"color: #00af00; text-decoration-color: #00af00\">58,052</span> (226.77 KB)\n",
       "</pre>\n"
      ],
      "text/plain": [
       "\u001b[1m Total params: \u001b[0m\u001b[38;5;34m58,052\u001b[0m (226.77 KB)\n"
      ]
     },
     "metadata": {},
     "output_type": "display_data"
    },
    {
     "data": {
      "text/html": [
       "<pre style=\"white-space:pre;overflow-x:auto;line-height:normal;font-family:Menlo,'DejaVu Sans Mono',consolas,'Courier New',monospace\"><span style=\"font-weight: bold\"> Trainable params: </span><span style=\"color: #00af00; text-decoration-color: #00af00\">58,052</span> (226.77 KB)\n",
       "</pre>\n"
      ],
      "text/plain": [
       "\u001b[1m Trainable params: \u001b[0m\u001b[38;5;34m58,052\u001b[0m (226.77 KB)\n"
      ]
     },
     "metadata": {},
     "output_type": "display_data"
    },
    {
     "data": {
      "text/html": [
       "<pre style=\"white-space:pre;overflow-x:auto;line-height:normal;font-family:Menlo,'DejaVu Sans Mono',consolas,'Courier New',monospace\"><span style=\"font-weight: bold\"> Non-trainable params: </span><span style=\"color: #00af00; text-decoration-color: #00af00\">0</span> (0.00 B)\n",
       "</pre>\n"
      ],
      "text/plain": [
       "\u001b[1m Non-trainable params: \u001b[0m\u001b[38;5;34m0\u001b[0m (0.00 B)\n"
      ]
     },
     "metadata": {},
     "output_type": "display_data"
    },
    {
     "name": "stdout",
     "output_type": "stream",
     "text": [
      "None\n"
     ]
    }
   ],
   "source": [
    "model2 = keras.Sequential([\n",
    "    Dense(256, activation='relu', input_shape=(train_normalized.shape[1],)),\n",
    "    Dense(128, activation='relu'),\n",
    "    Dense(64, activation='relu'),\n",
    "    Dense(4, activation='softmax')  \n",
    "])\n",
    "print(model2.summary())"
   ]
  },
  {
   "cell_type": "code",
   "execution_count": 106,
   "metadata": {
    "id": "hw-49fFX7dDB"
   },
   "outputs": [],
   "source": [
    "# Instantiate an optimizer and specify the learning rate.\n",
    "\n",
    "lr = .001 \n",
    "optimizer = SGD(lr)\n",
    "\n",
    "# Compile the model with the instantiated optimizer.\n",
    "model2.compile(optimizer=optimizer, loss=\"categorical_crossentropy\", metrics=['accuracy'])"
   ]
  },
  {
   "cell_type": "code",
   "execution_count": 107,
   "metadata": {
    "id": "HQADUiPh7dDB",
    "scrolled": true
   },
   "outputs": [
    {
     "name": "stdout",
     "output_type": "stream",
     "text": [
      "Epoch 1/100\n",
      "\u001b[1m110/110\u001b[0m \u001b[32m━━━━━━━━━━━━━━━━━━━━\u001b[0m\u001b[37m\u001b[0m \u001b[1m0s\u001b[0m 1ms/step - accuracy: 0.3400 - loss: 1.3701 - val_accuracy: 0.3078 - val_loss: 1.3735\n",
      "Epoch 2/100\n",
      "\u001b[1m110/110\u001b[0m \u001b[32m━━━━━━━━━━━━━━━━━━━━\u001b[0m\u001b[37m\u001b[0m \u001b[1m0s\u001b[0m 705us/step - accuracy: 0.3371 - loss: 1.3696 - val_accuracy: 0.2966 - val_loss: 1.3729\n",
      "Epoch 3/100\n",
      "\u001b[1m110/110\u001b[0m \u001b[32m━━━━━━━━━━━━━━━━━━━━\u001b[0m\u001b[37m\u001b[0m \u001b[1m0s\u001b[0m 696us/step - accuracy: 0.3284 - loss: 1.3701 - val_accuracy: 0.3061 - val_loss: 1.3736\n",
      "Epoch 4/100\n",
      "\u001b[1m110/110\u001b[0m \u001b[32m━━━━━━━━━━━━━━━━━━━━\u001b[0m\u001b[37m\u001b[0m \u001b[1m0s\u001b[0m 705us/step - accuracy: 0.3336 - loss: 1.3694 - val_accuracy: 0.2975 - val_loss: 1.3726\n",
      "Epoch 5/100\n",
      "\u001b[1m110/110\u001b[0m \u001b[32m━━━━━━━━━━━━━━━━━━━━\u001b[0m\u001b[37m\u001b[0m \u001b[1m0s\u001b[0m 700us/step - accuracy: 0.3155 - loss: 1.3707 - val_accuracy: 0.3113 - val_loss: 1.3727\n",
      "Epoch 6/100\n",
      "\u001b[1m110/110\u001b[0m \u001b[32m━━━━━━━━━━━━━━━━━━━━\u001b[0m\u001b[37m\u001b[0m \u001b[1m0s\u001b[0m 701us/step - accuracy: 0.3493 - loss: 1.3689 - val_accuracy: 0.3216 - val_loss: 1.3728\n",
      "Epoch 7/100\n",
      "\u001b[1m110/110\u001b[0m \u001b[32m━━━━━━━━━━━━━━━━━━━━\u001b[0m\u001b[37m\u001b[0m \u001b[1m0s\u001b[0m 694us/step - accuracy: 0.3469 - loss: 1.3698 - val_accuracy: 0.3224 - val_loss: 1.3725\n",
      "Epoch 8/100\n",
      "\u001b[1m110/110\u001b[0m \u001b[32m━━━━━━━━━━━━━━━━━━━━\u001b[0m\u001b[37m\u001b[0m \u001b[1m0s\u001b[0m 690us/step - accuracy: 0.3414 - loss: 1.3695 - val_accuracy: 0.3259 - val_loss: 1.3726\n",
      "Epoch 9/100\n",
      "\u001b[1m110/110\u001b[0m \u001b[32m━━━━━━━━━━━━━━━━━━━━\u001b[0m\u001b[37m\u001b[0m \u001b[1m0s\u001b[0m 688us/step - accuracy: 0.3434 - loss: 1.3685 - val_accuracy: 0.3173 - val_loss: 1.3716\n",
      "Epoch 10/100\n",
      "\u001b[1m110/110\u001b[0m \u001b[32m━━━━━━━━━━━━━━━━━━━━\u001b[0m\u001b[37m\u001b[0m \u001b[1m0s\u001b[0m 694us/step - accuracy: 0.3418 - loss: 1.3686 - val_accuracy: 0.3121 - val_loss: 1.3713\n",
      "Epoch 11/100\n",
      "\u001b[1m110/110\u001b[0m \u001b[32m━━━━━━━━━━━━━━━━━━━━\u001b[0m\u001b[37m\u001b[0m \u001b[1m0s\u001b[0m 686us/step - accuracy: 0.3545 - loss: 1.3682 - val_accuracy: 0.3130 - val_loss: 1.3714\n",
      "Epoch 12/100\n",
      "\u001b[1m110/110\u001b[0m \u001b[32m━━━━━━━━━━━━━━━━━━━━\u001b[0m\u001b[37m\u001b[0m \u001b[1m0s\u001b[0m 736us/step - accuracy: 0.3325 - loss: 1.3693 - val_accuracy: 0.3164 - val_loss: 1.3715\n",
      "Epoch 13/100\n",
      "\u001b[1m110/110\u001b[0m \u001b[32m━━━━━━━━━━━━━━━━━━━━\u001b[0m\u001b[37m\u001b[0m \u001b[1m0s\u001b[0m 694us/step - accuracy: 0.3362 - loss: 1.3684 - val_accuracy: 0.3388 - val_loss: 1.3729\n",
      "Epoch 14/100\n",
      "\u001b[1m110/110\u001b[0m \u001b[32m━━━━━━━━━━━━━━━━━━━━\u001b[0m\u001b[37m\u001b[0m \u001b[1m0s\u001b[0m 685us/step - accuracy: 0.3562 - loss: 1.3680 - val_accuracy: 0.3242 - val_loss: 1.3719\n",
      "Epoch 15/100\n",
      "\u001b[1m110/110\u001b[0m \u001b[32m━━━━━━━━━━━━━━━━━━━━\u001b[0m\u001b[37m\u001b[0m \u001b[1m0s\u001b[0m 691us/step - accuracy: 0.3496 - loss: 1.3677 - val_accuracy: 0.3207 - val_loss: 1.3722\n",
      "Epoch 16/100\n",
      "\u001b[1m110/110\u001b[0m \u001b[32m━━━━━━━━━━━━━━━━━━━━\u001b[0m\u001b[37m\u001b[0m \u001b[1m0s\u001b[0m 705us/step - accuracy: 0.3546 - loss: 1.3679 - val_accuracy: 0.3242 - val_loss: 1.3723\n",
      "Epoch 17/100\n",
      "\u001b[1m110/110\u001b[0m \u001b[32m━━━━━━━━━━━━━━━━━━━━\u001b[0m\u001b[37m\u001b[0m \u001b[1m0s\u001b[0m 692us/step - accuracy: 0.3575 - loss: 1.3669 - val_accuracy: 0.3035 - val_loss: 1.3710\n",
      "Epoch 18/100\n",
      "\u001b[1m110/110\u001b[0m \u001b[32m━━━━━━━━━━━━━━━━━━━━\u001b[0m\u001b[37m\u001b[0m \u001b[1m0s\u001b[0m 686us/step - accuracy: 0.3400 - loss: 1.3671 - val_accuracy: 0.3267 - val_loss: 1.3718\n",
      "Epoch 19/100\n",
      "\u001b[1m110/110\u001b[0m \u001b[32m━━━━━━━━━━━━━━━━━━━━\u001b[0m\u001b[37m\u001b[0m \u001b[1m0s\u001b[0m 696us/step - accuracy: 0.3524 - loss: 1.3676 - val_accuracy: 0.3181 - val_loss: 1.3707\n",
      "Epoch 20/100\n",
      "\u001b[1m110/110\u001b[0m \u001b[32m━━━━━━━━━━━━━━━━━━━━\u001b[0m\u001b[37m\u001b[0m \u001b[1m0s\u001b[0m 707us/step - accuracy: 0.3533 - loss: 1.3692 - val_accuracy: 0.3164 - val_loss: 1.3707\n",
      "Epoch 21/100\n",
      "\u001b[1m110/110\u001b[0m \u001b[32m━━━━━━━━━━━━━━━━━━━━\u001b[0m\u001b[37m\u001b[0m \u001b[1m0s\u001b[0m 701us/step - accuracy: 0.3425 - loss: 1.3673 - val_accuracy: 0.3267 - val_loss: 1.3712\n",
      "Epoch 22/100\n",
      "\u001b[1m110/110\u001b[0m \u001b[32m━━━━━━━━━━━━━━━━━━━━\u001b[0m\u001b[37m\u001b[0m \u001b[1m0s\u001b[0m 690us/step - accuracy: 0.3486 - loss: 1.3670 - val_accuracy: 0.3285 - val_loss: 1.3706\n",
      "Epoch 23/100\n",
      "\u001b[1m110/110\u001b[0m \u001b[32m━━━━━━━━━━━━━━━━━━━━\u001b[0m\u001b[37m\u001b[0m \u001b[1m0s\u001b[0m 688us/step - accuracy: 0.3492 - loss: 1.3669 - val_accuracy: 0.3233 - val_loss: 1.3699\n",
      "Epoch 24/100\n",
      "\u001b[1m110/110\u001b[0m \u001b[32m━━━━━━━━━━━━━━━━━━━━\u001b[0m\u001b[37m\u001b[0m \u001b[1m0s\u001b[0m 692us/step - accuracy: 0.3429 - loss: 1.3674 - val_accuracy: 0.3224 - val_loss: 1.3708\n",
      "Epoch 25/100\n",
      "\u001b[1m110/110\u001b[0m \u001b[32m━━━━━━━━━━━━━━━━━━━━\u001b[0m\u001b[37m\u001b[0m \u001b[1m0s\u001b[0m 751us/step - accuracy: 0.3442 - loss: 1.3662 - val_accuracy: 0.3156 - val_loss: 1.3697\n",
      "Epoch 26/100\n",
      "\u001b[1m110/110\u001b[0m \u001b[32m━━━━━━━━━━━━━━━━━━━━\u001b[0m\u001b[37m\u001b[0m \u001b[1m0s\u001b[0m 702us/step - accuracy: 0.3521 - loss: 1.3665 - val_accuracy: 0.3302 - val_loss: 1.3693\n",
      "Epoch 27/100\n",
      "\u001b[1m110/110\u001b[0m \u001b[32m━━━━━━━━━━━━━━━━━━━━\u001b[0m\u001b[37m\u001b[0m \u001b[1m0s\u001b[0m 689us/step - accuracy: 0.3548 - loss: 1.3666 - val_accuracy: 0.3181 - val_loss: 1.3694\n",
      "Epoch 28/100\n",
      "\u001b[1m110/110\u001b[0m \u001b[32m━━━━━━━━━━━━━━━━━━━━\u001b[0m\u001b[37m\u001b[0m \u001b[1m0s\u001b[0m 689us/step - accuracy: 0.3395 - loss: 1.3664 - val_accuracy: 0.3164 - val_loss: 1.3693\n",
      "Epoch 29/100\n",
      "\u001b[1m110/110\u001b[0m \u001b[32m━━━━━━━━━━━━━━━━━━━━\u001b[0m\u001b[37m\u001b[0m \u001b[1m0s\u001b[0m 686us/step - accuracy: 0.3547 - loss: 1.3667 - val_accuracy: 0.3156 - val_loss: 1.3691\n",
      "Epoch 30/100\n",
      "\u001b[1m110/110\u001b[0m \u001b[32m━━━━━━━━━━━━━━━━━━━━\u001b[0m\u001b[37m\u001b[0m \u001b[1m0s\u001b[0m 711us/step - accuracy: 0.3412 - loss: 1.3660 - val_accuracy: 0.3242 - val_loss: 1.3692\n",
      "Epoch 31/100\n",
      "\u001b[1m110/110\u001b[0m \u001b[32m━━━━━━━━━━━━━━━━━━━━\u001b[0m\u001b[37m\u001b[0m \u001b[1m0s\u001b[0m 697us/step - accuracy: 0.3569 - loss: 1.3651 - val_accuracy: 0.3233 - val_loss: 1.3694\n",
      "Epoch 32/100\n",
      "\u001b[1m110/110\u001b[0m \u001b[32m━━━━━━━━━━━━━━━━━━━━\u001b[0m\u001b[37m\u001b[0m \u001b[1m0s\u001b[0m 713us/step - accuracy: 0.3518 - loss: 1.3649 - val_accuracy: 0.3181 - val_loss: 1.3695\n",
      "Epoch 33/100\n",
      "\u001b[1m110/110\u001b[0m \u001b[32m━━━━━━━━━━━━━━━━━━━━\u001b[0m\u001b[37m\u001b[0m \u001b[1m0s\u001b[0m 703us/step - accuracy: 0.3551 - loss: 1.3657 - val_accuracy: 0.3216 - val_loss: 1.3700\n",
      "Epoch 34/100\n",
      "\u001b[1m110/110\u001b[0m \u001b[32m━━━━━━━━━━━━━━━━━━━━\u001b[0m\u001b[37m\u001b[0m \u001b[1m0s\u001b[0m 693us/step - accuracy: 0.3419 - loss: 1.3653 - val_accuracy: 0.3310 - val_loss: 1.3690\n",
      "Epoch 35/100\n",
      "\u001b[1m110/110\u001b[0m \u001b[32m━━━━━━━━━━━━━━━━━━━━\u001b[0m\u001b[37m\u001b[0m \u001b[1m0s\u001b[0m 699us/step - accuracy: 0.3411 - loss: 1.3658 - val_accuracy: 0.3276 - val_loss: 1.3693\n",
      "Epoch 36/100\n",
      "\u001b[1m110/110\u001b[0m \u001b[32m━━━━━━━━━━━━━━━━━━━━\u001b[0m\u001b[37m\u001b[0m \u001b[1m0s\u001b[0m 693us/step - accuracy: 0.3451 - loss: 1.3655 - val_accuracy: 0.3250 - val_loss: 1.3691\n",
      "Epoch 37/100\n",
      "\u001b[1m110/110\u001b[0m \u001b[32m━━━━━━━━━━━━━━━━━━━━\u001b[0m\u001b[37m\u001b[0m \u001b[1m0s\u001b[0m 731us/step - accuracy: 0.3537 - loss: 1.3646 - val_accuracy: 0.3181 - val_loss: 1.3691\n",
      "Epoch 38/100\n",
      "\u001b[1m110/110\u001b[0m \u001b[32m━━━━━━━━━━━━━━━━━━━━\u001b[0m\u001b[37m\u001b[0m \u001b[1m0s\u001b[0m 709us/step - accuracy: 0.3359 - loss: 1.3661 - val_accuracy: 0.3233 - val_loss: 1.3682\n",
      "Epoch 39/100\n",
      "\u001b[1m110/110\u001b[0m \u001b[32m━━━━━━━━━━━━━━━━━━━━\u001b[0m\u001b[37m\u001b[0m \u001b[1m0s\u001b[0m 694us/step - accuracy: 0.3522 - loss: 1.3652 - val_accuracy: 0.3181 - val_loss: 1.3681\n",
      "Epoch 40/100\n",
      "\u001b[1m110/110\u001b[0m \u001b[32m━━━━━━━━━━━━━━━━━━━━\u001b[0m\u001b[37m\u001b[0m \u001b[1m0s\u001b[0m 701us/step - accuracy: 0.3541 - loss: 1.3646 - val_accuracy: 0.3181 - val_loss: 1.3677\n",
      "Epoch 41/100\n",
      "\u001b[1m110/110\u001b[0m \u001b[32m━━━━━━━━━━━━━━━━━━━━\u001b[0m\u001b[37m\u001b[0m \u001b[1m0s\u001b[0m 697us/step - accuracy: 0.3464 - loss: 1.3648 - val_accuracy: 0.3078 - val_loss: 1.3688\n",
      "Epoch 42/100\n",
      "\u001b[1m110/110\u001b[0m \u001b[32m━━━━━━━━━━━━━━━━━━━━\u001b[0m\u001b[37m\u001b[0m \u001b[1m0s\u001b[0m 692us/step - accuracy: 0.3429 - loss: 1.3651 - val_accuracy: 0.3285 - val_loss: 1.3680\n",
      "Epoch 43/100\n",
      "\u001b[1m110/110\u001b[0m \u001b[32m━━━━━━━━━━━━━━━━━━━━\u001b[0m\u001b[37m\u001b[0m \u001b[1m0s\u001b[0m 699us/step - accuracy: 0.3626 - loss: 1.3642 - val_accuracy: 0.3259 - val_loss: 1.3677\n",
      "Epoch 44/100\n",
      "\u001b[1m110/110\u001b[0m \u001b[32m━━━━━━━━━━━━━━━━━━━━\u001b[0m\u001b[37m\u001b[0m \u001b[1m0s\u001b[0m 701us/step - accuracy: 0.3580 - loss: 1.3638 - val_accuracy: 0.3310 - val_loss: 1.3682\n",
      "Epoch 45/100\n",
      "\u001b[1m110/110\u001b[0m \u001b[32m━━━━━━━━━━━━━━━━━━━━\u001b[0m\u001b[37m\u001b[0m \u001b[1m0s\u001b[0m 710us/step - accuracy: 0.3527 - loss: 1.3642 - val_accuracy: 0.3250 - val_loss: 1.3672\n",
      "Epoch 46/100\n",
      "\u001b[1m110/110\u001b[0m \u001b[32m━━━━━━━━━━━━━━━━━━━━\u001b[0m\u001b[37m\u001b[0m \u001b[1m0s\u001b[0m 757us/step - accuracy: 0.3628 - loss: 1.3622 - val_accuracy: 0.3328 - val_loss: 1.3672\n",
      "Epoch 47/100\n",
      "\u001b[1m110/110\u001b[0m \u001b[32m━━━━━━━━━━━━━━━━━━━━\u001b[0m\u001b[37m\u001b[0m \u001b[1m0s\u001b[0m 710us/step - accuracy: 0.3572 - loss: 1.3636 - val_accuracy: 0.3250 - val_loss: 1.3669\n",
      "Epoch 48/100\n",
      "\u001b[1m110/110\u001b[0m \u001b[32m━━━━━━━━━━━━━━━━━━━━\u001b[0m\u001b[37m\u001b[0m \u001b[1m0s\u001b[0m 716us/step - accuracy: 0.3646 - loss: 1.3622 - val_accuracy: 0.3259 - val_loss: 1.3666\n",
      "Epoch 49/100\n",
      "\u001b[1m110/110\u001b[0m \u001b[32m━━━━━━━━━━━━━━━━━━━━\u001b[0m\u001b[37m\u001b[0m \u001b[1m0s\u001b[0m 700us/step - accuracy: 0.3620 - loss: 1.3622 - val_accuracy: 0.3259 - val_loss: 1.3665\n",
      "Epoch 50/100\n",
      "\u001b[1m110/110\u001b[0m \u001b[32m━━━━━━━━━━━━━━━━━━━━\u001b[0m\u001b[37m\u001b[0m \u001b[1m0s\u001b[0m 703us/step - accuracy: 0.3629 - loss: 1.3624 - val_accuracy: 0.3293 - val_loss: 1.3664\n",
      "Epoch 51/100\n",
      "\u001b[1m110/110\u001b[0m \u001b[32m━━━━━━━━━━━━━━━━━━━━\u001b[0m\u001b[37m\u001b[0m \u001b[1m0s\u001b[0m 701us/step - accuracy: 0.3605 - loss: 1.3627 - val_accuracy: 0.3328 - val_loss: 1.3671\n",
      "Epoch 52/100\n",
      "\u001b[1m110/110\u001b[0m \u001b[32m━━━━━━━━━━━━━━━━━━━━\u001b[0m\u001b[37m\u001b[0m \u001b[1m0s\u001b[0m 705us/step - accuracy: 0.3509 - loss: 1.3623 - val_accuracy: 0.3207 - val_loss: 1.3661\n",
      "Epoch 53/100\n",
      "\u001b[1m110/110\u001b[0m \u001b[32m━━━━━━━━━━━━━━━━━━━━\u001b[0m\u001b[37m\u001b[0m \u001b[1m0s\u001b[0m 701us/step - accuracy: 0.3524 - loss: 1.3629 - val_accuracy: 0.3173 - val_loss: 1.3660\n",
      "Epoch 54/100\n",
      "\u001b[1m110/110\u001b[0m \u001b[32m━━━━━━━━━━━━━━━━━━━━\u001b[0m\u001b[37m\u001b[0m \u001b[1m0s\u001b[0m 762us/step - accuracy: 0.3404 - loss: 1.3629 - val_accuracy: 0.3224 - val_loss: 1.3659\n",
      "Epoch 55/100\n",
      "\u001b[1m110/110\u001b[0m \u001b[32m━━━━━━━━━━━━━━━━━━━━\u001b[0m\u001b[37m\u001b[0m \u001b[1m0s\u001b[0m 723us/step - accuracy: 0.3626 - loss: 1.3623 - val_accuracy: 0.3302 - val_loss: 1.3669\n",
      "Epoch 56/100\n",
      "\u001b[1m110/110\u001b[0m \u001b[32m━━━━━━━━━━━━━━━━━━━━\u001b[0m\u001b[37m\u001b[0m \u001b[1m0s\u001b[0m 709us/step - accuracy: 0.3560 - loss: 1.3627 - val_accuracy: 0.3302 - val_loss: 1.3668\n",
      "Epoch 57/100\n",
      "\u001b[1m110/110\u001b[0m \u001b[32m━━━━━━━━━━━━━━━━━━━━\u001b[0m\u001b[37m\u001b[0m \u001b[1m0s\u001b[0m 699us/step - accuracy: 0.3567 - loss: 1.3621 - val_accuracy: 0.3276 - val_loss: 1.3657\n",
      "Epoch 58/100\n",
      "\u001b[1m110/110\u001b[0m \u001b[32m━━━━━━━━━━━━━━━━━━━━\u001b[0m\u001b[37m\u001b[0m \u001b[1m0s\u001b[0m 704us/step - accuracy: 0.3629 - loss: 1.3612 - val_accuracy: 0.3250 - val_loss: 1.3660\n",
      "Epoch 59/100\n",
      "\u001b[1m110/110\u001b[0m \u001b[32m━━━━━━━━━━━━━━━━━━━━\u001b[0m\u001b[37m\u001b[0m \u001b[1m0s\u001b[0m 691us/step - accuracy: 0.3581 - loss: 1.3609 - val_accuracy: 0.3259 - val_loss: 1.3653\n",
      "Epoch 60/100\n",
      "\u001b[1m110/110\u001b[0m \u001b[32m━━━━━━━━━━━━━━━━━━━━\u001b[0m\u001b[37m\u001b[0m \u001b[1m0s\u001b[0m 707us/step - accuracy: 0.3537 - loss: 1.3607 - val_accuracy: 0.3233 - val_loss: 1.3652\n",
      "Epoch 61/100\n",
      "\u001b[1m110/110\u001b[0m \u001b[32m━━━━━━━━━━━━━━━━━━━━\u001b[0m\u001b[37m\u001b[0m \u001b[1m0s\u001b[0m 763us/step - accuracy: 0.3656 - loss: 1.3611 - val_accuracy: 0.3328 - val_loss: 1.3652\n",
      "Epoch 62/100\n",
      "\u001b[1m110/110\u001b[0m \u001b[32m━━━━━━━━━━━━━━━━━━━━\u001b[0m\u001b[37m\u001b[0m \u001b[1m0s\u001b[0m 706us/step - accuracy: 0.3682 - loss: 1.3605 - val_accuracy: 0.3242 - val_loss: 1.3651\n",
      "Epoch 63/100\n",
      "\u001b[1m110/110\u001b[0m \u001b[32m━━━━━━━━━━━━━━━━━━━━\u001b[0m\u001b[37m\u001b[0m \u001b[1m0s\u001b[0m 703us/step - accuracy: 0.3728 - loss: 1.3608 - val_accuracy: 0.3396 - val_loss: 1.3642\n",
      "Epoch 64/100\n",
      "\u001b[1m110/110\u001b[0m \u001b[32m━━━━━━━━━━━━━━━━━━━━\u001b[0m\u001b[37m\u001b[0m \u001b[1m0s\u001b[0m 710us/step - accuracy: 0.3710 - loss: 1.3611 - val_accuracy: 0.3061 - val_loss: 1.3665\n",
      "Epoch 65/100\n",
      "\u001b[1m110/110\u001b[0m \u001b[32m━━━━━━━━━━━━━━━━━━━━\u001b[0m\u001b[37m\u001b[0m \u001b[1m0s\u001b[0m 711us/step - accuracy: 0.3511 - loss: 1.3599 - val_accuracy: 0.3285 - val_loss: 1.3649\n",
      "Epoch 66/100\n",
      "\u001b[1m110/110\u001b[0m \u001b[32m━━━━━━━━━━━━━━━━━━━━\u001b[0m\u001b[37m\u001b[0m \u001b[1m0s\u001b[0m 722us/step - accuracy: 0.3715 - loss: 1.3603 - val_accuracy: 0.3362 - val_loss: 1.3653\n",
      "Epoch 67/100\n",
      "\u001b[1m110/110\u001b[0m \u001b[32m━━━━━━━━━━━━━━━━━━━━\u001b[0m\u001b[37m\u001b[0m \u001b[1m0s\u001b[0m 713us/step - accuracy: 0.3607 - loss: 1.3599 - val_accuracy: 0.3328 - val_loss: 1.3644\n",
      "Epoch 68/100\n",
      "\u001b[1m110/110\u001b[0m \u001b[32m━━━━━━━━━━━━━━━━━━━━\u001b[0m\u001b[37m\u001b[0m \u001b[1m0s\u001b[0m 746us/step - accuracy: 0.3601 - loss: 1.3599 - val_accuracy: 0.3121 - val_loss: 1.3669\n",
      "Epoch 69/100\n",
      "\u001b[1m110/110\u001b[0m \u001b[32m━━━━━━━━━━━━━━━━━━━━\u001b[0m\u001b[37m\u001b[0m \u001b[1m0s\u001b[0m 701us/step - accuracy: 0.3607 - loss: 1.3594 - val_accuracy: 0.3267 - val_loss: 1.3648\n",
      "Epoch 70/100\n",
      "\u001b[1m110/110\u001b[0m \u001b[32m━━━━━━━━━━━━━━━━━━━━\u001b[0m\u001b[37m\u001b[0m \u001b[1m0s\u001b[0m 702us/step - accuracy: 0.3660 - loss: 1.3596 - val_accuracy: 0.3276 - val_loss: 1.3637\n",
      "Epoch 71/100\n",
      "\u001b[1m110/110\u001b[0m \u001b[32m━━━━━━━━━━━━━━━━━━━━\u001b[0m\u001b[37m\u001b[0m \u001b[1m0s\u001b[0m 703us/step - accuracy: 0.3651 - loss: 1.3592 - val_accuracy: 0.3310 - val_loss: 1.3637\n",
      "Epoch 72/100\n",
      "\u001b[1m110/110\u001b[0m \u001b[32m━━━━━━━━━━━━━━━━━━━━\u001b[0m\u001b[37m\u001b[0m \u001b[1m0s\u001b[0m 707us/step - accuracy: 0.3739 - loss: 1.3593 - val_accuracy: 0.3345 - val_loss: 1.3639\n",
      "Epoch 73/100\n",
      "\u001b[1m110/110\u001b[0m \u001b[32m━━━━━━━━━━━━━━━━━━━━\u001b[0m\u001b[37m\u001b[0m \u001b[1m0s\u001b[0m 698us/step - accuracy: 0.3737 - loss: 1.3584 - val_accuracy: 0.3267 - val_loss: 1.3628\n",
      "Epoch 74/100\n",
      "\u001b[1m110/110\u001b[0m \u001b[32m━━━━━━━━━━━━━━━━━━━━\u001b[0m\u001b[37m\u001b[0m \u001b[1m0s\u001b[0m 744us/step - accuracy: 0.3590 - loss: 1.3591 - val_accuracy: 0.3293 - val_loss: 1.3630\n",
      "Epoch 75/100\n",
      "\u001b[1m110/110\u001b[0m \u001b[32m━━━━━━━━━━━━━━━━━━━━\u001b[0m\u001b[37m\u001b[0m \u001b[1m0s\u001b[0m 713us/step - accuracy: 0.3667 - loss: 1.3577 - val_accuracy: 0.3362 - val_loss: 1.3627\n",
      "Epoch 76/100\n",
      "\u001b[1m110/110\u001b[0m \u001b[32m━━━━━━━━━━━━━━━━━━━━\u001b[0m\u001b[37m\u001b[0m \u001b[1m0s\u001b[0m 702us/step - accuracy: 0.3663 - loss: 1.3575 - val_accuracy: 0.3396 - val_loss: 1.3636\n",
      "Epoch 77/100\n",
      "\u001b[1m110/110\u001b[0m \u001b[32m━━━━━━━━━━━━━━━━━━━━\u001b[0m\u001b[37m\u001b[0m \u001b[1m0s\u001b[0m 704us/step - accuracy: 0.3692 - loss: 1.3573 - val_accuracy: 0.3362 - val_loss: 1.3638\n",
      "Epoch 78/100\n",
      "\u001b[1m110/110\u001b[0m \u001b[32m━━━━━━━━━━━━━━━━━━━━\u001b[0m\u001b[37m\u001b[0m \u001b[1m0s\u001b[0m 700us/step - accuracy: 0.3582 - loss: 1.3591 - val_accuracy: 0.3328 - val_loss: 1.3624\n",
      "Epoch 79/100\n",
      "\u001b[1m110/110\u001b[0m \u001b[32m━━━━━━━━━━━━━━━━━━━━\u001b[0m\u001b[37m\u001b[0m \u001b[1m0s\u001b[0m 696us/step - accuracy: 0.3644 - loss: 1.3579 - val_accuracy: 0.3224 - val_loss: 1.3629\n",
      "Epoch 80/100\n",
      "\u001b[1m110/110\u001b[0m \u001b[32m━━━━━━━━━━━━━━━━━━━━\u001b[0m\u001b[37m\u001b[0m \u001b[1m0s\u001b[0m 747us/step - accuracy: 0.3755 - loss: 1.3573 - val_accuracy: 0.3560 - val_loss: 1.3618\n",
      "Epoch 81/100\n",
      "\u001b[1m110/110\u001b[0m \u001b[32m━━━━━━━━━━━━━━━━━━━━\u001b[0m\u001b[37m\u001b[0m \u001b[1m0s\u001b[0m 694us/step - accuracy: 0.3838 - loss: 1.3571 - val_accuracy: 0.3044 - val_loss: 1.3643\n",
      "Epoch 82/100\n",
      "\u001b[1m110/110\u001b[0m \u001b[32m━━━━━━━━━━━━━━━━━━━━\u001b[0m\u001b[37m\u001b[0m \u001b[1m0s\u001b[0m 704us/step - accuracy: 0.3641 - loss: 1.3579 - val_accuracy: 0.3405 - val_loss: 1.3617\n",
      "Epoch 83/100\n",
      "\u001b[1m110/110\u001b[0m \u001b[32m━━━━━━━━━━━━━━━━━━━━\u001b[0m\u001b[37m\u001b[0m \u001b[1m0s\u001b[0m 701us/step - accuracy: 0.3672 - loss: 1.3568 - val_accuracy: 0.3319 - val_loss: 1.3613\n",
      "Epoch 84/100\n",
      "\u001b[1m110/110\u001b[0m \u001b[32m━━━━━━━━━━━━━━━━━━━━\u001b[0m\u001b[37m\u001b[0m \u001b[1m0s\u001b[0m 709us/step - accuracy: 0.3692 - loss: 1.3557 - val_accuracy: 0.3250 - val_loss: 1.3627\n",
      "Epoch 85/100\n",
      "\u001b[1m110/110\u001b[0m \u001b[32m━━━━━━━━━━━━━━━━━━━━\u001b[0m\u001b[37m\u001b[0m \u001b[1m0s\u001b[0m 756us/step - accuracy: 0.3590 - loss: 1.3562 - val_accuracy: 0.3448 - val_loss: 1.3604\n",
      "Epoch 86/100\n",
      "\u001b[1m110/110\u001b[0m \u001b[32m━━━━━━━━━━━━━━━━━━━━\u001b[0m\u001b[37m\u001b[0m \u001b[1m0s\u001b[0m 712us/step - accuracy: 0.3807 - loss: 1.3566 - val_accuracy: 0.3173 - val_loss: 1.3621\n",
      "Epoch 87/100\n",
      "\u001b[1m110/110\u001b[0m \u001b[32m━━━━━━━━━━━━━━━━━━━━\u001b[0m\u001b[37m\u001b[0m \u001b[1m0s\u001b[0m 709us/step - accuracy: 0.3701 - loss: 1.3563 - val_accuracy: 0.3388 - val_loss: 1.3606\n",
      "Epoch 88/100\n",
      "\u001b[1m110/110\u001b[0m \u001b[32m━━━━━━━━━━━━━━━━━━━━\u001b[0m\u001b[37m\u001b[0m \u001b[1m0s\u001b[0m 721us/step - accuracy: 0.3786 - loss: 1.3542 - val_accuracy: 0.3405 - val_loss: 1.3600\n",
      "Epoch 89/100\n",
      "\u001b[1m110/110\u001b[0m \u001b[32m━━━━━━━━━━━━━━━━━━━━\u001b[0m\u001b[37m\u001b[0m \u001b[1m0s\u001b[0m 708us/step - accuracy: 0.3644 - loss: 1.3550 - val_accuracy: 0.3233 - val_loss: 1.3619\n",
      "Epoch 90/100\n",
      "\u001b[1m110/110\u001b[0m \u001b[32m━━━━━━━━━━━━━━━━━━━━\u001b[0m\u001b[37m\u001b[0m \u001b[1m0s\u001b[0m 768us/step - accuracy: 0.3645 - loss: 1.3549 - val_accuracy: 0.3379 - val_loss: 1.3600\n",
      "Epoch 91/100\n",
      "\u001b[1m110/110\u001b[0m \u001b[32m━━━━━━━━━━━━━━━━━━━━\u001b[0m\u001b[37m\u001b[0m \u001b[1m0s\u001b[0m 717us/step - accuracy: 0.3731 - loss: 1.3541 - val_accuracy: 0.3525 - val_loss: 1.3593\n",
      "Epoch 92/100\n",
      "\u001b[1m110/110\u001b[0m \u001b[32m━━━━━━━━━━━━━━━━━━━━\u001b[0m\u001b[37m\u001b[0m \u001b[1m0s\u001b[0m 718us/step - accuracy: 0.3708 - loss: 1.3553 - val_accuracy: 0.3207 - val_loss: 1.3609\n",
      "Epoch 93/100\n",
      "\u001b[1m110/110\u001b[0m \u001b[32m━━━━━━━━━━━━━━━━━━━━\u001b[0m\u001b[37m\u001b[0m \u001b[1m0s\u001b[0m 710us/step - accuracy: 0.3624 - loss: 1.3539 - val_accuracy: 0.3474 - val_loss: 1.3596\n",
      "Epoch 94/100\n",
      "\u001b[1m110/110\u001b[0m \u001b[32m━━━━━━━━━━━━━━━━━━━━\u001b[0m\u001b[37m\u001b[0m \u001b[1m0s\u001b[0m 753us/step - accuracy: 0.3673 - loss: 1.3540 - val_accuracy: 0.3422 - val_loss: 1.3596\n",
      "Epoch 95/100\n",
      "\u001b[1m110/110\u001b[0m \u001b[32m━━━━━━━━━━━━━━━━━━━━\u001b[0m\u001b[37m\u001b[0m \u001b[1m0s\u001b[0m 715us/step - accuracy: 0.3666 - loss: 1.3542 - val_accuracy: 0.3310 - val_loss: 1.3596\n",
      "Epoch 96/100\n",
      "\u001b[1m110/110\u001b[0m \u001b[32m━━━━━━━━━━━━━━━━━━━━\u001b[0m\u001b[37m\u001b[0m \u001b[1m0s\u001b[0m 721us/step - accuracy: 0.3756 - loss: 1.3535 - val_accuracy: 0.3396 - val_loss: 1.3585\n",
      "Epoch 97/100\n",
      "\u001b[1m110/110\u001b[0m \u001b[32m━━━━━━━━━━━━━━━━━━━━\u001b[0m\u001b[37m\u001b[0m \u001b[1m0s\u001b[0m 711us/step - accuracy: 0.3804 - loss: 1.3523 - val_accuracy: 0.3336 - val_loss: 1.3581\n",
      "Epoch 98/100\n",
      "\u001b[1m110/110\u001b[0m \u001b[32m━━━━━━━━━━━━━━━━━━━━\u001b[0m\u001b[37m\u001b[0m \u001b[1m0s\u001b[0m 787us/step - accuracy: 0.3723 - loss: 1.3533 - val_accuracy: 0.3371 - val_loss: 1.3580\n",
      "Epoch 99/100\n",
      "\u001b[1m110/110\u001b[0m \u001b[32m━━━━━━━━━━━━━━━━━━━━\u001b[0m\u001b[37m\u001b[0m \u001b[1m0s\u001b[0m 718us/step - accuracy: 0.3788 - loss: 1.3529 - val_accuracy: 0.3396 - val_loss: 1.3577\n",
      "Epoch 100/100\n",
      "\u001b[1m110/110\u001b[0m \u001b[32m━━━━━━━━━━━━━━━━━━━━\u001b[0m\u001b[37m\u001b[0m \u001b[1m0s\u001b[0m 711us/step - accuracy: 0.3816 - loss: 1.3536 - val_accuracy: 0.3405 - val_loss: 1.3583\n"
     ]
    }
   ],
   "source": [
    "# Train the model with the normalized train set. Remember to set the number of epochs,\n",
    "# the validation_data and batch_size.\n",
    "\n",
    "\n",
    "#### COMPLETE THE CODE ####\n",
    "history2 = model2.fit(train_normalized, train_labels, epochs=100, batch_size=64, \n",
    "                      validation_data=(val1_normalized, val1_labels))"
   ]
  },
  {
   "cell_type": "code",
   "execution_count": 108,
   "metadata": {
    "id": "xUjQyBKE7dDB"
   },
   "outputs": [
    {
     "data": {
      "image/png": "[encoded data removed]",
      "text/plain": [
       "<Figure size 640x480 with 1 Axes>"
      ]
     },
     "metadata": {},
     "output_type": "display_data"
    },
    {
     "data": {
      "image/png": "[encoded data removed]",
      "text/plain": [
       "<Figure size 640x480 with 1 Axes>"
      ]
     },
     "metadata": {},
     "output_type": "display_data"
    }
   ],
   "source": [
    "# Plot the accuracy and loss curves.\n",
    "# Based on the curves, fine tune your model, for example by changing the number of epochs, learning rate, network architecture, etc.\n",
    "\n",
    "import matplotlib.pyplot as plt\n",
    "%matplotlib inline\n",
    "# summarize history for accuracy\n",
    "plt.plot(history2.history['accuracy'])\n",
    "plt.plot(history2.history['val_accuracy'])\n",
    "plt.title('model accuracy')\n",
    "plt.ylabel('accuracy')\n",
    "plt.xlabel('epoch')\n",
    "plt.legend(['train', 'validation'], loc='upper left')\n",
    "plt.show()\n",
    "# summarize history for loss\n",
    "plt.plot(history2.history['loss'])\n",
    "plt.plot(history2.history['val_loss'])\n",
    "plt.title('model loss')\n",
    "plt.ylabel('loss')\n",
    "plt.xlabel('epoch')\n",
    "plt.legend(['train', 'validation'], loc='upper left')\n",
    "plt.show()"
   ]
  },
  {
   "cell_type": "markdown",
   "metadata": {
    "id": "D_M0BmhW7dDB"
   },
   "source": [
    "**Evaluate the performance on *val1 set*.**"
   ]
  },
  {
   "cell_type": "code",
   "execution_count": 110,
   "metadata": {
    "id": "wTKsniWS7dDB"
   },
   "outputs": [
    {
     "name": "stdout",
     "output_type": "stream",
     "text": [
      "\u001b[1m55/55\u001b[0m \u001b[32m━━━━━━━━━━━━━━━━━━━━\u001b[0m\u001b[37m\u001b[0m \u001b[1m0s\u001b[0m 326us/step - accuracy: 0.3429 - loss: 1.3562\n"
     ]
    },
    {
     "data": {
      "text/plain": [
       "[1.3567711114883423, 0.35128939151763916]"
      ]
     },
     "execution_count": 110,
     "metadata": {},
     "output_type": "execute_result"
    }
   ],
   "source": [
    "# Evaluate model2 using the evaluate() function.\n",
    "\n",
    "model2.evaluate(val2_normalized, val2_labels) #[loss, accuracy]"
   ]
  },
  {
   "cell_type": "markdown",
   "metadata": {
    "id": "4j485u_Q7dDB"
   },
   "source": [
    "# Step 4 and 5: Combine models and evaluate the performance on *val2 set*"
   ]
  },
  {
   "cell_type": "code",
   "execution_count": 111,
   "metadata": {
    "id": "TNUHWCR47dDB"
   },
   "outputs": [
    {
     "name": "stdout",
     "output_type": "stream",
     "text": [
      "\u001b[1m55/55\u001b[0m \u001b[32m━━━━━━━━━━━━━━━━━━━━\u001b[0m\u001b[37m\u001b[0m \u001b[1m0s\u001b[0m 273us/step\n",
      "\u001b[1m55/55\u001b[0m \u001b[32m━━━━━━━━━━━━━━━━━━━━\u001b[0m\u001b[37m\u001b[0m \u001b[1m0s\u001b[0m 566us/step\n"
     ]
    },
    {
     "data": {
      "text/plain": [
       "array([[4.4004042e-02, 9.4002739e-02, 9.2978254e-02, 1.5324013e-02],\n",
       "       [8.7641507e-02, 6.0545683e-02, 3.0848710e-03, 1.0209055e-01],\n",
       "       [7.9692014e-02, 5.6795787e-02, 2.1794273e-03, 1.1591865e-01],\n",
       "       [1.3390861e-03, 8.9238454e-03, 2.3820318e-01, 1.2145993e-04],\n",
       "       [9.2152491e-02, 8.2157403e-02, 7.3524923e-03, 7.3224291e-02]],\n",
       "      dtype=float32)"
      ]
     },
     "execution_count": 111,
     "metadata": {},
     "output_type": "execute_result"
    }
   ],
   "source": [
    "# To combine model1 and model2 we can obtain the actual predictions from each model using the predict() function.\n",
    "# Its first argument is the features as numpy array.\n",
    "# This function returns a vector of probabilities for each row.\n",
    "# Each probability represents the likelihood of the corresponding class.\n",
    "\n",
    "# Make predictions on the val2 set using model 1.\n",
    "predictions1 = model1.predict(val2_normalized)\n",
    "\n",
    "# Make predictions on the val2 set using model 2.\n",
    "predictions2 = model2.predict(val2_normalized)\n",
    "\n",
    "# Combine the predictions by multiplying the probabilities.\n",
    "predictionsCombined = predictions1 * predictions2\n",
    "\n",
    "# Print the combined predictions of the first 5 instances.\n",
    "predictionsCombined[0:5,]"
   ]
  },
  {
   "cell_type": "code",
   "execution_count": 120,
   "metadata": {
    "id": "O0kPpt147dDB"
   },
   "outputs": [
    {
     "name": "stdout",
     "output_type": "stream",
     "text": [
      "0.6859598853868195\n",
      "0.6757107560108668\n"
     ]
    }
   ],
   "source": [
    "# Get the column index with max probability to get the predictions in integer format.\n",
    "predictions_int = np.argmax(predictionsCombined, axis=1)\n",
    "\n",
    "# Since the ground truth labels are also one-hot encoded we need to\n",
    "# get the index of the maximum value to obtain the predictions in integer format.\n",
    "true_values_int = np.argmax(val2_labels, axis=1)\n",
    "\n",
    "# Convert back to strings\n",
    "predictions_str = le.inverse_transform(predictions_int)\n",
    "\n",
    "true_values_str = le.inverse_transform(true_values_int)\n",
    "\n",
    "# Accuracy\n",
    "print(accuracy_score(true_values_str, predictions_str))\n",
    "\n",
    "# Recall\n",
    "print(recall_score(true_values_str, predictions_str, average='macro'))"
   ]
  },
  {
   "cell_type": "markdown",
   "metadata": {
    "id": "uN-fA61-7dDB"
   },
   "source": [
    "### Evaluate performance of model 1 with *val2 set*"
   ]
  },
  {
   "cell_type": "code",
   "execution_count": 123,
   "metadata": {
    "id": "Nge4db047dDB"
   },
   "outputs": [
    {
     "name": "stdout",
     "output_type": "stream",
     "text": [
      "Accuracy 0.6767908309455587\n",
      "Recall 0.6642675701316536\n"
     ]
    }
   ],
   "source": [
    "pred1_val2_classes = predictions1.argmax(axis=1) \n",
    "val2_labels_int = val2_labels.argmax(axis=1)\n",
    "\n",
    "accuracy_model1 = accuracy_score(val2_labels_int, pred1_val2_classes)\n",
    "recall_model1 = recall_score(val2_labels_int, pred1_val2_classes, average='macro')\n",
    "\n",
    "print(\"Accuracy\", accuracy_model1)\n",
    "print(\"Recall\", recall_model1)"
   ]
  },
  {
   "cell_type": "markdown",
   "metadata": {
    "id": "jmBH6Hje7dDB"
   },
   "source": [
    "### Evaluate performance of model 2 with *val2 set*"
   ]
  },
  {
   "cell_type": "code",
   "execution_count": 126,
   "metadata": {
    "id": "9VY-bMPN7dDB"
   },
   "outputs": [
    {
     "name": "stdout",
     "output_type": "stream",
     "text": [
      "Accuracy model 2: 0.3512893982808023\n",
      "Recall model 2: 0.36014688994980576\n"
     ]
    }
   ],
   "source": [
    "pred2_val2_classes = predictions2.argmax(axis=1) \n",
    "\n",
    "accuracy_model2 = accuracy_score(val2_labels_int, pred2_val2_classes)\n",
    "recall_model2 = recall_score(val2_labels_int, pred2_val2_classes, average='macro')\n",
    "\n",
    "print(\"Accuracy model 2:\", accuracy_model2)\n",
    "print(\"Recall model 2:\", recall_model2)"
   ]
  },
  {
   "cell_type": "markdown",
   "metadata": {
    "id": "s8lp8AsY7dDC"
   },
   "source": [
    "Was the performance of the combined models better than the other two models?\n",
    "If yes, proceed to evaluate your models with the *test set*. If not, iterate from step 2-5."
   ]
  },
  {
   "cell_type": "markdown",
   "metadata": {
    "id": "QsKs7pM87dDH"
   },
   "source": [
    "# Step 6: Evaluate on test set"
   ]
  },
  {
   "cell_type": "markdown",
   "metadata": {
    "id": "QcElyOiy7dDH"
   },
   "source": [
    "### Combined models"
   ]
  },
  {
   "cell_type": "code",
   "execution_count": 131,
   "metadata": {
    "id": "na46n7f77dDH"
   },
   "outputs": [
    {
     "name": "stdout",
     "output_type": "stream",
     "text": [
      "Combined models accuracy: 0.6859598853868195\n",
      "Accuracy model1: 0.6767908309455587\n",
      "Accuray model2: 0.3512893982808023\n"
     ]
    }
   ],
   "source": [
    "# Evaluate the accuracy and recall of the combined models on the test set.\n",
    "final_preds_val2 = predictionsCombined.argmax(axis=1)\n",
    "val2_labels_int = val2_labels.argmax(axis=1)  # Convertir etiquetas one-hot a enteros\n",
    "combined_accuracy = accuracy_score(val2_labels_int, final_preds_val2)\n",
    "\n",
    "print(\"Combined models accuracy:\", combined_accuracy)\n",
    "print(\"Accuracy model1:\", accuracy1_val2)\n",
    "print(\"Accuray model2:\", accuracy2_val2)\n"
   ]
  },
  {
   "cell_type": "code",
   "execution_count": 135,
   "metadata": {},
   "outputs": [],
   "source": [
    "test_labels_int = test_labels.argmax(axis=1)"
   ]
  },
  {
   "cell_type": "markdown",
   "metadata": {
    "id": "Ys22FTtE7dDH"
   },
   "source": [
    "### Model 1"
   ]
  },
  {
   "cell_type": "code",
   "execution_count": 137,
   "metadata": {
    "id": "P2DU_u6l7dDH"
   },
   "outputs": [
    {
     "name": "stdout",
     "output_type": "stream",
     "text": [
      "\u001b[1m55/55\u001b[0m \u001b[32m━━━━━━━━━━━━━━━━━━━━\u001b[0m\u001b[37m\u001b[0m \u001b[1m0s\u001b[0m 257us/step\n",
      "Accuracy model1 with test set: 0.6771788990825688\n",
      "Recall model1 with the test set: 0.6804583794412904\n"
     ]
    }
   ],
   "source": [
    "# Evaluate the accuracy and recall of model1 on the test set.\n",
    "\n",
    "\n",
    "pred1_test = model1.predict(test_normalized)\n",
    "pred1_test_classes = pred1_test.argmax(axis=1)  \n",
    "\n",
    "accuracy_model1_test = accuracy_score(test_labels_int, pred1_test_classes)\n",
    "recall_model1_test = recall_score(test_labels_int, pred1_test_classes, average='macro')\n",
    "\n",
    "print(\"Accuracy model1 with test set:\", accuracy_model1_test)\n",
    "print(\"Recall model1 with the test set:\", recall_model1_test)"
   ]
  },
  {
   "cell_type": "markdown",
   "metadata": {
    "id": "OpnGKSUx7dDH"
   },
   "source": [
    "### Model 2"
   ]
  },
  {
   "cell_type": "code",
   "execution_count": 138,
   "metadata": {
    "id": "yfnguAh-7dDH"
   },
   "outputs": [
    {
     "name": "stdout",
     "output_type": "stream",
     "text": [
      "\u001b[1m55/55\u001b[0m \u001b[32m━━━━━━━━━━━━━━━━━━━━\u001b[0m\u001b[37m\u001b[0m \u001b[1m0s\u001b[0m 327us/step\n",
      "Accuracy model2 with test set: 0.37672018348623854\n",
      "Recall model2 with the test set: 0.36894838525062484\n"
     ]
    }
   ],
   "source": [
    "# Evaluate the accuracy and recall of model1 on the test set.\n",
    "pred2_test = model2.predict(test_normalized)\n",
    "pred2_test_classes = pred2_test.argmax(axis=1)\n",
    "\n",
    "accuracy_model2_test = accuracy_score(test_labels_int, pred2_test_classes)\n",
    "recall_model2_test = recall_score(test_labels_int, pred2_test_classes, average='macro')\n",
    "\n",
    "\n",
    "print(\"Accuracy model2 with test set:\", accuracy_model2_test)\n",
    "print(\"Recall model2 with the test set:\", recall_model2_test)\n",
    "\n",
    "\n"
   ]
  },
  {
   "cell_type": "markdown",
   "metadata": {
    "id": "ZzeJ_e8s7dDH"
   },
   "source": [
    "**This is the end of the exercise!**"
   ]
  }
 ],
 "metadata": {
  "colab": {
   "provenance": []
  },
  "kernelspec": {
   "display_name": "Python 3 (ipykernel)",
   "language": "python",
   "name": "python3"
  },
  "language_info": {
   "codemirror_mode": {
    "name": "ipython",
    "version": 3
   },
   "file_extension": ".py",
   "mimetype": "text/x-python",
   "name": "python",
   "nbconvert_exporter": "python",
   "pygments_lexer": "ipython3",
   "version": "3.12.1"
  }
 },
 "nbformat": 4,
 "nbformat_minor": 4
}
